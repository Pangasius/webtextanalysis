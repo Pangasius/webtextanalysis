{
 "cells": [
  {
   "cell_type": "markdown",
   "metadata": {},
   "source": [
    "In this project, we will use an RNN architecture to build a Machine Translation model.\n",
    "\n",
    "It will use as a corpus wikipedia dumps.\n",
    "\n",
    "Either the source or the target will be English. We will, in our case, try English to French Translation."
   ]
  },
  {
   "cell_type": "code",
   "execution_count": null,
   "metadata": {},
   "outputs": [],
   "source": [
    "#imports\n",
    "!pip3 install numpy\n",
    "!pip3 install --pre torch torchvision torchaudio --extra-index-url https://download.pytorch.org/whl/nightly/cu117\n",
    "#or any nightly version so long as pytorch > 1.11 https://pytorch.org/\n",
    "!pip3 install gensim transformers d2l==1.0.0a1.post0\n",
    "\n",
    "#In pytorch functional.py, change PILLOW_VERSION to __version__\n",
    "#there are two places to change"
   ]
  },
  {
   "cell_type": "markdown",
   "metadata": {},
   "source": [
    "Dataset"
   ]
  },
  {
   "cell_type": "code",
   "execution_count": 1,
   "metadata": {},
   "outputs": [
    {
     "name": "stdout",
     "output_type": "stream",
     "text": [
      "source: tensor([[4228, 7757, 3505,  976, 8376, 4228, 7757, 2913,   72,  187,  188,  188,\n",
      "          188,  188,  188],\n",
      "        [4228, 2602,  944, 9140, 5226,   72,  187,  188,  188,  188,  188,  188,\n",
      "          188,  188,  188],\n",
      "        [3954, 9422, 3002,  910, 4958,  190,  187,  188,  188,  188,  188,  188,\n",
      "          188,  188,  188],\n",
      "        [4228, 3954, 5531,   72,  187,  188,  188,  188,  188,  188,  188,  188,\n",
      "          188,  188,  188],\n",
      "        [4069, 5731, 9106, 8387, 7132,  637, 5264,   72,  187,  188,  188,  188,\n",
      "          188,  188,  188]], dtype=torch.int32)\n",
      "decoder input: tensor([[  136,  7695, 10815,  9564,  6311, 12292,    27,   137,   138,   138,\n",
      "           138,   138,   138,   138,   138],\n",
      "        [  136,  7695, 10230,  3392, 10939, 12382, 10350, 10350, 14623, 12924,\n",
      "            27,   137,   138,   138,   138],\n",
      "        [  136,  1043,  7674, 16878, 14256,   140,   137,   138,   138,   138,\n",
      "           138,   138,   138,   138,   138],\n",
      "        [  136,  7550,  4035, 10359,    27,   137,   138,   138,   138,   138,\n",
      "           138,   138,   138,   138,   138],\n",
      "        [  136, 14418, 10563, 16791,  8490,  9939, 12382,  8490,  9561,    27,\n",
      "           137,   138,   138,   138,   138]], dtype=torch.int32)\n",
      "source len excluding pad: tensor([10,  7,  7,  5,  9], dtype=torch.int32)\n",
      "label: tensor([[ 7695, 10815,  9564,  6311, 12292,    27,   137,   138,   138,   138,\n",
      "           138,   138,   138,   138,   138],\n",
      "        [ 7695, 10230,  3392, 10939, 12382, 10350, 10350, 14623, 12924,    27,\n",
      "           137,   138,   138,   138,   138],\n",
      "        [ 1043,  7674, 16878, 14256,   140,   137,   138,   138,   138,   138,\n",
      "           138,   138,   138,   138,   138],\n",
      "        [ 7550,  4035, 10359,    27,   137,   138,   138,   138,   138,   138,\n",
      "           138,   138,   138,   138,   138],\n",
      "        [14418, 10563, 16791,  8490,  9939, 12382,  8490,  9561,    27,   137,\n",
      "           138,   138,   138,   138,   138]], dtype=torch.int32)\n"
     ]
    }
   ],
   "source": [
    "#Test samples location and preprocessing\n",
    "\n",
    "#cell almost entirely from https://d2l.ai/chapter_recurrent-modern/machine-translation-and-dataset.html\n",
    "import os\n",
    "import torch\n",
    "from d2l import torch as d2l\n",
    "\n",
    "class MTFraEng(d2l.DataModule):  #@save\n",
    "    def _download(self):\n",
    "        d2l.extract(d2l.download(\n",
    "            d2l.DATA_URL+'fra-eng.zip', self.root,\n",
    "            '94646ad1522d915e7b0f9296181140edcf86a4f5'))\n",
    "        with open(self.root + '/fra-eng/fra.txt', encoding='utf-8') as f:\n",
    "            return f.read()\n",
    "\n",
    "@d2l.add_to_class(MTFraEng)  #@save\n",
    "def _preprocess(self, text):\n",
    "    # Replace non-breaking space with space\n",
    "    text = text.replace('\\u202f', ' ').replace('\\xa0', ' ')\n",
    "    # Insert space between words and punctuation marks\n",
    "    no_space = lambda char, prev_char: char in ',.!?' and prev_char != ' '\n",
    "    out = [' ' + char if i > 0 and no_space(char, text[i - 1]) else char\n",
    "           for i, char in enumerate(text.lower())]\n",
    "    return ''.join(out)\n",
    "\n",
    "@d2l.add_to_class(MTFraEng)  #@save\n",
    "def _tokenize(self, text, max_examples=None):\n",
    "    src, tgt = [], []\n",
    "    for i, line in enumerate(text.split('\\n')):\n",
    "        if max_examples and i > max_examples: break\n",
    "        parts = line.split('\\t')\n",
    "        if len(parts) == 2:\n",
    "            # Skip empty tokens\n",
    "            src.append([t for t in f'{parts[0]} <eos>'.split(' ') if t])  # src.append(EOS_token) ? \n",
    "            tgt.append([t for t in f'{parts[1]} <eos>'.split(' ') if t])\n",
    "    return src, tgt\n",
    "\n",
    "@d2l.add_to_class(MTFraEng)  #@save\n",
    "def __init__(self, batch_size, num_steps=15, num_train=162000):\n",
    "    super(MTFraEng, self).__init__()\n",
    "    self.save_hyperparameters()\n",
    "    self.arrays, self.src_vocab, self.tgt_vocab = self._build_arrays(\n",
    "        self._download())\n",
    "\n",
    "\n",
    "@d2l.add_to_class(MTFraEng)  #@save\n",
    "def _build_arrays(self, raw_text, src_vocab=None, tgt_vocab=None):\n",
    "    def _build_array(sentences, vocab, is_tgt=False):\n",
    "        pad_or_trim = lambda seq, t: (\n",
    "            seq[:t] if len(seq) > t else seq + ['<pad>'] * (t - len(seq)))\n",
    "        sentences = [pad_or_trim(s, self.num_steps) for s in sentences]\n",
    "        if is_tgt:\n",
    "            sentences = [['<bos>'] + s for s in sentences]\n",
    "        if vocab is None:\n",
    "            vocab = d2l.Vocab(sentences, min_freq=2)\n",
    "        array = torch.tensor([vocab[s] for s in sentences])\n",
    "        valid_len = (array != vocab['<pad>']).type(torch.int32).sum(1)\n",
    "        return array, vocab, valid_len\n",
    "    src, tgt = self._tokenize(self._preprocess(raw_text),\n",
    "                              self.num_train)\n",
    "    src_array, src_vocab, src_valid_len = _build_array(src, src_vocab)\n",
    "    tgt_array, tgt_vocab, _ = _build_array(tgt, tgt_vocab, True)\n",
    "    return ((src_array, tgt_array[:,:-1], src_valid_len, tgt_array[:,1:]),\n",
    "            src_vocab, tgt_vocab)\n",
    "\n",
    "@d2l.add_to_class(MTFraEng)  #@save\n",
    "def get_dataloader(self, train):\n",
    "    idx = slice(0, self.num_train) if train else slice(self.num_train, None)\n",
    "    return self.get_tensorloader(self.arrays, train, idx)\n",
    "\n",
    "data = MTFraEng(batch_size=5)\n",
    "    \n",
    "src, tgt, src_valid_len, label = next(iter(data.train_dataloader()))\n",
    "print('source:', src.type(torch.int32))\n",
    "print('decoder input:', tgt.type(torch.int32))\n",
    "print('source len excluding pad:', src_valid_len.type(torch.int32))\n",
    "print('label:', label.type(torch.int32))\n",
    "\n",
    "@d2l.add_to_class(MTFraEng)  #@save\n",
    "def build(self, src_sentences, tgt_sentences):\n",
    "    raw_text = '\\n'.join([src + '\\t' + tgt for src, tgt in zip(\n",
    "        src_sentences, tgt_sentences)])\n",
    "    arrays, _, _ = self._build_arrays(\n",
    "        raw_text, self.src_vocab, self.tgt_vocab)\n",
    "    return arrays\n",
    "\n",
    "#src, tgt, _,  _ = data.build(['hi .'], ['salut .'])\n",
    "#print('source:', data.src_vocab.to_tokens(src[0].type(torch.int32)))\n",
    "#print('target:', data.tgt_vocab.to_tokens(tgt[0].type(torch.int32)))"
   ]
  },
  {
   "cell_type": "markdown",
   "metadata": {},
   "source": [
    "Word embedding\n",
    "\n",
    "# We will use three different types of word embeddings:\n",
    "# 1. Word2Vec\n",
    "# 2. GloVe\n",
    "# 3. FastText\n"
   ]
  },
  {
   "cell_type": "code",
   "execution_count": 2,
   "metadata": {},
   "outputs": [],
   "source": [
    "\"\"\"## Word2Vec\"\"\"\n",
    "import gensim"
   ]
  },
  {
   "cell_type": "code",
   "execution_count": 3,
   "metadata": {},
   "outputs": [
    {
     "name": "stdout",
     "output_type": "stream",
     "text": [
      "C:\\Users\\gille\\AppData\\Local\\Temp\\ipykernel_10644\n",
      "c:\\Users\\gille\\OneDrive\\Desktop\\web\\webtextanalysis\n",
      "c:\\Users\\gille\\miniconda3\\envs\\thesis\\lib\\site-packages\\ipykernel_launcher.py\n"
     ]
    }
   ],
   "source": [
    "#keep in mind you have to launch the notebook inside the git folder to make this work (second one)\n",
    "from inspect import getsourcefile\n",
    "import sys\n",
    "print(os.path.dirname(getsourcefile(lambda:0)))\n",
    "print(sys.path[0])\n",
    "print(os.path.abspath(sys.argv[0]))"
   ]
  },
  {
   "cell_type": "code",
   "execution_count": 4,
   "metadata": {},
   "outputs": [],
   "source": [
    "import numpy as np\n",
    "\n",
    "def save_split():\n",
    "    data = MTFraEng(batch_size=5)\n",
    "    with open(\"samples/source.txt\", \"w\") as f:\n",
    "        for i in range(0, data.num_train):\n",
    "            for word in data.arrays[0][i].numpy() :\n",
    "                f.write(str(word) + \" \")\n",
    "            f.write(\"\\n\")\n",
    "            \n",
    "    with open(\"samples/target.txt\", \"w\") as f:\n",
    "        for i in range(0, data.num_train):\n",
    "            for word in data.arrays[1][i].numpy() :\n",
    "                f.write(str(word) + \" \")\n",
    "            f.write(\"\\n\")\n",
    "            \n",
    "def load_source():\n",
    "    return np.loadtxt(\"samples/source.txt\", dtype=str)\n",
    "\n",
    "def load_target():\n",
    "    return np.loadtxt(\"samples/target.txt\", dtype=str)\n",
    "\n",
    "def word_to_token(word, src=True):\n",
    "    if src :\n",
    "        return data.src_vocab[word]\n",
    "    else :\n",
    "        return data.tgt_vocab[word]\n",
    "\n",
    "def token_to_word(token, src=True):\n",
    "    if src :\n",
    "        return data.src_vocab.to_tokens(token)\n",
    "    else :\n",
    "        return data.tgt_vocab.to_tokens(token)\n",
    "\n",
    "def test_similarity(model, word1, word2, model_name, src=True):\n",
    "    print(\"Cosine similarity between '\" + word1 + \"' and '\"+ word2 +\"' - \" + model_name + \" : \" + str(model.similarity(word_to_token(word1, src), word_to_token(word2, src))))\n"
   ]
  },
  {
   "cell_type": "code",
   "execution_count": 5,
   "metadata": {},
   "outputs": [],
   "source": [
    "data = MTFraEng(batch_size=5)"
   ]
  },
  {
   "cell_type": "code",
   "execution_count": 6,
   "metadata": {},
   "outputs": [
    {
     "name": "stdout",
     "output_type": "stream",
     "text": [
      "['go', '.', '<eos>', '<pad>', '<pad>', '<pad>', '<pad>', '<pad>', '<pad>', '<pad>', '<pad>', '<pad>', '<pad>', '<pad>', '<pad>']\n",
      "['hi', '.', '<eos>', '<pad>', '<pad>', '<pad>', '<pad>', '<pad>', '<pad>', '<pad>', '<pad>', '<pad>', '<pad>', '<pad>', '<pad>']\n",
      "['run', '!', '<eos>', '<pad>', '<pad>', '<pad>', '<pad>', '<pad>', '<pad>', '<pad>', '<pad>', '<pad>', '<pad>', '<pad>', '<pad>']\n",
      "['run', '!', '<eos>', '<pad>', '<pad>', '<pad>', '<pad>', '<pad>', '<pad>', '<pad>', '<pad>', '<pad>', '<pad>', '<pad>', '<pad>']\n",
      "['who', '?', '<eos>', '<pad>', '<pad>', '<pad>', '<pad>', '<pad>', '<pad>', '<pad>', '<pad>', '<pad>', '<pad>', '<pad>', '<pad>']\n",
      "['<bos>', 'va', '!', '<eos>', '<pad>', '<pad>', '<pad>', '<pad>', '<pad>', '<pad>', '<pad>', '<pad>', '<pad>', '<pad>', '<pad>']\n",
      "['<bos>', 'salut', '!', '<eos>', '<pad>', '<pad>', '<pad>', '<pad>', '<pad>', '<pad>', '<pad>', '<pad>', '<pad>', '<pad>', '<pad>']\n",
      "['<bos>', 'cours', '!', '<eos>', '<pad>', '<pad>', '<pad>', '<pad>', '<pad>', '<pad>', '<pad>', '<pad>', '<pad>', '<pad>', '<pad>']\n",
      "['<bos>', 'courez', '!', '<eos>', '<pad>', '<pad>', '<pad>', '<pad>', '<pad>', '<pad>', '<pad>', '<pad>', '<pad>', '<pad>', '<pad>']\n",
      "['<bos>', 'qui', '?', '<eos>', '<pad>', '<pad>', '<pad>', '<pad>', '<pad>', '<pad>', '<pad>', '<pad>', '<pad>', '<pad>', '<pad>']\n"
     ]
    }
   ],
   "source": [
    "#print a few samples\n",
    "for i in range(5):\n",
    "    print(token_to_word(data.arrays[0][i].numpy(), True))\n",
    "\n",
    "for i in range(5):\n",
    "    print(token_to_word(data.arrays[1][i].numpy(), False))"
   ]
  },
  {
   "cell_type": "code",
   "execution_count": 7,
   "metadata": {},
   "outputs": [],
   "source": [
    "if not os.path.exists(sys.path[0] + \"/samples/source.txt\") or not os.path.exists(sys.path[0] + \"/samples/target.txt\"):\n",
    "    save_split()"
   ]
  },
  {
   "cell_type": "code",
   "execution_count": 8,
   "metadata": {},
   "outputs": [
    {
     "name": "stdout",
     "output_type": "stream",
     "text": [
      "[['3681'], ['72'], ['187'], ['188'], ['188']]\n",
      "['go', '.', '<eos>', '<pad>', '<pad>']\n",
      "[['136'], ['15923'], ['0'], ['137'], ['138']]\n",
      "['<bos>', 'va', '!', '<eos>', '<pad>']\n"
     ]
    }
   ],
   "source": [
    "\n",
    "source_text = load_source()\n",
    "one_line_source = source_text.reshape([np.prod(source_text.shape)])\n",
    "\n",
    "#format to be accepted by Word2Vec\n",
    "one_line_source = [str(i).split() for i in one_line_source]\n",
    "\n",
    "print(one_line_source[:5])\n",
    "#print in words \n",
    "print([token_to_word(int(i[0]), src=True) for i in one_line_source[:5]])\n",
    "\n",
    "\n",
    "\n",
    "target_text = load_target()\n",
    "one_line_target = target_text.reshape([np.prod(target_text.shape)])\n",
    "\n",
    "#format to be accepted by Word2Vec\n",
    "one_line_target = [str(i).split() for i in one_line_target]\n",
    "\n",
    "print(one_line_target[:5])\n",
    "#print in words \n",
    "print([token_to_word(int(i[0]), src=False) for i in one_line_target[:5]])"
   ]
  },
  {
   "cell_type": "code",
   "execution_count": 9,
   "metadata": {},
   "outputs": [
    {
     "name": "stdout",
     "output_type": "stream",
     "text": [
      "[['3681'], ['72'], ['187'], ['188'], ['188']]\n"
     ]
    }
   ],
   "source": [
    "\"\"\"## Word2Vec\"\"\"\n",
    "\n",
    "print(one_line_source[:5])\n",
    "\n",
    "if not os.path.exists(sys.path[0] + \"/models/source_w2v_cbow.txt\"):\n",
    "    # Create CBOW model\n",
    "    source_w2v_model_cbow = gensim.models.Word2Vec(one_line_source, min_count = 3,\n",
    "                                vector_size = 100, window = 5)\n",
    "\n",
    "if not os.path.exists(sys.path[0] + \"/models/source_w2v_skip.txt\"):\n",
    "    # Create Skip Gram model\n",
    "    source_w2v_model_skip = gensim.models.Word2Vec(one_line_source, min_count = 3, vector_size = 100,\n",
    "                                                window = 5, sg = 1)"
   ]
  },
  {
   "cell_type": "code",
   "execution_count": 10,
   "metadata": {},
   "outputs": [],
   "source": [
    "#save the models\n",
    "if not os.path.exists(sys.path[0] + \"/models/source_w2v_cbow.txt\"):\n",
    "    source_w2v_model_cbow.wv.save_word2vec_format(sys.path[0] + \"/models/source_w2v_cbow.txt\", binary=False)\n",
    "    \n",
    "if not os.path.exists(sys.path[0] + \"/models/source_w2v_skip.txt\"):\n",
    "    source_w2v_model_skip.wv.save_word2vec_format(sys.path[0] + \"/models/source_w2v_skip.txt\", binary=False)"
   ]
  },
  {
   "cell_type": "code",
   "execution_count": 11,
   "metadata": {},
   "outputs": [],
   "source": [
    "#load the models\n",
    "source_w2v_model_cbow = gensim.models.KeyedVectors.load_word2vec_format(sys.path[0] + \"/models/source_w2v_cbow.txt\", binary=False)\n",
    "source_w2v_model_skip = gensim.models.KeyedVectors.load_word2vec_format(sys.path[0] + \"/models/source_w2v_skip.txt\", binary=False)"
   ]
  },
  {
   "cell_type": "code",
   "execution_count": 28,
   "metadata": {},
   "outputs": [
    {
     "name": "stdout",
     "output_type": "stream",
     "text": [
      "Cosine similarity between 'hi' and '.' - CBOW : -0.03504046\n",
      "Cosine similarity between 'hi' and 'run' - CBOW : -0.0359637\n",
      "Cosine similarity between 'hi' and '.' - SkipGram : -0.03504046\n",
      "Cosine similarity between 'hi' and 'run' - SkipGram : -0.0359637\n"
     ]
    }
   ],
   "source": [
    "test_similarity(source_w2v_model_cbow, 'hi', '.', \"CBOW\")\n",
    "test_similarity(source_w2v_model_cbow, 'hi', 'run', \"CBOW\")\n",
    "\n",
    "test_similarity(source_w2v_model_skip, 'hi', '.', \"SkipGram\")\n",
    "test_similarity(source_w2v_model_skip, 'hi', 'run', \"SkipGram\")"
   ]
  },
  {
   "cell_type": "code",
   "execution_count": 14,
   "metadata": {},
   "outputs": [],
   "source": [
    "\"\"\"## GloVe\"\"\"\n",
    "\n",
    "# coding: utf-8\n",
    "from gensim.models import KeyedVectors"
   ]
  },
  {
   "cell_type": "code",
   "execution_count": null,
   "metadata": {},
   "outputs": [],
   "source": [
    "#once we have the tokenized file, we can call the glove model\n",
    "\n",
    "####CALL FROM BASH glove_run.py"
   ]
  },
  {
   "cell_type": "code",
   "execution_count": 15,
   "metadata": {},
   "outputs": [],
   "source": [
    "#Only do this once\n",
    "source_file = sys.path[0] + '\\\\models\\\\source_glove.txt'\n",
    "target_file = sys.path[0] + '\\\\models\\\\target_glove.txt'\n",
    "# Load the model, can take a bit of time\n",
    "source_glove_model = KeyedVectors.load_word2vec_format(source_file, binary=False, no_header=True)\n",
    "target_glove_model = KeyedVectors.load_word2vec_format(source_file, binary=False, no_header=True)"
   ]
  },
  {
   "cell_type": "code",
   "execution_count": 27,
   "metadata": {},
   "outputs": [
    {
     "name": "stdout",
     "output_type": "stream",
     "text": [
      "Cosine similarity between 'hi' and '.' - GloVe : -0.023363404\n",
      "Cosine similarity between 'hi' and 'run' - GloVe : 0.16520041\n",
      "Cosine similarity between 'bonjour' and '.' - GloVe : -0.10502927\n",
      "Cosine similarity between 'bonjour' and 'cours' - GloVe : 0.49622986\n"
     ]
    }
   ],
   "source": [
    "\n",
    "# Test the model\n",
    "test_similarity(source_glove_model, 'hi', '.', \"GloVe\", src=True)\n",
    "test_similarity(source_glove_model, 'hi', 'run', \"GloVe\", src=True)\n",
    "\n",
    "test_similarity(target_glove_model, 'bonjour', '.', \"GloVe\", src=False)\n",
    "test_similarity(target_glove_model, 'bonjour', 'cours', \"GloVe\", src=False)"
   ]
  },
  {
   "cell_type": "markdown",
   "metadata": {},
   "source": [
    "#FastText"
   ]
  },
  {
   "cell_type": "code",
   "execution_count": 17,
   "metadata": {},
   "outputs": [],
   "source": [
    "\"\"\"## FastText\"\"\"\n",
    "from gensim.models import FastText\n",
    "\n",
    "#if not saved yet we train it\n",
    "if not os.path.exists(sys.path[0] + \"/models/source_fast.txt\"):\n",
    "    source_fast_model = FastText(vector_size=100, window=5, min_count=3)\n",
    "    source_fast_model.build_vocab(corpus_file=sys.path[0] + '/models/source_glove.txt')\n",
    "    source_fast_model.train(corpus_file=sys.path[0] + '/models/source_glove.txt', epochs=10, total_examples=source_fast_model.corpus_count, total_words=source_fast_model.corpus_total_words)\n"
   ]
  },
  {
   "cell_type": "code",
   "execution_count": 18,
   "metadata": {},
   "outputs": [],
   "source": [
    "if not os.path.exists(sys.path[0] + \"/models/target_fast.txt\"):\n",
    "    target_fast_model = FastText(vector_size=100, window=5, min_count=3)\n",
    "    target_fast_model.build_vocab(corpus_file=sys.path[0] + '/models/target_glove.txt')\n",
    "    target_fast_model.train(corpus_file=sys.path[0] + '/models/target_glove.txt', epochs=10, total_examples=target_fast_model.corpus_count, total_words=target_fast_model.corpus_total_words)"
   ]
  },
  {
   "cell_type": "code",
   "execution_count": 19,
   "metadata": {},
   "outputs": [],
   "source": [
    "if not os.path.exists(sys.path[0] + \"/models/source_fast.txt\"):\n",
    "    source_fast_model.wv.save_word2vec_format(sys.path[0] + \"/models/source_fast.txt\", binary=False)\n",
    "if not os.path.exists(sys.path[0] + \"/models/target_fast.txt\"):\n",
    "    target_fast_model.wv.save_word2vec_format(sys.path[0] + \"/models/target_fast.txt\", binary=False)"
   ]
  },
  {
   "cell_type": "code",
   "execution_count": 24,
   "metadata": {},
   "outputs": [],
   "source": [
    "#if saved we load it\n",
    "source_fast_model = KeyedVectors.load_word2vec_format(sys.path[0] + \"/models/source_fast.txt\", binary=False)\n",
    "target_fast_model = KeyedVectors.load_word2vec_format(sys.path[0] + \"/models/target_fast.txt\", binary=False)"
   ]
  },
  {
   "cell_type": "code",
   "execution_count": 26,
   "metadata": {},
   "outputs": [
    {
     "name": "stdout",
     "output_type": "stream",
     "text": [
      "Cosine similarity between 'hi' and '.' - FastText : 0.9977067\n",
      "Cosine similarity between 'hi' and 'run' - FastText : 0.9935173\n",
      "Cosine similarity between 'bonjour' and '.' - FastText : 0.9882144\n",
      "Cosine similarity between 'bonjour' and 'cours' - FastText : 0.020016646\n"
     ]
    }
   ],
   "source": [
    "test_similarity(source_fast_model,'hi', '.', \"FastText\", src=True)\n",
    "test_similarity(source_fast_model,'hi', 'run', \"FastText\", src=True)\n",
    "\n",
    "test_similarity(target_fast_model,'bonjour', '.', \"FastText\", src=False)\n",
    "test_similarity(target_fast_model,'bonjour', 'cours', \"FastText\", src=False)"
   ]
  },
  {
   "cell_type": "markdown",
   "metadata": {},
   "source": [
    "RNN"
   ]
  },
  {
   "cell_type": "code",
   "execution_count": 78,
   "metadata": {},
   "outputs": [],
   "source": [
    "# Now we can create the RNN model that will translate from english to french using one of the previous embeddings\n",
    "\n",
    "from torch import nn\n",
    "import torch.nn.functional as F\n",
    "\n",
    "class RNN(nn.Module):\n",
    "    def __init__(self, hidden_dim, embedding_model, batchsize):\n",
    "        super(RNN, self).__init__()\n",
    "        self.hidden_dim = hidden_dim\n",
    "\n",
    "        self.word_embeddings = embedding_model\n",
    "        \n",
    "        self.batch_size = batchsize\n",
    "\n",
    "        # The LSTM takes word embeddings as inputs, and outputs hidden states\n",
    "        # with dimensionality hidden_dim.\n",
    "        self.embedding_dim = embedding_model.vector_size\n",
    "        self.lstm = nn.LSTM(self.embedding_dim, hidden_dim)\n",
    "\n",
    "        # The linear layer that maps from hidden state space to tag space\n",
    "        tagset_size=len(embedding_model.key_to_index)\n",
    "        self.hidden2tag = nn.Linear(hidden_dim, tagset_size)\n",
    "\n",
    "    def forward(self, input_sentence):\n",
    "        #words_embeddings is a gensim model\n",
    "        embeds = torch.tensor([[self.word_embeddings[word] if word in self.word_embeddings else self.word_embeddings.vectors.mean(axis=0) for word in sentence] for sentence in input_sentence]).to(\"cuda\" if torch.cuda.is_available() else \"cpu\")\n",
    "        \n",
    "        lstm_out, _ = self.lstm(embeds.view(self.batch_size, len(sentence), self.embedding_dim))\n",
    "        tag_space = self.hidden2tag(self.batch_size, lstm_out.view(self.batch_size, len(sentence), self.embedding_dim))\n",
    "        tag_scores = F.log_softmax(self.batch_size, tag_space, dim=1)\n",
    "        return tag_scores"
   ]
  },
  {
   "cell_type": "code",
   "execution_count": 74,
   "metadata": {},
   "outputs": [],
   "source": [
    "#From this model we can create a loss function and an optimizer\n",
    "\n",
    "def loss_function(predicted_sentence, target_sentence):\n",
    "    loss = 0\n",
    "    for i in range(len(predicted_sentence)):\n",
    "        loss += F.nll_loss(predicted_sentence[i], target_sentence[i])\n",
    "    return loss\n",
    "    "
   ]
  },
  {
   "cell_type": "code",
   "execution_count": null,
   "metadata": {},
   "outputs": [],
   "source": [
    "batch_size = 5\n",
    "\n",
    "data = MTFraEng(batch_size=batch_size)"
   ]
  },
  {
   "cell_type": "code",
   "execution_count": 80,
   "metadata": {},
   "outputs": [
    {
     "name": "stdout",
     "output_type": "stream",
     "text": [
      "tensor([[8385, 5435, 5731,   72,  187,  188,  188,  188,  188,  188,  188,  188,\n",
      "          188,  188,  188],\n",
      "        [9422,  595, 8547, 2091, 5678, 5781, 7434,   72,  187,  188,  188,  188,\n",
      "          188,  188,  188],\n",
      "        [4228,  441, 1862, 9219, 7478, 4538, 6241,  478, 9219,  189,   72,  187,\n",
      "          188,  188,  188],\n",
      "        [3640,  192, 4597,   72,  187,  188,  188,  188,  188,  188,  188,  188,\n",
      "          188,  188,  188],\n",
      "        [9197,  595, 9422, 1962,  190,  187,  188,  188,  188,  188,  188,  188,\n",
      "          188,  188,  188]])\n",
      "tensor([[  136,  1859,  9664, 10563,    27,   137,   138,   138,   138,   138,\n",
      "           138,   138,   138,   138,   138],\n",
      "        [  136, 15789,  5551, 15724,  3372,  4035,  4775,  4035,  1281,    27,\n",
      "           137,   138,   138,   138,   138],\n",
      "        [  136,  7695,  2862, 15496, 12383,  3538,  5630,   139,  5641, 12383,\n",
      "          3538,   139,    27,   137,   138],\n",
      "        [  136, 15745, 15870,  5278,     0,   137,   138,   138,   138,   138,\n",
      "           138,   138,   138,   138,   138],\n",
      "        [  136, 12323, 12382, 15789,  3468,   140,   137,   138,   138,   138,\n",
      "           138,   138,   138,   138,   138]])\n"
     ]
    },
    {
     "ename": "RuntimeError",
     "evalue": "shape '[5, 5, 100]' is invalid for input of size 7500",
     "output_type": "error",
     "traceback": [
      "\u001b[1;31m---------------------------------------------------------------------------\u001b[0m",
      "\u001b[1;31mRuntimeError\u001b[0m                              Traceback (most recent call last)",
      "Cell \u001b[1;32mIn [80], line 28\u001b[0m\n\u001b[0;32m     24\u001b[0m tags \u001b[39m=\u001b[39m tgt\u001b[39m.\u001b[39mto(device)\n\u001b[0;32m     26\u001b[0m model\u001b[39m.\u001b[39mzero_grad()\n\u001b[1;32m---> 28\u001b[0m tag_scores \u001b[39m=\u001b[39m model(sentence)\n\u001b[0;32m     30\u001b[0m loss \u001b[39m=\u001b[39m loss_function(tag_scores, tags)\n\u001b[0;32m     31\u001b[0m loss\u001b[39m.\u001b[39mbackward()\n",
      "File \u001b[1;32mc:\\Users\\gille\\miniconda3\\envs\\thesis\\lib\\site-packages\\torch\\nn\\modules\\module.py:1423\u001b[0m, in \u001b[0;36mModule._call_impl\u001b[1;34m(self, *input, **kwargs)\u001b[0m\n\u001b[0;32m   1418\u001b[0m \u001b[39m# If we don't have any hooks, we want to skip the rest of the logic in\u001b[39;00m\n\u001b[0;32m   1419\u001b[0m \u001b[39m# this function, and just call forward.\u001b[39;00m\n\u001b[0;32m   1420\u001b[0m \u001b[39mif\u001b[39;00m \u001b[39mnot\u001b[39;00m (\u001b[39mself\u001b[39m\u001b[39m.\u001b[39m_backward_hooks \u001b[39mor\u001b[39;00m \u001b[39mself\u001b[39m\u001b[39m.\u001b[39m_backward_pre_hooks \u001b[39mor\u001b[39;00m \u001b[39mself\u001b[39m\u001b[39m.\u001b[39m_forward_hooks \u001b[39mor\u001b[39;00m \u001b[39mself\u001b[39m\u001b[39m.\u001b[39m_forward_pre_hooks\n\u001b[0;32m   1421\u001b[0m         \u001b[39mor\u001b[39;00m _global_backward_pre_hooks \u001b[39mor\u001b[39;00m _global_backward_hooks\n\u001b[0;32m   1422\u001b[0m         \u001b[39mor\u001b[39;00m _global_forward_hooks \u001b[39mor\u001b[39;00m _global_forward_pre_hooks):\n\u001b[1;32m-> 1423\u001b[0m     \u001b[39mreturn\u001b[39;00m forward_call(\u001b[39m*\u001b[39m\u001b[39minput\u001b[39m, \u001b[39m*\u001b[39m\u001b[39m*\u001b[39mkwargs)\n\u001b[0;32m   1424\u001b[0m \u001b[39m# Do not call functions when jit is used\u001b[39;00m\n\u001b[0;32m   1425\u001b[0m full_backward_hooks, non_full_backward_hooks \u001b[39m=\u001b[39m [], []\n",
      "Cell \u001b[1;32mIn [78], line 28\u001b[0m, in \u001b[0;36mRNN.forward\u001b[1;34m(self, input_sentence)\u001b[0m\n\u001b[0;32m     24\u001b[0m \u001b[39mdef\u001b[39;00m \u001b[39mforward\u001b[39m(\u001b[39mself\u001b[39m, input_sentence):\n\u001b[0;32m     25\u001b[0m     \u001b[39m#words_embeddings is a gensim model\u001b[39;00m\n\u001b[0;32m     26\u001b[0m     embeds \u001b[39m=\u001b[39m torch\u001b[39m.\u001b[39mtensor([[\u001b[39mself\u001b[39m\u001b[39m.\u001b[39mword_embeddings[word] \u001b[39mif\u001b[39;00m word \u001b[39min\u001b[39;00m \u001b[39mself\u001b[39m\u001b[39m.\u001b[39mword_embeddings \u001b[39melse\u001b[39;00m \u001b[39mself\u001b[39m\u001b[39m.\u001b[39mword_embeddings\u001b[39m.\u001b[39mvectors\u001b[39m.\u001b[39mmean(axis\u001b[39m=\u001b[39m\u001b[39m0\u001b[39m) \u001b[39mfor\u001b[39;00m word \u001b[39min\u001b[39;00m sentence] \u001b[39mfor\u001b[39;00m sentence \u001b[39min\u001b[39;00m input_sentence])\u001b[39m.\u001b[39mto(\u001b[39m\"\u001b[39m\u001b[39mcuda\u001b[39m\u001b[39m\"\u001b[39m \u001b[39mif\u001b[39;00m torch\u001b[39m.\u001b[39mcuda\u001b[39m.\u001b[39mis_available() \u001b[39melse\u001b[39;00m \u001b[39m\"\u001b[39m\u001b[39mcpu\u001b[39m\u001b[39m\"\u001b[39m)\n\u001b[1;32m---> 28\u001b[0m     lstm_out, _ \u001b[39m=\u001b[39m \u001b[39mself\u001b[39m\u001b[39m.\u001b[39mlstm(embeds\u001b[39m.\u001b[39;49mview(\u001b[39mself\u001b[39;49m\u001b[39m.\u001b[39;49mbatch_size, \u001b[39mlen\u001b[39;49m(sentence), \u001b[39mself\u001b[39;49m\u001b[39m.\u001b[39;49membedding_dim))\n\u001b[0;32m     29\u001b[0m     tag_space \u001b[39m=\u001b[39m \u001b[39mself\u001b[39m\u001b[39m.\u001b[39mhidden2tag(\u001b[39mself\u001b[39m\u001b[39m.\u001b[39mbatch_size, lstm_out\u001b[39m.\u001b[39mview(\u001b[39mself\u001b[39m\u001b[39m.\u001b[39mbatch_size, \u001b[39mlen\u001b[39m(sentence), \u001b[39mself\u001b[39m\u001b[39m.\u001b[39membedding_dim))\n\u001b[0;32m     30\u001b[0m     tag_scores \u001b[39m=\u001b[39m F\u001b[39m.\u001b[39mlog_softmax(\u001b[39mself\u001b[39m\u001b[39m.\u001b[39mbatch_size, tag_space, dim\u001b[39m=\u001b[39m\u001b[39m1\u001b[39m)\n",
      "\u001b[1;31mRuntimeError\u001b[0m: shape '[5, 5, 100]' is invalid for input of size 7500"
     ]
    }
   ],
   "source": [
    "#Now we can train the model\n",
    "import torch\n",
    "\n",
    "device = torch.device(\"cuda\" if torch.cuda.is_available() else \"cpu\")\n",
    "\n",
    "embedding_model = source_fast_model\n",
    "\n",
    "\n",
    "model = RNN(hidden_dim=100, embedding_model=embedding_model, batchsize = batch_size).to(device)\n",
    "\n",
    "optimizer = torch.optim.SGD(model.parameters(), lr=0.1)\n",
    "\n",
    "n_epoch = 10\n",
    "\n",
    "for epoch in range(n_epoch):\n",
    "    for src, tgt, src_valid_len, label in data.train_dataloader():\n",
    "        print(src)\n",
    "        print(tgt)\n",
    "        \n",
    "        sentence = src.to(device)\n",
    "        tags = tgt.to(device)\n",
    "\n",
    "        model.zero_grad()\n",
    "\n",
    "        tag_scores = model(sentence)\n",
    "\n",
    "        loss = loss_function(tag_scores, tags)\n",
    "        loss.backward()\n",
    "        optimizer.step()\n",
    "        \n",
    "    #here we can use the test data to evaluate the model\n",
    "    \n",
    "    losses = torch.zeros(len(data.test_dataloader()))\n",
    "    \n",
    "    for src, tgt, src_valid_len, label  in data.test_dataloader():\n",
    "        sentence = src.to(device)\n",
    "        tags = tgt.to(device)\n",
    "\n",
    "        tag_scores = model(sentence)\n",
    "\n",
    "        loss = loss_function(tag_scores, tags)\n",
    "        \n",
    "        losses.append(loss.item())\n",
    "        \n",
    "    print(\"Epoch \" + str(epoch) + \" : \" + str(losses.mean()))\n",
    "    print(\"Std : \" + str(losses.std()))\n",
    "        \n",
    "\n",
    "    print(\"Epoch: {}/{}.............\".format(epoch, n_epoch), end=\" \")\n",
    "    print(\"Loss: {:.4f}\".format(loss.item()))"
   ]
  },
  {
   "cell_type": "markdown",
   "metadata": {},
   "source": [
    "To this model we can now try to add contextual embeddings"
   ]
  },
  {
   "cell_type": "code",
   "execution_count": null,
   "metadata": {},
   "outputs": [],
   "source": [
    "#for contextual embedding we will use BERT\n",
    "\n",
    "import torch\n",
    "import torch.nn as nn\n",
    "from transformers import BertModel, BertTokenizer\n",
    "\n",
    "#we use bert and we will train it on the data\n",
    "bert_model = BertModel.from_pretrained('bert-base-uncased')\n",
    "#we will use the tokenizer to tokenize the sentences\n",
    "sentences = [\"I love machine learning\", \"I love coding in python\"]\n",
    "tokenizer = BertTokenizer.from_pretrained('bert-base-uncased')\n",
    "tokenized_texts = [tokenizer.tokenize(sent) for sent in sentences]"
   ]
  },
  {
   "cell_type": "code",
   "execution_count": null,
   "metadata": {},
   "outputs": [],
   "source": [
    "#Encoder Decoder architecture\n"
   ]
  },
  {
   "cell_type": "code",
   "execution_count": 77,
   "metadata": {},
   "outputs": [
    {
     "ename": "NameError",
     "evalue": "name 'source_tokens' is not defined",
     "output_type": "error",
     "traceback": [
      "\u001b[1;31m---------------------------------------------------------------------------\u001b[0m",
      "\u001b[1;31mNameError\u001b[0m                                 Traceback (most recent call last)",
      "Cell \u001b[1;32mIn [77], line 20\u001b[0m\n\u001b[0;32m     17\u001b[0m     \u001b[39mreturn\u001b[39;00m data\u001b[39m.\u001b[39mrandom_split(dataset, [train_size, test_size])\n\u001b[0;32m     19\u001b[0m \u001b[39m# Build train and test sets\u001b[39;00m\n\u001b[1;32m---> 20\u001b[0m trainset, testset \u001b[39m=\u001b[39m build_datasets(source_tokens, target_tokens)\n",
      "\u001b[1;31mNameError\u001b[0m: name 'source_tokens' is not defined"
     ]
    }
   ],
   "source": [
    "import torch\n",
    "import torch.utils.data as data\n",
    "\n",
    "# Build train and test sets from source and target tokens\n",
    "def build_datasets(source, target):\n",
    "    src = torch.tensor(source)\n",
    "    tgt = torch.tensor(target)\n",
    "\n",
    "    # Build full dataset\n",
    "    dataset = data.TensorDataset(*(src, tgt))\n",
    "    \n",
    "    # Split into train and test sets\n",
    "    size = len(dataset)\n",
    "    train_size = int(size * 0.8)\n",
    "    test_size = size - train_size\n",
    "    \n",
    "    return data.random_split(dataset, [train_size, test_size])\n",
    "\n",
    "# Build train and test sets\n",
    "trainset, testset = build_datasets(source_tokens, target_tokens)"
   ]
  },
  {
   "cell_type": "code",
   "execution_count": null,
   "metadata": {},
   "outputs": [],
   "source": [
    "from __future__ import unicode_literals, print_function, division\n",
    "from io import open\n",
    "import unicodedata\n",
    "import string\n",
    "import re\n",
    "import random\n",
    "\n",
    "import torch\n",
    "import torch.nn as nn\n",
    "from torch import optim\n",
    "import torch.nn.functional as F\n",
    "\n",
    "device = torch.device(\"cuda\" if torch.cuda.is_available() else \"cpu\")"
   ]
  },
  {
   "cell_type": "code",
   "execution_count": null,
   "metadata": {},
   "outputs": [],
   "source": [
    "#Encoder : \n",
    "\n",
    "class EncoderRNN(nn.Module):\n",
    "    def __init__(self, input_size, hidden_size):\n",
    "        super(EncoderRNN, self).__init__()\n",
    "        self.hidden_size = hidden_size\n",
    "\n",
    "        self.embedding = nn.Embedding(input_size, hidden_size)\n",
    "        self.gru = nn.GRU(hidden_size, hidden_size)\n",
    "\n",
    "    def forward(self, input, hidden):\n",
    "        embedded = self.embedding(input).view(1, 1, -1)\n",
    "        output = embedded\n",
    "        output, hidden = self.gru(output, hidden)\n",
    "        return output, hidden\n",
    "\n",
    "    def initHidden(self):\n",
    "        return torch.zeros(1, 1, self.hidden_size, device=device)"
   ]
  },
  {
   "cell_type": "code",
   "execution_count": null,
   "metadata": {},
   "outputs": [],
   "source": [
    "MAX_LENGTH =10\n",
    "class AttnDecoderRNN(nn.Module):\n",
    "    def __init__(self, hidden_size, output_size, dropout_p=0.1, max_length=MAX_LENGTH):\n",
    "        super(AttnDecoderRNN, self).__init__()\n",
    "        self.hidden_size = hidden_size\n",
    "        self.output_size = output_size\n",
    "        self.dropout_p = dropout_p\n",
    "        self.max_length = max_length\n",
    "\n",
    "        self.embedding = nn.Embedding(self.output_size, self.hidden_size)\n",
    "        self.attn = nn.Linear(self.hidden_size * 2, self.max_length)\n",
    "        self.attn_combine = nn.Linear(self.hidden_size * 2, self.hidden_size)\n",
    "        self.dropout = nn.Dropout(self.dropout_p)\n",
    "        self.gru = nn.GRU(self.hidden_size, self.hidden_size)\n",
    "        self.out = nn.Linear(self.hidden_size, self.output_size)\n",
    "\n",
    "    def forward(self, input, hidden, encoder_outputs):\n",
    "        embedded = self.embedding(input).view(1, 1, -1)\n",
    "        embedded = self.dropout(embedded)\n",
    "\n",
    "        attn_weights = F.softmax(\n",
    "            self.attn(torch.cat((embedded[0], hidden[0]), 1)), dim=1)\n",
    "        attn_applied = torch.bmm(attn_weights.unsqueeze(0),\n",
    "                                 encoder_outputs.unsqueeze(0))\n",
    "\n",
    "        output = torch.cat((embedded[0], attn_applied[0]), 1)\n",
    "        output = self.attn_combine(output).unsqueeze(0)\n",
    "\n",
    "        output = F.relu(output)\n",
    "        output, hidden = self.gru(output, hidden)\n",
    "\n",
    "        output = F.log_softmax(self.out(output[0]), dim=1)\n",
    "        return output, hidden, attn_weights\n",
    "\n",
    "    def initHidden(self):\n",
    "        return torch.zeros(1, 1, self.hidden_size, device=device)"
   ]
  },
  {
   "cell_type": "code",
   "execution_count": null,
   "metadata": {},
   "outputs": [],
   "source": [
    "teacher_forcing_ratio = 0.5\n",
    "\n",
    "\n",
    "def train(input_tensor, target_tensor, encoder, decoder, encoder_optimizer, decoder_optimizer, criterion, max_length=MAX_LENGTH):\n",
    "    encoder_hidden = encoder.initHidden()\n",
    "\n",
    "    encoder_optimizer.zero_grad()\n",
    "    decoder_optimizer.zero_grad()\n",
    "\n",
    "    input_length = input_tensor.size(0)\n",
    "    target_length = target_tensor.size(0)\n",
    "\n",
    "    encoder_outputs = torch.zeros(max_length, encoder.hidden_size, device=device)\n",
    "\n",
    "    loss = 0\n",
    "\n",
    "    for ei in range(input_length):\n",
    "        encoder_output, encoder_hidden = encoder(\n",
    "            input_tensor[ei], encoder_hidden)\n",
    "        encoder_outputs[ei] = encoder_output[0, 0]\n",
    "\n",
    "    decoder_input = torch.tensor([[SOS_token]], device=device)\n",
    "\n",
    "    decoder_hidden = encoder_hidden\n",
    "\n",
    "    use_teacher_forcing = True if random.random() < teacher_forcing_ratio else False\n",
    "\n",
    "    if use_teacher_forcing:\n",
    "        # Teacher forcing: Feed the target as the next input\n",
    "        for di in range(target_length):\n",
    "            decoder_output, decoder_hidden, decoder_attention = decoder(\n",
    "                decoder_input, decoder_hidden, encoder_outputs)\n",
    "            loss += criterion(decoder_output, target_tensor[di])\n",
    "            decoder_input = target_tensor[di]  # Teacher forcing\n",
    "\n",
    "    else:\n",
    "        # Without teacher forcing: use its own predictions as the next input\n",
    "        for di in range(target_length):\n",
    "            decoder_output, decoder_hidden, decoder_attention = decoder(\n",
    "                decoder_input, decoder_hidden, encoder_outputs)\n",
    "            topv, topi = decoder_output.topk(1)\n",
    "            decoder_input = topi.squeeze().detach()  # detach from history as input\n",
    "\n",
    "            loss += criterion(decoder_output, target_tensor[di])\n",
    "            if decoder_input.item() == EOS_token:\n",
    "                break\n",
    "\n",
    "    loss.backward()\n",
    "\n",
    "    encoder_optimizer.step()\n",
    "    decoder_optimizer.step()\n",
    "\n",
    "    return loss.item() / target_length"
   ]
  },
  {
   "cell_type": "code",
   "execution_count": null,
   "metadata": {},
   "outputs": [],
   "source": [
    "def trainIters(encoder, decoder, n_iters = 50000, print_every=1000, plot_every=100, learning_rate=0.01):\n",
    "\n",
    "    plot_losses = []\n",
    "    print_loss_total = 0  # Reset every print_every\n",
    "    plot_loss_total = 0  # Reset every plot_every\n",
    "\n",
    "    encoder_optimizer = optim.SGD(encoder.parameters(), lr=learning_rate)\n",
    "    decoder_optimizer = optim.SGD(decoder.parameters(), lr=learning_rate)\n",
    "    training_pairs = [tensorsFromPair(random.choice(pairs))\n",
    "                      for i in range(n_iters)]\n",
    "    criterion = nn.NLLLoss()\n",
    "\n",
    "    for iter in range(1, n_iters + 1):\n",
    "        training_pair = training_pairs[iter - 1]\n",
    "        input_tensor = training_pair[0]\n",
    "        target_tensor = training_pair[1]\n",
    "\n",
    "        loss = train(input_tensor, target_tensor, encoder,\n",
    "                     decoder, encoder_optimizer, decoder_optimizer, criterion)\n",
    "        print_loss_total += loss\n",
    "        plot_loss_total += loss\n",
    "\n",
    "        if iter % print_every == 0:\n",
    "            print_loss_avg = print_loss_total / print_every\n",
    "            print_loss_total = 0\n",
    "            print('%s (%d %d%%) %.4f' % (timeSince(start, iter / n_iters),\n",
    "                                         iter, iter / n_iters * 100, print_loss_avg))\n",
    "\n",
    "        if iter % plot_every == 0:\n",
    "            plot_loss_avg = plot_loss_total / plot_every\n",
    "            plot_losses.append(plot_loss_avg)\n",
    "            plot_loss_total = 0\n",
    "\n",
    "    showPlot(plot_losses)"
   ]
  },
  {
   "cell_type": "code",
   "execution_count": null,
   "metadata": {},
   "outputs": [],
   "source": [
    "import matplotlib.pyplot as plt\n",
    "plt.switch_backend('agg')\n",
    "import matplotlib.ticker as ticker\n",
    "import numpy as np\n",
    "\n",
    "\n",
    "def showPlot(points):\n",
    "    plt.figure()\n",
    "    fig, ax = plt.subplots()\n",
    "    # this locator puts ticks at regular intervals\n",
    "    loc = ticker.MultipleLocator(base=0.2)\n",
    "    ax.yaxis.set_major_locator(loc)\n",
    "    plt.plot(points)"
   ]
  },
  {
   "cell_type": "code",
   "execution_count": null,
   "metadata": {},
   "outputs": [],
   "source": [
    "def evaluate(encoder, decoder, sentence, max_length=MAX_LENGTH):\n",
    "    with torch.no_grad():\n",
    "        input_tensor = tensorFromSentence(input_lang, sentence)\n",
    "        input_length = input_tensor.size()[0]\n",
    "        encoder_hidden = encoder.initHidden()\n",
    "\n",
    "        encoder_outputs = torch.zeros(max_length, encoder.hidden_size, device=device)\n",
    "\n",
    "        for ei in range(input_length):\n",
    "            encoder_output, encoder_hidden = encoder(input_tensor[ei],\n",
    "                                                     encoder_hidden)\n",
    "            encoder_outputs[ei] += encoder_output[0, 0]\n",
    "\n",
    "        decoder_input = torch.tensor([[SOS_token]], device=device)  # SOS\n",
    "\n",
    "        decoder_hidden = encoder_hidden\n",
    "\n",
    "        decoded_words = []\n",
    "        decoder_attentions = torch.zeros(max_length, max_length)\n",
    "\n",
    "        for di in range(max_length):\n",
    "            decoder_output, decoder_hidden, decoder_attention = decoder(\n",
    "                decoder_input, decoder_hidden, encoder_outputs)\n",
    "            decoder_attentions[di] = decoder_attention.data\n",
    "            topv, topi = decoder_output.data.topk(1)\n",
    "            if topi.item() == EOS_token:\n",
    "                decoded_words.append('<EOS>')\n",
    "                break\n",
    "            else:\n",
    "                decoded_words.append(output_lang.index2word[topi.item()])\n",
    "\n",
    "            decoder_input = topi.squeeze().detach()\n",
    "\n",
    "        return decoded_words, decoder_attentions[:di + 1]"
   ]
  },
  {
   "cell_type": "code",
   "execution_count": null,
   "metadata": {},
   "outputs": [],
   "source": [
    "def evaluateRandomly(encoder, decoder, n=10):\n",
    "    for i in range(n):\n",
    "        src_ex = random.choice(src)\n",
    "        tgt_ex = random.choice(tgt)\n",
    "        print('>', src)\n",
    "        print('=', tgt)\n",
    "        output_words, attentions = evaluate(encoder, decoder, src)\n",
    "        output_sentence = ' '.join(output_words)\n",
    "        print('<', output_sentence)\n",
    "        print('')"
   ]
  },
  {
   "cell_type": "code",
   "execution_count": null,
   "metadata": {},
   "outputs": [],
   "source": [
    "hidden_size = 256\n",
    "encoder1 = EncoderRNN(src, hidden_size).to(device)\n",
    "attn_decoder1 = AttnDecoderRNN(hidden_size, tgt, dropout_p=0.1).to(device)\n",
    "\n",
    "trainIters(encoder1, attn_decoder1, 75000, print_every=5000)"
   ]
  },
  {
   "cell_type": "code",
   "execution_count": null,
   "metadata": {},
   "outputs": [],
   "source": [
    "evaluateRandomly(encoder1, attn_decoder1)"
   ]
  }
 ],
 "metadata": {
  "kernelspec": {
   "display_name": "Python 3 (ipykernel)",
   "language": "python",
   "name": "python3"
  },
  "language_info": {
   "codemirror_mode": {
    "name": "ipython",
    "version": 3
   },
   "file_extension": ".py",
   "mimetype": "text/x-python",
   "name": "python",
   "nbconvert_exporter": "python",
   "pygments_lexer": "ipython3",
   "version": "3.10.4"
  },
  "vscode": {
   "interpreter": {
    "hash": "fefcaccf17e39639418275c4a17d5ca0413e9c7c1af2b5e38e9064532ca76b63"
   }
  }
 },
 "nbformat": 4,
 "nbformat_minor": 4
}
