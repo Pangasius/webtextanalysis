{
 "cells": [
  {
   "cell_type": "markdown",
   "metadata": {},
   "source": [
    "In this project, we will use an RNN architecture to build a Machine Translation model.\n",
    "\n",
    "It will use as a corpus wikipedia dumps.\n",
    "\n",
    "Either the source or the target will be English. We will, in our case, try English to French Translation."
   ]
  },
  {
   "cell_type": "code",
   "execution_count": 2,
   "metadata": {},
   "outputs": [
    {
     "name": "stdout",
     "output_type": "stream",
     "text": [
      "Requirement already satisfied: numpy in c:\\users\\gille\\miniconda3\\envs\\thesis\\lib\\site-packages (1.23.1)\n",
      "Looking in indexes: https://pypi.org/simple, https://download.pytorch.org/whl/nightly/cu117\n",
      "Requirement already satisfied: torch in c:\\users\\gille\\miniconda3\\envs\\thesis\\lib\\site-packages (1.14.0.dev20221109)\n",
      "Requirement already satisfied: torchvision in c:\\users\\gille\\miniconda3\\envs\\thesis\\lib\\site-packages (0.15.0.dev20221109)\n",
      "Requirement already satisfied: torchaudio in c:\\users\\gille\\miniconda3\\envs\\thesis\\lib\\site-packages (0.14.0.dev20221109)\n",
      "Requirement already satisfied: typing_extensions in c:\\users\\gille\\miniconda3\\envs\\thesis\\lib\\site-packages (from torch) (4.3.0)\n",
      "Collecting sympy\n",
      "  Using cached sympy-1.11.1-py3-none-any.whl (6.5 MB)\n",
      "Requirement already satisfied: networkx in c:\\users\\gille\\miniconda3\\envs\\thesis\\lib\\site-packages (from torch) (2.8.7)\n",
      "Requirement already satisfied: numpy in c:\\users\\gille\\miniconda3\\envs\\thesis\\lib\\site-packages (from torchvision) (1.23.1)\n",
      "Requirement already satisfied: requests in c:\\users\\gille\\miniconda3\\envs\\thesis\\lib\\site-packages (from torchvision) (2.28.1)\n",
      "Requirement already satisfied: pillow!=8.3.*,>=5.3.0 in c:\\users\\gille\\miniconda3\\envs\\thesis\\lib\\site-packages (from torchvision) (9.2.0)\n",
      "Requirement already satisfied: certifi>=2017.4.17 in c:\\users\\gille\\miniconda3\\envs\\thesis\\lib\\site-packages (from requests->torchvision) (2022.9.24)\n",
      "Requirement already satisfied: idna<4,>=2.5 in c:\\users\\gille\\miniconda3\\envs\\thesis\\lib\\site-packages (from requests->torchvision) (3.4)\n",
      "Requirement already satisfied: urllib3<1.27,>=1.21.1 in c:\\users\\gille\\miniconda3\\envs\\thesis\\lib\\site-packages (from requests->torchvision) (1.26.12)\n",
      "Requirement already satisfied: charset-normalizer<3,>=2 in c:\\users\\gille\\miniconda3\\envs\\thesis\\lib\\site-packages (from requests->torchvision) (2.1.1)\n",
      "Collecting mpmath>=0.19\n",
      "  Using cached mpmath-1.2.1-py3-none-any.whl (532 kB)\n",
      "Installing collected packages: mpmath, sympy\n",
      "Successfully installed mpmath-1.2.1 sympy-1.11.1\n",
      "Requirement already satisfied: gensim in c:\\users\\gille\\miniconda3\\envs\\thesis\\lib\\site-packages (4.2.0)\n",
      "Requirement already satisfied: transformers in c:\\users\\gille\\miniconda3\\envs\\thesis\\lib\\site-packages (4.24.0)\n",
      "Requirement already satisfied: d2l==1.0.0a1.post0 in c:\\users\\gille\\miniconda3\\envs\\thesis\\lib\\site-packages (1.0.0a1.post0)\n",
      "Requirement already satisfied: gym in c:\\users\\gille\\miniconda3\\envs\\thesis\\lib\\site-packages (from d2l==1.0.0a1.post0) (0.26.2)\n",
      "Requirement already satisfied: pandas in c:\\users\\gille\\miniconda3\\envs\\thesis\\lib\\site-packages (from d2l==1.0.0a1.post0) (1.4.3)\n",
      "Requirement already satisfied: jupyter in c:\\users\\gille\\miniconda3\\envs\\thesis\\lib\\site-packages (from d2l==1.0.0a1.post0) (1.0.0)\n",
      "Requirement already satisfied: numpy in c:\\users\\gille\\miniconda3\\envs\\thesis\\lib\\site-packages (from d2l==1.0.0a1.post0) (1.23.1)\n",
      "Requirement already satisfied: requests in c:\\users\\gille\\miniconda3\\envs\\thesis\\lib\\site-packages (from d2l==1.0.0a1.post0) (2.28.1)\n",
      "Requirement already satisfied: matplotlib in c:\\users\\gille\\miniconda3\\envs\\thesis\\lib\\site-packages (from d2l==1.0.0a1.post0) (3.5.3)\n",
      "Requirement already satisfied: matplotlib-inline in c:\\users\\gille\\miniconda3\\envs\\thesis\\lib\\site-packages (from d2l==1.0.0a1.post0) (0.1.6)\n",
      "Requirement already satisfied: smart-open>=1.8.1 in c:\\users\\gille\\miniconda3\\envs\\thesis\\lib\\site-packages (from gensim) (5.2.1)\n",
      "Requirement already satisfied: scipy>=0.18.1 in c:\\users\\gille\\miniconda3\\envs\\thesis\\lib\\site-packages (from gensim) (1.8.1)\n",
      "Requirement already satisfied: tokenizers!=0.11.3,<0.14,>=0.11.1 in c:\\users\\gille\\miniconda3\\envs\\thesis\\lib\\site-packages (from transformers) (0.13.2)\n",
      "Requirement already satisfied: tqdm>=4.27 in c:\\users\\gille\\miniconda3\\envs\\thesis\\lib\\site-packages (from transformers) (4.64.1)\n",
      "Requirement already satisfied: huggingface-hub<1.0,>=0.10.0 in c:\\users\\gille\\miniconda3\\envs\\thesis\\lib\\site-packages (from transformers) (0.10.1)\n",
      "Requirement already satisfied: filelock in c:\\users\\gille\\miniconda3\\envs\\thesis\\lib\\site-packages (from transformers) (3.8.0)\n",
      "Requirement already satisfied: packaging>=20.0 in c:\\users\\gille\\miniconda3\\envs\\thesis\\lib\\site-packages (from transformers) (21.3)\n",
      "Requirement already satisfied: regex!=2019.12.17 in c:\\users\\gille\\miniconda3\\envs\\thesis\\lib\\site-packages (from transformers) (2022.7.9)\n",
      "Requirement already satisfied: pyyaml>=5.1 in c:\\users\\gille\\miniconda3\\envs\\thesis\\lib\\site-packages (from transformers) (6.0)\n",
      "Requirement already satisfied: typing-extensions>=3.7.4.3 in c:\\users\\gille\\miniconda3\\envs\\thesis\\lib\\site-packages (from huggingface-hub<1.0,>=0.10.0->transformers) (4.3.0)\n",
      "Requirement already satisfied: pyparsing!=3.0.5,>=2.0.2 in c:\\users\\gille\\miniconda3\\envs\\thesis\\lib\\site-packages (from packaging>=20.0->transformers) (3.0.9)\n",
      "Requirement already satisfied: colorama in c:\\users\\gille\\miniconda3\\envs\\thesis\\lib\\site-packages (from tqdm>=4.27->transformers) (0.4.5)\n",
      "Requirement already satisfied: gym-notices>=0.0.4 in c:\\users\\gille\\miniconda3\\envs\\thesis\\lib\\site-packages (from gym->d2l==1.0.0a1.post0) (0.0.8)\n",
      "Requirement already satisfied: cloudpickle>=1.2.0 in c:\\users\\gille\\miniconda3\\envs\\thesis\\lib\\site-packages (from gym->d2l==1.0.0a1.post0) (2.2.0)\n",
      "Requirement already satisfied: jupyter-console in c:\\users\\gille\\miniconda3\\envs\\thesis\\lib\\site-packages (from jupyter->d2l==1.0.0a1.post0) (6.4.4)\n",
      "Requirement already satisfied: notebook in c:\\users\\gille\\miniconda3\\envs\\thesis\\lib\\site-packages (from jupyter->d2l==1.0.0a1.post0) (6.4.12)\n",
      "Requirement already satisfied: nbconvert in c:\\users\\gille\\miniconda3\\envs\\thesis\\lib\\site-packages (from jupyter->d2l==1.0.0a1.post0) (6.4.5)\n",
      "Requirement already satisfied: ipywidgets in c:\\users\\gille\\miniconda3\\envs\\thesis\\lib\\site-packages (from jupyter->d2l==1.0.0a1.post0) (8.0.2)\n",
      "Requirement already satisfied: qtconsole in c:\\users\\gille\\miniconda3\\envs\\thesis\\lib\\site-packages (from jupyter->d2l==1.0.0a1.post0) (5.4.0)\n",
      "Requirement already satisfied: ipykernel in c:\\users\\gille\\miniconda3\\envs\\thesis\\lib\\site-packages (from jupyter->d2l==1.0.0a1.post0) (6.16.0)\n",
      "Requirement already satisfied: cycler>=0.10 in c:\\users\\gille\\miniconda3\\envs\\thesis\\lib\\site-packages (from matplotlib->d2l==1.0.0a1.post0) (0.11.0)\n",
      "Requirement already satisfied: fonttools>=4.22.0 in c:\\users\\gille\\miniconda3\\envs\\thesis\\lib\\site-packages (from matplotlib->d2l==1.0.0a1.post0) (4.25.0)\n",
      "Requirement already satisfied: kiwisolver>=1.0.1 in c:\\users\\gille\\miniconda3\\envs\\thesis\\lib\\site-packages (from matplotlib->d2l==1.0.0a1.post0) (1.4.4)\n",
      "Requirement already satisfied: python-dateutil>=2.7 in c:\\users\\gille\\miniconda3\\envs\\thesis\\lib\\site-packages (from matplotlib->d2l==1.0.0a1.post0) (2.8.2)\n",
      "Requirement already satisfied: pillow>=6.2.0 in c:\\users\\gille\\miniconda3\\envs\\thesis\\lib\\site-packages (from matplotlib->d2l==1.0.0a1.post0) (9.2.0)\n",
      "Requirement already satisfied: traitlets in c:\\users\\gille\\miniconda3\\envs\\thesis\\lib\\site-packages (from matplotlib-inline->d2l==1.0.0a1.post0) (5.4.0)\n",
      "Requirement already satisfied: pytz>=2020.1 in c:\\users\\gille\\miniconda3\\envs\\thesis\\lib\\site-packages (from pandas->d2l==1.0.0a1.post0) (2022.4)\n",
      "Requirement already satisfied: idna<4,>=2.5 in c:\\users\\gille\\miniconda3\\envs\\thesis\\lib\\site-packages (from requests->d2l==1.0.0a1.post0) (3.4)\n",
      "Requirement already satisfied: urllib3<1.27,>=1.21.1 in c:\\users\\gille\\miniconda3\\envs\\thesis\\lib\\site-packages (from requests->d2l==1.0.0a1.post0) (1.26.12)\n",
      "Requirement already satisfied: certifi>=2017.4.17 in c:\\users\\gille\\miniconda3\\envs\\thesis\\lib\\site-packages (from requests->d2l==1.0.0a1.post0) (2022.9.24)\n",
      "Requirement already satisfied: charset-normalizer<3,>=2 in c:\\users\\gille\\miniconda3\\envs\\thesis\\lib\\site-packages (from requests->d2l==1.0.0a1.post0) (2.1.1)\n",
      "Requirement already satisfied: six>=1.5 in c:\\users\\gille\\miniconda3\\envs\\thesis\\lib\\site-packages (from python-dateutil>=2.7->matplotlib->d2l==1.0.0a1.post0) (1.16.0)\n",
      "Requirement already satisfied: ipython>=7.23.1 in c:\\users\\gille\\miniconda3\\envs\\thesis\\lib\\site-packages (from ipykernel->jupyter->d2l==1.0.0a1.post0) (8.5.0)\n",
      "Requirement already satisfied: tornado>=6.1 in c:\\users\\gille\\miniconda3\\envs\\thesis\\lib\\site-packages (from ipykernel->jupyter->d2l==1.0.0a1.post0) (6.2)\n",
      "Requirement already satisfied: debugpy>=1.0 in c:\\users\\gille\\miniconda3\\envs\\thesis\\lib\\site-packages (from ipykernel->jupyter->d2l==1.0.0a1.post0) (1.6.3)\n",
      "Requirement already satisfied: psutil in c:\\users\\gille\\miniconda3\\envs\\thesis\\lib\\site-packages (from ipykernel->jupyter->d2l==1.0.0a1.post0) (5.9.0)\n",
      "Requirement already satisfied: nest-asyncio in c:\\users\\gille\\miniconda3\\envs\\thesis\\lib\\site-packages (from ipykernel->jupyter->d2l==1.0.0a1.post0) (1.5.6)\n",
      "Requirement already satisfied: jupyter-client>=6.1.12 in c:\\users\\gille\\miniconda3\\envs\\thesis\\lib\\site-packages (from ipykernel->jupyter->d2l==1.0.0a1.post0) (7.3.5)\n",
      "Requirement already satisfied: pyzmq>=17 in c:\\users\\gille\\miniconda3\\envs\\thesis\\lib\\site-packages (from ipykernel->jupyter->d2l==1.0.0a1.post0) (23.2.0)\n",
      "Requirement already satisfied: widgetsnbextension~=4.0 in c:\\users\\gille\\miniconda3\\envs\\thesis\\lib\\site-packages (from ipywidgets->jupyter->d2l==1.0.0a1.post0) (4.0.3)\n",
      "Requirement already satisfied: jupyterlab-widgets~=3.0 in c:\\users\\gille\\miniconda3\\envs\\thesis\\lib\\site-packages (from ipywidgets->jupyter->d2l==1.0.0a1.post0) (3.0.3)\n",
      "Requirement already satisfied: prompt-toolkit!=3.0.0,!=3.0.1,<3.1.0,>=2.0.0 in c:\\users\\gille\\miniconda3\\envs\\thesis\\lib\\site-packages (from jupyter-console->jupyter->d2l==1.0.0a1.post0) (3.0.31)\n",
      "Requirement already satisfied: pygments in c:\\users\\gille\\miniconda3\\envs\\thesis\\lib\\site-packages (from jupyter-console->jupyter->d2l==1.0.0a1.post0) (2.13.0)\n",
      "Requirement already satisfied: entrypoints>=0.2.2 in c:\\users\\gille\\miniconda3\\envs\\thesis\\lib\\site-packages (from nbconvert->jupyter->d2l==1.0.0a1.post0) (0.4)\n",
      "Requirement already satisfied: bleach in c:\\users\\gille\\miniconda3\\envs\\thesis\\lib\\site-packages (from nbconvert->jupyter->d2l==1.0.0a1.post0) (5.0.1)\n",
      "Requirement already satisfied: jupyter-core in c:\\users\\gille\\miniconda3\\envs\\thesis\\lib\\site-packages (from nbconvert->jupyter->d2l==1.0.0a1.post0) (4.11.1)\n",
      "Requirement already satisfied: jinja2>=2.4 in c:\\users\\gille\\miniconda3\\envs\\thesis\\lib\\site-packages (from nbconvert->jupyter->d2l==1.0.0a1.post0) (3.1.2)\n",
      "Requirement already satisfied: pandocfilters>=1.4.1 in c:\\users\\gille\\miniconda3\\envs\\thesis\\lib\\site-packages (from nbconvert->jupyter->d2l==1.0.0a1.post0) (1.5.0)\n",
      "Requirement already satisfied: defusedxml in c:\\users\\gille\\miniconda3\\envs\\thesis\\lib\\site-packages (from nbconvert->jupyter->d2l==1.0.0a1.post0) (0.7.1)\n",
      "Requirement already satisfied: beautifulsoup4 in c:\\users\\gille\\miniconda3\\envs\\thesis\\lib\\site-packages (from nbconvert->jupyter->d2l==1.0.0a1.post0) (4.11.1)\n",
      "Requirement already satisfied: jupyterlab-pygments in c:\\users\\gille\\miniconda3\\envs\\thesis\\lib\\site-packages (from nbconvert->jupyter->d2l==1.0.0a1.post0) (0.2.2)\n",
      "Requirement already satisfied: nbformat>=4.4 in c:\\users\\gille\\miniconda3\\envs\\thesis\\lib\\site-packages (from nbconvert->jupyter->d2l==1.0.0a1.post0) (5.6.1)\n",
      "Requirement already satisfied: MarkupSafe>=2.0 in c:\\users\\gille\\miniconda3\\envs\\thesis\\lib\\site-packages (from nbconvert->jupyter->d2l==1.0.0a1.post0) (2.1.1)\n",
      "Requirement already satisfied: nbclient<0.6.0,>=0.5.0 in c:\\users\\gille\\miniconda3\\envs\\thesis\\lib\\site-packages (from nbconvert->jupyter->d2l==1.0.0a1.post0) (0.5.13)\n",
      "Requirement already satisfied: testpath in c:\\users\\gille\\miniconda3\\envs\\thesis\\lib\\site-packages (from nbconvert->jupyter->d2l==1.0.0a1.post0) (0.6.0)\n",
      "Requirement already satisfied: mistune<2,>=0.8.1 in c:\\users\\gille\\miniconda3\\envs\\thesis\\lib\\site-packages (from nbconvert->jupyter->d2l==1.0.0a1.post0) (0.8.4)\n",
      "Requirement already satisfied: Send2Trash>=1.8.0 in c:\\users\\gille\\miniconda3\\envs\\thesis\\lib\\site-packages (from notebook->jupyter->d2l==1.0.0a1.post0) (1.8.0)\n",
      "Requirement already satisfied: terminado>=0.8.3 in c:\\users\\gille\\miniconda3\\envs\\thesis\\lib\\site-packages (from notebook->jupyter->d2l==1.0.0a1.post0) (0.16.0)\n",
      "Requirement already satisfied: prometheus-client in c:\\users\\gille\\miniconda3\\envs\\thesis\\lib\\site-packages (from notebook->jupyter->d2l==1.0.0a1.post0) (0.14.1)\n",
      "Requirement already satisfied: ipython-genutils in c:\\users\\gille\\miniconda3\\envs\\thesis\\lib\\site-packages (from notebook->jupyter->d2l==1.0.0a1.post0) (0.2.0)\n",
      "Requirement already satisfied: argon2-cffi in c:\\users\\gille\\miniconda3\\envs\\thesis\\lib\\site-packages (from notebook->jupyter->d2l==1.0.0a1.post0) (21.3.0)\n",
      "Requirement already satisfied: qtpy>=2.0.1 in c:\\users\\gille\\miniconda3\\envs\\thesis\\lib\\site-packages (from qtconsole->jupyter->d2l==1.0.0a1.post0) (2.3.0)\n",
      "Requirement already satisfied: backcall in c:\\users\\gille\\miniconda3\\envs\\thesis\\lib\\site-packages (from ipython>=7.23.1->ipykernel->jupyter->d2l==1.0.0a1.post0) (0.2.0)\n",
      "Requirement already satisfied: jedi>=0.16 in c:\\users\\gille\\miniconda3\\envs\\thesis\\lib\\site-packages (from ipython>=7.23.1->ipykernel->jupyter->d2l==1.0.0a1.post0) (0.18.1)\n",
      "Requirement already satisfied: decorator in c:\\users\\gille\\miniconda3\\envs\\thesis\\lib\\site-packages (from ipython>=7.23.1->ipykernel->jupyter->d2l==1.0.0a1.post0) (5.1.1)\n",
      "Requirement already satisfied: pickleshare in c:\\users\\gille\\miniconda3\\envs\\thesis\\lib\\site-packages (from ipython>=7.23.1->ipykernel->jupyter->d2l==1.0.0a1.post0) (0.7.5)\n",
      "Requirement already satisfied: stack-data in c:\\users\\gille\\miniconda3\\envs\\thesis\\lib\\site-packages (from ipython>=7.23.1->ipykernel->jupyter->d2l==1.0.0a1.post0) (0.5.1)\n",
      "Requirement already satisfied: pywin32>=1.0 in c:\\users\\gille\\miniconda3\\envs\\thesis\\lib\\site-packages (from jupyter-core->nbconvert->jupyter->d2l==1.0.0a1.post0) (303)\n",
      "Requirement already satisfied: fastjsonschema in c:\\users\\gille\\miniconda3\\envs\\thesis\\lib\\site-packages (from nbformat>=4.4->nbconvert->jupyter->d2l==1.0.0a1.post0) (2.16.2)\n",
      "Requirement already satisfied: jsonschema>=2.6 in c:\\users\\gille\\miniconda3\\envs\\thesis\\lib\\site-packages (from nbformat>=4.4->nbconvert->jupyter->d2l==1.0.0a1.post0) (4.16.0)\n",
      "Requirement already satisfied: wcwidth in c:\\users\\gille\\miniconda3\\envs\\thesis\\lib\\site-packages (from prompt-toolkit!=3.0.0,!=3.0.1,<3.1.0,>=2.0.0->jupyter-console->jupyter->d2l==1.0.0a1.post0) (0.2.5)\n",
      "Requirement already satisfied: pywinpty>=1.1.0 in c:\\users\\gille\\miniconda3\\envs\\thesis\\lib\\site-packages (from terminado>=0.8.3->notebook->jupyter->d2l==1.0.0a1.post0) (2.0.2)\n",
      "Requirement already satisfied: argon2-cffi-bindings in c:\\users\\gille\\miniconda3\\envs\\thesis\\lib\\site-packages (from argon2-cffi->notebook->jupyter->d2l==1.0.0a1.post0) (21.2.0)\n",
      "Requirement already satisfied: soupsieve>1.2 in c:\\users\\gille\\miniconda3\\envs\\thesis\\lib\\site-packages (from beautifulsoup4->nbconvert->jupyter->d2l==1.0.0a1.post0) (2.3.2.post1)\n",
      "Requirement already satisfied: webencodings in c:\\users\\gille\\miniconda3\\envs\\thesis\\lib\\site-packages (from bleach->nbconvert->jupyter->d2l==1.0.0a1.post0) (0.5.1)\n",
      "Requirement already satisfied: parso<0.9.0,>=0.8.0 in c:\\users\\gille\\miniconda3\\envs\\thesis\\lib\\site-packages (from jedi>=0.16->ipython>=7.23.1->ipykernel->jupyter->d2l==1.0.0a1.post0) (0.8.3)\n",
      "Requirement already satisfied: pyrsistent!=0.17.0,!=0.17.1,!=0.17.2,>=0.14.0 in c:\\users\\gille\\miniconda3\\envs\\thesis\\lib\\site-packages (from jsonschema>=2.6->nbformat>=4.4->nbconvert->jupyter->d2l==1.0.0a1.post0) (0.18.1)\n",
      "Requirement already satisfied: attrs>=17.4.0 in c:\\users\\gille\\miniconda3\\envs\\thesis\\lib\\site-packages (from jsonschema>=2.6->nbformat>=4.4->nbconvert->jupyter->d2l==1.0.0a1.post0) (22.1.0)\n",
      "Requirement already satisfied: cffi>=1.0.1 in c:\\users\\gille\\miniconda3\\envs\\thesis\\lib\\site-packages (from argon2-cffi-bindings->argon2-cffi->notebook->jupyter->d2l==1.0.0a1.post0) (1.15.1)\n",
      "Requirement already satisfied: asttokens in c:\\users\\gille\\miniconda3\\envs\\thesis\\lib\\site-packages (from stack-data->ipython>=7.23.1->ipykernel->jupyter->d2l==1.0.0a1.post0) (2.0.8)\n",
      "Requirement already satisfied: executing in c:\\users\\gille\\miniconda3\\envs\\thesis\\lib\\site-packages (from stack-data->ipython>=7.23.1->ipykernel->jupyter->d2l==1.0.0a1.post0) (1.1.0)\n",
      "Requirement already satisfied: pure-eval in c:\\users\\gille\\miniconda3\\envs\\thesis\\lib\\site-packages (from stack-data->ipython>=7.23.1->ipykernel->jupyter->d2l==1.0.0a1.post0) (0.2.2)\n",
      "Requirement already satisfied: pycparser in c:\\users\\gille\\miniconda3\\envs\\thesis\\lib\\site-packages (from cffi>=1.0.1->argon2-cffi-bindings->argon2-cffi->notebook->jupyter->d2l==1.0.0a1.post0) (2.21)\n"
     ]
    }
   ],
   "source": [
    "#imports\n",
    "!pip3 install numpy\n",
    "!pip3 install --pre torch torchvision torchaudio --extra-index-url https://download.pytorch.org/whl/nightly/cu117\n",
    "#or any nightly version so long as pytorch > 1.11 https://pytorch.org/\n",
    "!pip3 install gensim transformers d2l==1.0.0a1.post0\n",
    "\n",
    "#In pytorch functional.py, change PILLOW_VERSION to __version__\n",
    "#there are two places to change"
   ]
  },
  {
   "cell_type": "markdown",
   "metadata": {},
   "source": [
    "Dataset"
   ]
  },
  {
   "cell_type": "code",
   "execution_count": 8,
   "metadata": {},
   "outputs": [
    {
     "name": "stdout",
     "output_type": "stream",
     "text": [
      "source: tensor([[ 69, 175,   2,   3,   4,   4,   4,   4,   4],\n",
      "        [ 86,  56,   2,   3,   4,   4,   4,   4,   4],\n",
      "        [ 94, 175,   2,   3,   4,   4,   4,   4,   4],\n",
      "        [ 28, 150,   2,   3,   4,   4,   4,   4,   4],\n",
      "        [ 59,   9,   2,   3,   4,   4,   4,   4,   4]], dtype=torch.int32)\n",
      "decoder input: tensor([[  3,   6,   0,   4,   5,   5,   5,   5,   5],\n",
      "        [  3, 108, 183,  58, 113, 144,   2,   4,   5],\n",
      "        [  3, 109, 210, 135,   2,   4,   5,   5,   5],\n",
      "        [  3, 204,  31,   0,   4,   5,   5,   5,   5],\n",
      "        [  3,   6,   6,   0,   4,   5,   5,   5,   5]], dtype=torch.int32)\n",
      "source len excluding pad: tensor([4, 4, 4, 4, 4], dtype=torch.int32)\n",
      "label: tensor([[  6,   0,   4,   5,   5,   5,   5,   5,   5],\n",
      "        [108, 183,  58, 113, 144,   2,   4,   5,   5],\n",
      "        [109, 210, 135,   2,   4,   5,   5,   5,   5],\n",
      "        [204,  31,   0,   4,   5,   5,   5,   5,   5],\n",
      "        [  6,   6,   0,   4,   5,   5,   5,   5,   5]], dtype=torch.int32)\n"
     ]
    }
   ],
   "source": [
    "#Test samples location and preprocessing\n",
    "import os\n",
    "import torch\n",
    "from d2l import torch as d2l\n",
    "\n",
    "class MTFraEng(d2l.DataModule):  #@save\n",
    "    def _download(self):\n",
    "        d2l.extract(d2l.download(\n",
    "            d2l.DATA_URL+'fra-eng.zip', self.root,\n",
    "            '94646ad1522d915e7b0f9296181140edcf86a4f5'))\n",
    "        with open(self.root + '/fra-eng/fra.txt', encoding='utf-8') as f:\n",
    "            return f.read()\n",
    "\n",
    "@d2l.add_to_class(MTFraEng)  #@save\n",
    "def _preprocess(self, text):\n",
    "    # Replace non-breaking space with space\n",
    "    text = text.replace('\\u202f', ' ').replace('\\xa0', ' ')\n",
    "    # Insert space between words and punctuation marks\n",
    "    no_space = lambda char, prev_char: char in ',.!?' and prev_char != ' '\n",
    "    out = [' ' + char if i > 0 and no_space(char, text[i - 1]) else char\n",
    "           for i, char in enumerate(text.lower())]\n",
    "    return ''.join(out)\n",
    "\n",
    "@d2l.add_to_class(MTFraEng)  #@save\n",
    "def _tokenize(self, text, max_examples=None):\n",
    "    src, tgt = [], []\n",
    "    for i, line in enumerate(text.split('\\n')):\n",
    "        if max_examples and i > max_examples: break\n",
    "        parts = line.split('\\t')\n",
    "        if len(parts) == 2:\n",
    "            # Skip empty tokens\n",
    "            src.append([t for t in f'{parts[0]} <eos>'.split(' ') if t])\n",
    "            tgt.append([t for t in f'{parts[1]} <eos>'.split(' ') if t])\n",
    "    return src, tgt\n",
    "\n",
    "@d2l.add_to_class(MTFraEng)  #@save\n",
    "def __init__(self, batch_size, num_steps=9, num_train=512, num_val=128):\n",
    "    super(MTFraEng, self).__init__()\n",
    "    self.save_hyperparameters()\n",
    "    self.arrays, self.src_vocab, self.tgt_vocab = self._build_arrays(\n",
    "        self._download())\n",
    "\n",
    "\n",
    "@d2l.add_to_class(MTFraEng)  #@save\n",
    "def _build_arrays(self, raw_text, src_vocab=None, tgt_vocab=None):\n",
    "    def _build_array(sentences, vocab, is_tgt=False):\n",
    "        pad_or_trim = lambda seq, t: (\n",
    "            seq[:t] if len(seq) > t else seq + ['<pad>'] * (t - len(seq)))\n",
    "        sentences = [pad_or_trim(s, self.num_steps) for s in sentences]\n",
    "        if is_tgt:\n",
    "            sentences = [['<bos>'] + s for s in sentences]\n",
    "        if vocab is None:\n",
    "            vocab = d2l.Vocab(sentences, min_freq=2)\n",
    "        array = torch.tensor([vocab[s] for s in sentences])\n",
    "        valid_len = (array != vocab['<pad>']).type(torch.int32).sum(1)\n",
    "        return array, vocab, valid_len\n",
    "    src, tgt = self._tokenize(self._preprocess(raw_text),\n",
    "                              self.num_train + self.num_val)\n",
    "    src_array, src_vocab, src_valid_len = _build_array(src, src_vocab)\n",
    "    tgt_array, tgt_vocab, _ = _build_array(tgt, tgt_vocab, True)\n",
    "    return ((src_array, tgt_array[:,:-1], src_valid_len, tgt_array[:,1:]),\n",
    "            src_vocab, tgt_vocab)\n",
    "\n",
    "@d2l.add_to_class(MTFraEng)  #@save\n",
    "def get_dataloader(self, train):\n",
    "    idx = slice(0, self.num_train) if train else slice(self.num_train, None)\n",
    "    return self.get_tensorloader(self.arrays, train, idx)\n",
    "\n",
    "data = MTFraEng(batch_size=5)\n",
    "    \n",
    "src, tgt, src_valid_len, label = next(iter(data.train_dataloader()))\n",
    "print('source:', src.type(torch.int32))\n",
    "print('decoder input:', tgt.type(torch.int32))\n",
    "print('source len excluding pad:', src_valid_len.type(torch.int32))\n",
    "print('label:', label.type(torch.int32))\n",
    "\n",
    "@d2l.add_to_class(MTFraEng)  #@save\n",
    "def build(self, src_sentences, tgt_sentences):\n",
    "    raw_text = '\\n'.join([src + '\\t' + tgt for src, tgt in zip(\n",
    "        src_sentences, tgt_sentences)])\n",
    "    arrays, _, _ = self._build_arrays(\n",
    "        raw_text, self.src_vocab, self.tgt_vocab)\n",
    "    return arrays\n",
    "\n",
    "#src, tgt, _,  _ = data.build(['hi .'], ['salut .'])\n",
    "#print('source:', data.src_vocab.to_tokens(src[0].type(torch.int32)))\n",
    "#print('target:', data.tgt_vocab.to_tokens(tgt[0].type(torch.int32)))"
   ]
  },
  {
   "cell_type": "markdown",
   "metadata": {},
   "source": [
    "Word embedding\n",
    "\n",
    "# We will use three different types of word embeddings:\n",
    "# 1. Word2Vec\n",
    "# 2. GloVe\n",
    "# 3. FastText\n"
   ]
  },
  {
   "cell_type": "code",
   "execution_count": 1,
   "metadata": {},
   "outputs": [],
   "source": [
    "\"\"\"## Word2Vec\"\"\"\n",
    "import os\n",
    "\n",
    "# Python program to generate word vectors using Word2Vec\n",
    " \n",
    "# importing all necessary modules\n",
    " \n",
    "import gensim\n",
    "from gensim.models import Word2Vec"
   ]
  },
  {
   "cell_type": "code",
   "execution_count": 3,
   "metadata": {},
   "outputs": [
    {
     "name": "stdout",
     "output_type": "stream",
     "text": [
      "C:\\Users\\gille\\AppData\\Local\\Temp\\ipykernel_16216\n",
      "c:\\Users\\gille\\OneDrive\\Desktop\\web\\webtextanalysis\n",
      "c:\\Users\\gille\\miniconda3\\envs\\thesis\\lib\\site-packages\\ipykernel_launcher.py\n"
     ]
    }
   ],
   "source": [
    "#keep in mind you have to launch the notebook inside the git folder to make this work (second one)\n",
    "from inspect import getsourcefile\n",
    "import sys\n",
    "print(os.path.dirname(getsourcefile(lambda:0)))\n",
    "print(sys.path[0])\n",
    "print(os.path.abspath(sys.argv[0]))"
   ]
  },
  {
   "cell_type": "code",
   "execution_count": 53,
   "metadata": {},
   "outputs": [],
   "source": [
    "import numpy as np\n",
    "\n",
    "def save_split():\n",
    "    data = MTFraEng(batch_size=5)\n",
    "    with open(\"samples/source.txt\", \"w\") as f:\n",
    "        for i in range(0, data.num_train):\n",
    "            for word in data.arrays[0][i].numpy() :\n",
    "                f.write(str(word) + \" \")\n",
    "            f.write(\"\\n\")\n",
    "            \n",
    "    with open(\"samples/target.txt\", \"w\") as f:\n",
    "        for i in range(0, data.num_train):\n",
    "            for word in data.arrays[1][i].numpy() :\n",
    "                f.write(str(word) + \" \")\n",
    "            f.write(\"\\n\")\n",
    "            \n",
    "def load_source():\n",
    "    return np.loadtxt(\"samples/source.txt\", dtype=str)\n",
    "\n",
    "def load_target():\n",
    "    return np.loadtxt(\"samples/target.txt\", dtype=str)\n",
    "\n",
    "def word_to_token(word, src=True):\n",
    "    if src :\n",
    "        return data.src_vocab[word]\n",
    "    else :\n",
    "        return data.tgt_vocab[word]\n",
    "\n",
    "def token_to_word(token, src=True):\n",
    "    if src :\n",
    "        return data.src_vocab.to_tokens(token)\n",
    "    else :\n",
    "        return data.tgt_vocab.to_tokens(token)\n",
    "\n",
    "def test_similarity(model, word1, word2, model_name, src=True):\n",
    "    print(\"Cosine similarity between '\" + word1 + \"' and '\"+ word2 +\"' - \" + model_name + \" : \" + str(model.similarity(word_to_token(word1, src), word_to_token(word2, src))))\n"
   ]
  },
  {
   "cell_type": "code",
   "execution_count": 48,
   "metadata": {},
   "outputs": [],
   "source": [
    "data = MTFraEng(batch_size=5)"
   ]
  },
  {
   "cell_type": "code",
   "execution_count": 54,
   "metadata": {},
   "outputs": [
    {
     "name": "stdout",
     "output_type": "stream",
     "text": [
      "['go', '.', '<eos>', '<pad>', '<pad>', '<pad>', '<pad>', '<pad>', '<pad>']\n",
      "['hi', '.', '<eos>', '<pad>', '<pad>', '<pad>', '<pad>', '<pad>', '<pad>']\n",
      "['run', '!', '<eos>', '<pad>', '<pad>', '<pad>', '<pad>', '<pad>', '<pad>']\n",
      "['run', '!', '<eos>', '<pad>', '<pad>', '<pad>', '<pad>', '<pad>', '<pad>']\n",
      "['who', '?', '<eos>', '<pad>', '<pad>', '<pad>', '<pad>', '<pad>', '<pad>']\n",
      "['<bos>', 'va', '!', '<eos>', '<pad>', '<pad>', '<pad>', '<pad>', '<pad>']\n",
      "['<bos>', 'salut', '!', '<eos>', '<pad>', '<pad>', '<pad>', '<pad>', '<pad>']\n",
      "['<bos>', 'cours', '!', '<eos>', '<pad>', '<pad>', '<pad>', '<pad>', '<pad>']\n",
      "['<bos>', 'courez', '!', '<eos>', '<pad>', '<pad>', '<pad>', '<pad>', '<pad>']\n",
      "['<bos>', 'qui', '?', '<eos>', '<pad>', '<pad>', '<pad>', '<pad>', '<pad>']\n"
     ]
    }
   ],
   "source": [
    "#print a few samples\n",
    "for i in range(5):\n",
    "    print(token_to_word(data.arrays[0][i].numpy(), True))\n",
    "\n",
    "for i in range(5):\n",
    "    print(token_to_word(data.arrays[1][i].numpy(), False))"
   ]
  },
  {
   "cell_type": "code",
   "execution_count": 55,
   "metadata": {},
   "outputs": [],
   "source": [
    "save_split();"
   ]
  },
  {
   "cell_type": "code",
   "execution_count": 57,
   "metadata": {},
   "outputs": [
    {
     "name": "stdout",
     "output_type": "stream",
     "text": [
      "[['59'], ['2'], ['3'], ['4'], ['4']]\n",
      "['go', '.', '<eos>', '<pad>', '<pad>']\n",
      "[['3'], ['201'], ['0'], ['4'], ['5']]\n",
      "['<bos>', 'va', '!', '<eos>', '<pad>']\n"
     ]
    }
   ],
   "source": [
    "\n",
    "source_text = load_source()\n",
    "one_line_source = source_text.reshape([np.prod(source_text.shape)])\n",
    "\n",
    "#format to be accepted by Word2Vec\n",
    "one_line_source = [str(i).split() for i in one_line_source]\n",
    "\n",
    "print(one_line_source[:5])\n",
    "#print in words \n",
    "print([token_to_word(int(i[0]), src=True) for i in one_line_source[:5]])\n",
    "\n",
    "\n",
    "\n",
    "target_text = load_target()\n",
    "one_line_target = target_text.reshape([np.prod(target_text.shape)])\n",
    "\n",
    "#format to be accepted by Word2Vec\n",
    "one_line_target = [str(i).split() for i in one_line_target]\n",
    "\n",
    "print(one_line_target[:5])\n",
    "#print in words \n",
    "print([token_to_word(int(i[0]), src=False) for i in one_line_target[:5]])"
   ]
  },
  {
   "cell_type": "code",
   "execution_count": 58,
   "metadata": {},
   "outputs": [
    {
     "name": "stdout",
     "output_type": "stream",
     "text": [
      "[['59'], ['2'], ['3'], ['4'], ['4']]\n",
      "Cosine similarity between 'hi' and '.' - CBOW : -0.025094546\n",
      "Cosine similarity between 'hi' and 'go' - CBOW : -0.14607012\n",
      "Cosine similarity between 'hi' and '.' - SkipGram : -0.025094546\n",
      "Cosine similarity between 'hi' and 'go' - SkipGram : -0.14607012\n"
     ]
    }
   ],
   "source": [
    "\"\"\"## Word2Vec\"\"\"\n",
    "\n",
    "print(one_line_source[:5])\n",
    " \n",
    "# Create CBOW model\n",
    "w2v_model_cbow = gensim.models.Word2Vec(one_line_source, min_count = 3,\n",
    "                              vector_size = 100, window = 5)\n",
    " \n",
    "# Print results\n",
    "test_similarity(w2v_model_cbow.wv, 'hi', '.', \"CBOW\")\n",
    "     \n",
    "test_similarity(w2v_model_cbow.wv, 'hi', 'go', \"CBOW\")\n",
    " \n",
    "# Create Skip Gram model\n",
    "w2v_model_skip = gensim.models.Word2Vec(one_line_source, min_count = 3, vector_size = 100,\n",
    "                                             window = 5, sg = 1)\n",
    " \n",
    "# Print results\n",
    "test_similarity(w2v_model_skip.wv, 'hi', '.', \"SkipGram\")\n",
    "     \n",
    "test_similarity(w2v_model_skip.wv, 'hi', 'go', \"SkipGram\")"
   ]
  },
  {
   "cell_type": "code",
   "execution_count": 34,
   "metadata": {},
   "outputs": [],
   "source": [
    "#save the models\n",
    "w2v_model_cbow.wv.save_word2vec_format(\"models/w2v_cbow.txt\", binary=False)\n",
    "w2v_model_skip.wv.save_word2vec_format(\"models/w2v_skip.txt\", binary=False)"
   ]
  },
  {
   "cell_type": "code",
   "execution_count": 59,
   "metadata": {},
   "outputs": [],
   "source": [
    "\"\"\"## GloVe\"\"\"\n",
    "\n",
    "# coding: utf-8\n",
    "from gensim.models import KeyedVectors\n",
    "from gensim.scripts.glove2word2vec import glove2word2vec"
   ]
  },
  {
   "cell_type": "code",
   "execution_count": null,
   "metadata": {},
   "outputs": [],
   "source": [
    "#once we have the tokenized file, we can call the glove model\n",
    "\n",
    "####CALL FROM BASH glove_run.py"
   ]
  },
  {
   "cell_type": "code",
   "execution_count": 62,
   "metadata": {},
   "outputs": [],
   "source": [
    "#Only do this once\n",
    "source_file = sys.path[0] + '\\\\models\\\\source_glove.txt'\n",
    "target_file = sys.path[0] + '\\\\models\\\\target_glove.txt'\n",
    "# Load the model, can take a bit of time\n",
    "source_glove_model = KeyedVectors.load_word2vec_format(source_file, binary=False)\n",
    "target_glove_model = KeyedVectors.load_word2vec_format(source_file, binary=False)"
   ]
  },
  {
   "cell_type": "code",
   "execution_count": 64,
   "metadata": {},
   "outputs": [
    {
     "name": "stdout",
     "output_type": "stream",
     "text": [
      "Cosine similarity between 'hi' and '.' - GloVe : -0.9790179\n",
      "Cosine similarity between 'hi' and 'go' - GloVe : 0.9545123\n",
      "Cosine similarity between 'bonjour' and '.' - GloVe : 0.9993236\n",
      "Cosine similarity between 'bonjour' and 'cours' - GloVe : -0.99489284\n"
     ]
    }
   ],
   "source": [
    "\n",
    "# Test the model\n",
    "test_similarity(source_glove_model, 'hi', '.', \"GloVe\", src=True)\n",
    "test_similarity(source_glove_model, 'hi', 'go', \"GloVe\", src=True)\n",
    "\n",
    "test_similarity(target_glove_model, 'bonjour', '.', \"GloVe\", src=False)\n",
    "test_similarity(target_glove_model, 'bonjour', 'cours', \"GloVe\", src=False)"
   ]
  },
  {
   "cell_type": "markdown",
   "metadata": {},
   "source": [
    "#FastText"
   ]
  },
  {
   "cell_type": "code",
   "execution_count": 69,
   "metadata": {},
   "outputs": [
    {
     "name": "stdout",
     "output_type": "stream",
     "text": [
      "Cosine similarity between 'hi' and '.' - FastText : 0.10711907\n",
      "Cosine similarity between 'hi' and 'go' - FastText : 0.0017310102\n"
     ]
    }
   ],
   "source": [
    "\"\"\"## FastText\"\"\"\n",
    "from gensim.models import FastText\n",
    "\n",
    "fast_model = FastText(vector_size=100, window=5, min_count=3)\n",
    "fast_model.build_vocab(corpus_file='models/source_glove.txt')\n",
    "fast_model.train(corpus_file='models/source_glove.txt', epochs=100, total_examples=fast_model.corpus_count, total_words=fast_model.corpus_total_words)\n",
    "\n",
    "test_similarity(fast_model.wv,'hi', '.', \"FastText\", src=True)\n",
    "test_similarity(fast_model.wv,'hi', 'go', \"FastText\", src=True)"
   ]
  },
  {
   "cell_type": "markdown",
   "metadata": {},
   "source": [
    "RNN"
   ]
  },
  {
   "cell_type": "code",
   "execution_count": null,
   "metadata": {},
   "outputs": [],
   "source": [
    "# Now we can create the RNN model that will translate from english to french using one of the previous embeddings\n",
    "\n",
    "from torch import nn\n",
    "import torch.nn.functional as F\n",
    "\n",
    "class RNN(nn.Module):\n",
    "    def __init__(self, embedding_dim, hidden_dim, vocab_size, tagset_size):\n",
    "        super(RNN, self).__init__()\n",
    "        self.hidden_dim = hidden_dim\n",
    "\n",
    "        self.word_embeddings = nn.Embedding(vocab_size, embedding_dim)\n",
    "\n",
    "        # The LSTM takes word embeddings as inputs, and outputs hidden states\n",
    "        # with dimensionality hidden_dim.\n",
    "        self.lstm = nn.LSTM(embedding_dim, hidden_dim)\n",
    "\n",
    "        # The linear layer that maps from hidden state space to tag space\n",
    "        self.hidden2tag = nn.Linear(hidden_dim, tagset_size)\n",
    "\n",
    "    def forward(self, sentence):\n",
    "        embeds = self.word_embeddings(sentence)\n",
    "        lstm_out, _ = self.lstm(embeds.view(len(sentence), 1, -1))\n",
    "        tag_space = self.hidden2tag(lstm_out.view(len(sentence), -1))\n",
    "        tag_scores = F.log_softmax(tag_space, dim=1)\n",
    "        return tag_scores"
   ]
  },
  {
   "cell_type": "code",
   "execution_count": null,
   "metadata": {},
   "outputs": [],
   "source": [
    "#From this model we can create a loss function and an optimizer\n",
    "\n",
    "def loss_function(tag_scores, gold_tags):\n",
    "    loss_function = nn.NLLLoss()\n",
    "    loss = loss_function(tag_scores, gold_tags)\n",
    "    return loss"
   ]
  },
  {
   "cell_type": "code",
   "execution_count": null,
   "metadata": {},
   "outputs": [],
   "source": [
    "#Now we can train the model\n",
    "import torch\n",
    "\n",
    "device = torch.device(\"cuda\" if torch.cuda.is_available() else \"cpu\")\n",
    "\n",
    "model = RNN(100, 128, 100, 100).to(device)\n",
    "\n",
    "optimizer = torch.optim.SGD(model.parameters(), lr=0.1)\n",
    "\n",
    "n_epoch = 100\n",
    "\n",
    "for epoch in range(n_epoch):\n",
    "    for sentence, tags in data:\n",
    "        sentence = torch.tensor(sentence, dtype=torch.long).to(device)\n",
    "        tags = torch.tensor(tags, dtype=torch.long).to(device)\n",
    "\n",
    "        model.zero_grad()\n",
    "\n",
    "        tag_scores = model(sentence)\n",
    "\n",
    "        loss = loss_function(tag_scores, tags)\n",
    "        loss.backward()\n",
    "        optimizer.step()\n",
    "        \n",
    "    #here we can use the test data to evaluate the model\n",
    "    \n",
    "    losses = torch.zeros(len(test_data))\n",
    "    \n",
    "    for sentence, tags in test_data:\n",
    "        sentence = torch.tensor(sentence, dtype=torch.long).to(device)\n",
    "        tags = torch.tensor(tags, dtype=torch.long).to(device)\n",
    "\n",
    "        tag_scores = model(sentence)\n",
    "\n",
    "        loss = loss_function(tag_scores, tags)\n",
    "        \n",
    "        losses.append(loss.item())\n",
    "        \n",
    "    print(\"Epoch \" + str(epoch) + \" : \" + str(losses.mean()))\n",
    "    print(\"Std : \" + str(losses.std()))\n",
    "        \n",
    "\n",
    "    print(\"Epoch: {}/{}.............\".format(epoch, n_epoch), end=\" \")\n",
    "    print(\"Loss: {:.4f}\".format(loss.item()))"
   ]
  },
  {
   "cell_type": "markdown",
   "metadata": {},
   "source": [
    "To this model we can now try to add contextual embeddings"
   ]
  },
  {
   "cell_type": "code",
   "execution_count": null,
   "metadata": {},
   "outputs": [],
   "source": [
    "#for contextual embedding we will use BERT\n",
    "\n",
    "import torch\n",
    "import torch.nn as nn\n",
    "from transformers import BertModel, BertTokenizer\n",
    "\n",
    "#we use bert and we will train it on the data\n",
    "bert_model = BertModel.from_pretrained('bert-base-uncased')\n",
    "#we will use the tokenizer to tokenize the sentences\n",
    "sentences = [\"I love machine learning\", \"I love coding in python\"]\n",
    "tokenizer = BertTokenizer.from_pretrained('bert-base-uncased')\n",
    "tokenized_texts = [tokenizer.tokenize(sent) for sent in sentences]"
   ]
  }
 ],
 "metadata": {
  "kernelspec": {
   "display_name": "Python 3 (ipykernel)",
   "language": "python",
   "name": "python3"
  },
  "language_info": {
   "codemirror_mode": {
    "name": "ipython",
    "version": 3
   },
   "file_extension": ".py",
   "mimetype": "text/x-python",
   "name": "python",
   "nbconvert_exporter": "python",
   "pygments_lexer": "ipython3",
   "version": "3.10.4"
  },
  "vscode": {
   "interpreter": {
    "hash": "fefcaccf17e39639418275c4a17d5ca0413e9c7c1af2b5e38e9064532ca76b63"
   }
  }
 },
 "nbformat": 4,
 "nbformat_minor": 4
}
