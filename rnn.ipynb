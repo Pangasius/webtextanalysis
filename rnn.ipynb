{
 "cells": [
  {
   "cell_type": "markdown",
   "metadata": {},
   "source": [
    "In this project, we will use an RNN architecture to build a Machine Translation model.\n",
    "\n",
    "It will use as a corpus wikipedia dumps.\n",
    "\n",
    "Either the source or the target will be English. We will, in our case, try English to French Translation."
   ]
  },
  {
   "cell_type": "code",
   "execution_count": null,
   "metadata": {},
   "outputs": [],
   "source": [
    "#imports\n",
    "!pip3 install numpy\n",
    "!pip3 install --pre torch torchvision torchaudio --extra-index-url https://download.pytorch.org/whl/nightly/cu117\n",
    "#or any nightly version so long as pytorch > 1.11 https://pytorch.org/\n",
    "!pip3 install gensim transformers d2l==1.0.0a1.post0\n",
    "\n",
    "#In pytorch functional.py, change PILLOW_VERSION to __version__\n",
    "#there are two places to change"
   ]
  },
  {
   "cell_type": "markdown",
   "metadata": {},
   "source": [
    "Dataset"
   ]
  },
  {
   "cell_type": "code",
   "execution_count": 1,
   "metadata": {},
   "outputs": [],
   "source": [
    "#Test samples location and preprocessing\n",
    "\n",
    "#cell almost entirely from https://d2l.ai/chapter_recurrent-modern/machine-translation-and-dataset.html\n",
    "import os\n",
    "import torch\n",
    "from d2l import torch as d2l\n",
    "\n",
    "class MTFraEng(d2l.DataModule):  #@save\n",
    "    def _download(self):\n",
    "        d2l.extract(d2l.download(\n",
    "            d2l.DATA_URL+'fra-eng.zip', self.root,\n",
    "            '94646ad1522d915e7b0f9296181140edcf86a4f5'))\n",
    "        with open(self.root + '/fra-eng/fra.txt', encoding='utf-8') as f:\n",
    "            return f.read()\n",
    "\n",
    "@d2l.add_to_class(MTFraEng)  #@save\n",
    "def _preprocess(self, text):\n",
    "    # Replace non-breaking space with space\n",
    "    text = text.replace('\\u202f', ' ').replace('\\xa0', ' ')\n",
    "    # Insert space between words and punctuation marks\n",
    "    no_space = lambda char, prev_char: char not in 'aàbcdeéèâfghiîjklmnoôpqrstuûvwxyz ' and prev_char != ' '\n",
    "    out = [' ' + char if i > 0 and no_space(char, text[i - 1]) else char\n",
    "           for i, char in enumerate(text.lower())]\n",
    "    \n",
    "    #insert space after punctuation marks\n",
    "    no_space = lambda char, next_char: char not in 'aàbcdeéèâfghiîjklmnoôpqrstuûvwxyz ' and next_char != ' '\n",
    "    out = [char + ' ' if i < len(text) - 1 and no_space(char, text[i + 1]) else char\n",
    "              for i, char in enumerate(out)]\n",
    "    return ''.join(out)\n",
    "\n",
    "@d2l.add_to_class(MTFraEng)  #@save\n",
    "def _tokenize(self, text, max_examples=None):\n",
    "    src, tgt = [], []\n",
    "    for i, line in enumerate(text.split('\\n')):\n",
    "        if max_examples and i > max_examples: break\n",
    "        parts = line.split('\\t')\n",
    "        if len(parts) == 2:\n",
    "            # Skip empty tokens\n",
    "            src.append([t for t in f'{parts[0]} <eos>'.split(' ') if t])  # src.append(EOS_token) ? \n",
    "            tgt.append([t for t in f'{parts[1]} <eos>'.split(' ') if t])\n",
    "    return src, tgt\n",
    "\n",
    "@d2l.add_to_class(MTFraEng)  #@save\n",
    "def __init__(self, batch_size=10, num_steps=15, num_train=162000):  #15, 162000\n",
    "    super(MTFraEng, self).__init__()\n",
    "    self.save_hyperparameters()\n",
    "    self.arrays, self.src_vocab, self.tgt_vocab = self._build_arrays(\n",
    "        self._download())\n",
    "\n",
    "\n",
    "@d2l.add_to_class(MTFraEng)  #@save\n",
    "def _build_arrays(self, raw_text, src_vocab=None, tgt_vocab=None):\n",
    "    def _build_array(sentences, vocab, is_tgt=False):\n",
    "        pad_or_trim = lambda seq, t: (\n",
    "            seq[:t] if len(seq) > t else seq + ['<pad>'] * (t - len(seq)))\n",
    "        sentences = [pad_or_trim(s, self.num_steps) for s in sentences]\n",
    "        if is_tgt:\n",
    "            sentences = [['<bos>'] + s for s in sentences]\n",
    "        if vocab is None:\n",
    "            vocab = d2l.Vocab(sentences, min_freq=2)\n",
    "        array = torch.tensor([vocab[s] for s in sentences])\n",
    "        valid_len = (array != vocab['<pad>']).type(torch.int64).sum(1)\n",
    "        return array, vocab, valid_len\n",
    "    src, tgt = self._tokenize(self._preprocess(raw_text),\n",
    "                              self.num_train)\n",
    "    src_array, src_vocab, src_valid_len = _build_array(src, src_vocab)\n",
    "    tgt_array, tgt_vocab, _ = _build_array(tgt, tgt_vocab, True)\n",
    "    return ((src_array, tgt_array[:,:-1], src_valid_len, tgt_array[:,1:]),\n",
    "            src_vocab, tgt_vocab)\n",
    "\n",
    "@d2l.add_to_class(MTFraEng)  #@save\n",
    "def build(self, src_sentences, tgt_sentences):\n",
    "    raw_text = '\\n'.join([src + '\\t' + tgt for src, tgt in zip(\n",
    "        src_sentences, tgt_sentences)])\n",
    "    arrays, _, _ = self._build_arrays(\n",
    "        raw_text, self.src_vocab, self.tgt_vocab)\n",
    "    return arrays\n",
    "\n",
    "#src, tgt, _,  _ = data.build(['hi .'], ['salut .'])\n",
    "#print('source:', data.src_vocab.to_tokens(src[0].type(torch.int64)))\n",
    "#print('target:', data.tgt_vocab.to_tokens(tgt[0].type(torch.int64)))\n",
    "\n",
    "@d2l.add_to_class(MTFraEng)  #@save\n",
    "def get_dataloader(self, train, seed=0, maxi=158140):\n",
    "    if (maxi > self.num_train):\n",
    "        raise ValueError(\"maxi must be less than the length of the dataset\")\n",
    "    \n",
    "    for array in self.arrays:\n",
    "        array = array[0:maxi]\n",
    "        \n",
    "    self.num_train = maxi\n",
    "    self.num_test = int(maxi * 0.3)\n",
    "    \n",
    "    idx = torch.randperm(generator=torch.Generator().manual_seed(seed), n=maxi)\n",
    "    \n",
    "    #0 is train, 1 is test, 2 is valid\n",
    "    if (train == 1):\n",
    "        idx = idx[int(maxi * 0.8):]\n",
    "    if (train == 2):\n",
    "        idx = idx[int(maxi * 0.6):int(maxi * 0.8)]\n",
    "    else :\n",
    "        idx = idx[:int(maxi * 0.6)]\n",
    "    return self.get_tensorloader(self.arrays, train, idx)\n",
    "    "
   ]
  },
  {
   "cell_type": "code",
   "execution_count": 2,
   "metadata": {},
   "outputs": [],
   "source": [
    "\n",
    "device = torch.device('cuda' if torch.cuda.is_available() else 'cpu')\n",
    "#device = torch.device('cpu')"
   ]
  },
  {
   "cell_type": "code",
   "execution_count": 3,
   "metadata": {},
   "outputs": [],
   "source": [
    "\n",
    "data = MTFraEng()"
   ]
  },
  {
   "cell_type": "code",
   "execution_count": 4,
   "metadata": {},
   "outputs": [
    {
     "name": "stdout",
     "output_type": "stream",
     "text": [
      "3163\n",
      "3163\n",
      "9489\n"
     ]
    }
   ],
   "source": [
    "print(len(data.get_dataloader(train=1)))\n",
    "print(len(data.get_dataloader(train=2)))\n",
    "print(len(data.get_dataloader(train=0)))"
   ]
  },
  {
   "cell_type": "markdown",
   "metadata": {},
   "source": [
    "Word embedding\n",
    "\n",
    "# We will use three different types of word embeddings:\n",
    "# 1. Word2Vec\n",
    "# 2. GloVe\n",
    "# 3. FastText\n"
   ]
  },
  {
   "cell_type": "code",
   "execution_count": 5,
   "metadata": {},
   "outputs": [],
   "source": [
    "\"\"\"## Word2Vec\"\"\"\n",
    "import gensim"
   ]
  },
  {
   "cell_type": "code",
   "execution_count": 6,
   "metadata": {},
   "outputs": [
    {
     "name": "stdout",
     "output_type": "stream",
     "text": [
      "C:\\Users\\gille\\AppData\\Local\\Temp\\ipykernel_10512\n",
      "c:\\Users\\gille\\OneDrive\\Desktop\\web\\webtextanalysis\n",
      "c:\\Users\\gille\\miniconda3\\envs\\thesis\\lib\\site-packages\\ipykernel_launcher.py\n"
     ]
    }
   ],
   "source": [
    "#keep in mind you have to launch the notebook inside the git folder to make this work (second one)\n",
    "from inspect import getsourcefile\n",
    "import sys\n",
    "print(os.path.dirname(getsourcefile(lambda:0)))\n",
    "print(sys.path[0])\n",
    "print(os.path.abspath(sys.argv[0]))"
   ]
  },
  {
   "cell_type": "code",
   "execution_count": 7,
   "metadata": {},
   "outputs": [
    {
     "name": "stdout",
     "output_type": "stream",
     "text": [
      "source: tensor([3972, 8069, 8992,    4, 1975,  703, 5398,    7,   21,   22,   22,   22,\n",
      "          22,   22,   22])\n",
      "decoder input: tensor([   22,  7018,  9172, 10284, 13168, 11801,  9490, 13507,     9,    23,\n",
      "           24,    24,    24,    24,    24])\n"
     ]
    }
   ],
   "source": [
    "src, tgt, src_valid_len, label = next(iter(data.get_dataloader(train=0)))\n",
    "print('source:', src[0].type(torch.int64))\n",
    "print('decoder input:', tgt[0].type(torch.int64))"
   ]
  },
  {
   "cell_type": "code",
   "execution_count": 8,
   "metadata": {},
   "outputs": [],
   "source": [
    "import numpy as np\n",
    "\n",
    "def save_split():\n",
    "    data = MTFraEng(batch_size=5)\n",
    "    with open(\"samples/source.txt\", \"w\") as f:\n",
    "        for i in range(0, data.num_train):\n",
    "            for word in data.arrays[0][i].numpy() :\n",
    "                f.write(str(word) + \" \")\n",
    "            f.write(\"\\n\")\n",
    "            \n",
    "    with open(\"samples/target.txt\", \"w\") as f:\n",
    "        for i in range(0, data.num_train):\n",
    "            for word in data.arrays[1][i].numpy() :\n",
    "                f.write(str(word) + \" \")\n",
    "            f.write(\"\\n\")\n",
    "            \n",
    "def load_source():\n",
    "    return np.loadtxt(\"samples/source.txt\", dtype=str)\n",
    "\n",
    "def load_target():\n",
    "    return np.loadtxt(\"samples/target.txt\", dtype=str)\n",
    "\n",
    "def word_to_token(word, src=True):\n",
    "    if src :\n",
    "        return data.src_vocab[word]\n",
    "    else :\n",
    "        return data.tgt_vocab[word]\n",
    "\n",
    "def token_to_word(token, src=True):\n",
    "    if src :\n",
    "        return data.src_vocab.to_tokens(token)\n",
    "    else :\n",
    "        return data.tgt_vocab.to_tokens(token)\n",
    "\n",
    "def test_similarity(model, word1, word2, model_name, src=True):\n",
    "    print(\"Cosine similarity between '\" + word1 + \"' and '\"+ word2 +\"' - \" + model_name + \" : \" + str(model.similarity(word_to_token(word1, src), word_to_token(word2, src))))\n"
   ]
  },
  {
   "cell_type": "code",
   "execution_count": 9,
   "metadata": {},
   "outputs": [
    {
     "name": "stdout",
     "output_type": "stream",
     "text": [
      "['i', \"'\", 'm', 'working', '.', '<eos>', '<pad>', '<pad>', '<pad>', '<pad>', '<pad>', '<pad>', '<pad>', '<pad>', '<pad>']\n",
      "['i', \"'\", 'm', 'worried', '.', '<eos>', '<pad>', '<pad>', '<pad>', '<pad>', '<pad>', '<pad>', '<pad>', '<pad>', '<pad>']\n",
      "['i', \"'\", 've', 'failed', '.', '<eos>', '<pad>', '<pad>', '<pad>', '<pad>', '<pad>', '<pad>', '<pad>', '<pad>', '<pad>']\n",
      "['ignore', 'them', '.', '<eos>', '<pad>', '<pad>', '<pad>', '<pad>', '<pad>', '<pad>', '<pad>', '<pad>', '<pad>', '<pad>', '<pad>']\n",
      "['ignore', 'them', '.', '<eos>', '<pad>', '<pad>', '<pad>', '<pad>', '<pad>', '<pad>', '<pad>', '<pad>', '<pad>', '<pad>', '<pad>']\n",
      "['<bos>', 'je', 'suis', 'en', 'train', 'de', 'travailler', '.', '<eos>', '<pad>', '<pad>', '<pad>', '<pad>', '<pad>', '<pad>']\n",
      "['<bos>', 'je', 'me', 'fais', 'du', 'souci', '.', '<eos>', '<pad>', '<pad>', '<pad>', '<pad>', '<pad>', '<pad>', '<pad>']\n",
      "['<bos>', 'j', \"'\", 'ai', 'échoué', '.', '<eos>', '<pad>', '<pad>', '<pad>', '<pad>', '<pad>', '<pad>', '<pad>', '<pad>']\n",
      "['<bos>', 'ignore', '-', 'les', '.', '<eos>', '<pad>', '<pad>', '<pad>', '<pad>', '<pad>', '<pad>', '<pad>', '<pad>', '<pad>']\n",
      "['<bos>', 'ignorez', '-', 'les', '.', '<eos>', '<pad>', '<pad>', '<pad>', '<pad>', '<pad>', '<pad>', '<pad>', '<pad>', '<pad>']\n"
     ]
    }
   ],
   "source": [
    "#print a few samples\n",
    "for i in range(2500,2505):\n",
    "    print(token_to_word(data.arrays[0][i].numpy(), True))\n",
    "\n",
    "for i in range(2500,2505):\n",
    "    print(token_to_word(data.arrays[1][i].numpy(), False))"
   ]
  },
  {
   "cell_type": "code",
   "execution_count": 10,
   "metadata": {},
   "outputs": [],
   "source": [
    "if not os.path.exists(sys.path[0] + \"/samples/source.txt\") or not os.path.exists(sys.path[0] + \"/samples/target.txt\"):\n",
    "    save_split()"
   ]
  },
  {
   "cell_type": "code",
   "execution_count": 11,
   "metadata": {},
   "outputs": [
    {
     "name": "stdout",
     "output_type": "stream",
     "text": [
      "[['3451'], ['7'], ['21'], ['22']]\n",
      "['go', '.', '<eos>', '<pad>']\n",
      "[['22'], ['13320'], ['0'], ['23']]\n",
      "['<bos>', 'va', '!', '<eos>']\n"
     ]
    }
   ],
   "source": [
    "\n",
    "source_text = load_source()\n",
    "one_line_source = source_text.reshape([np.prod(source_text.shape)])\n",
    "\n",
    "#format to be accepted by Word2Vec\n",
    "one_line_source = [str(i).split() for i in one_line_source]\n",
    "\n",
    "print(one_line_source[:4])\n",
    "#print in words \n",
    "print([token_to_word(int(i[0]), src=True) for i in one_line_source[:4]])\n",
    "\n",
    "\n",
    "\n",
    "target_text = load_target()\n",
    "one_line_target = target_text.reshape([np.prod(target_text.shape)])\n",
    "\n",
    "#format to be accepted by Word2Vec\n",
    "one_line_target = [str(i).split() for i in one_line_target]\n",
    "\n",
    "print(one_line_target[:4])\n",
    "#print in words \n",
    "print([token_to_word(int(i[0]), src=False) for i in one_line_target[:4]])"
   ]
  },
  {
   "cell_type": "code",
   "execution_count": 12,
   "metadata": {},
   "outputs": [],
   "source": [
    "\"\"\"## Word2Vec\"\"\"\n",
    "if not os.path.exists(sys.path[0] + \"/models/source_w2v_cbow.txt\"):\n",
    "    # Create CBOW model\n",
    "    source_w2v_model_cbow = gensim.models.Word2Vec(one_line_source, min_count = 1,\n",
    "                                vector_size = 100, window = 5).wv\n",
    "\n",
    "if not os.path.exists(sys.path[0] + \"/models/source_w2v_skip.txt\"):\n",
    "    # Create Skip Gram model\n",
    "    source_w2v_model_skip = gensim.models.Word2Vec(one_line_source, min_count = 1, vector_size = 100,\n",
    "                                                window = 5, sg = 1).wv\n",
    "    \n",
    "if not os.path.exists(sys.path[0] + \"/models/target_w2v_cbow.txt\"):\n",
    "    # Create CBOW model\n",
    "    target_w2v_model_cbow = gensim.models.Word2Vec(one_line_target, min_count = 1,\n",
    "                                vector_size = 100, window = 5).wv\n",
    "\n",
    "if not os.path.exists(sys.path[0] + \"/models/target_w2v_skip.txt\"):\n",
    "    # Create Skip Gram model\n",
    "    target_w2v_model_skip = gensim.models.Word2Vec(one_line_target, min_count = 1, vector_size = 100,\n",
    "                                                window = 5, sg = 1).wv"
   ]
  },
  {
   "cell_type": "code",
   "execution_count": 13,
   "metadata": {},
   "outputs": [],
   "source": [
    "#save the models\n",
    "if not os.path.exists(sys.path[0] + \"/models/source_w2v_cbow.txt\"):\n",
    "    source_w2v_model_cbow.save_word2vec_format(sys.path[0] + \"/models/source_w2v_cbow.txt\", binary=False)\n",
    "    \n",
    "if not os.path.exists(sys.path[0] + \"/models/source_w2v_skip.txt\"):\n",
    "    source_w2v_model_skip.save_word2vec_format(sys.path[0] + \"/models/source_w2v_skip.txt\", binary=False)\n",
    "    \n",
    "if not os.path.exists(sys.path[0] + \"/models/target_w2v_cbow.txt\"):\n",
    "    target_w2v_model_cbow.save_word2vec_format(sys.path[0] + \"/models/target_w2v_cbow.txt\", binary=False)\n",
    "\n",
    "if not os.path.exists(sys.path[0] + \"/models/target_w2v_skip.txt\"):\n",
    "    target_w2v_model_skip.save_word2vec_format(sys.path[0] + \"/models/target_w2v_skip.txt\", binary=False)"
   ]
  },
  {
   "cell_type": "code",
   "execution_count": 14,
   "metadata": {},
   "outputs": [],
   "source": [
    "#load the models\n",
    "source_w2v_model_cbow = gensim.models.KeyedVectors.load_word2vec_format(sys.path[0] + \"/models/source_w2v_cbow.txt\", binary=False)\n",
    "source_w2v_model_skip = gensim.models.KeyedVectors.load_word2vec_format(sys.path[0] + \"/models/source_w2v_skip.txt\", binary=False)\n",
    "target_w2v_model_cbow = gensim.models.KeyedVectors.load_word2vec_format(sys.path[0] + \"/models/target_w2v_cbow.txt\", binary=False)\n",
    "target_w2v_model_skip = gensim.models.KeyedVectors.load_word2vec_format(sys.path[0] + \"/models/target_w2v_skip.txt\", binary=False)"
   ]
  },
  {
   "cell_type": "code",
   "execution_count": 15,
   "metadata": {},
   "outputs": [
    {
     "name": "stdout",
     "output_type": "stream",
     "text": [
      "Cosine similarity between 'hi' and '.' - CBOW : 0.102090605\n",
      "Cosine similarity between 'hi' and 'run' - CBOW : 0.22964995\n",
      "Cosine similarity between 'hi' and '.' - SkipGram : 0.102090605\n",
      "Cosine similarity between 'hi' and 'run' - SkipGram : 0.22964995\n",
      "Cosine similarity between 'bonjour' and '.' - CBOW : 0.080562495\n",
      "Cosine similarity between 'bonjour' and 'cours' - CBOW : 1.0\n",
      "Cosine similarity between 'bonjour' and '.' - CBOW : 0.080562495\n",
      "Cosine similarity between 'bonjour' and 'cours' - CBOW : 1.0\n"
     ]
    }
   ],
   "source": [
    "test_similarity(source_w2v_model_cbow, 'hi', '.', \"CBOW\")\n",
    "test_similarity(source_w2v_model_cbow, 'hi', 'run', \"CBOW\")\n",
    "\n",
    "test_similarity(source_w2v_model_skip, 'hi', '.', \"SkipGram\")\n",
    "test_similarity(source_w2v_model_skip, 'hi', 'run', \"SkipGram\")\n",
    "\n",
    "test_similarity(target_w2v_model_cbow, 'bonjour', '.', \"CBOW\")\n",
    "test_similarity(target_w2v_model_cbow, 'bonjour', 'cours', \"CBOW\")\n",
    "\n",
    "test_similarity(target_w2v_model_skip, 'bonjour', '.', \"CBOW\")\n",
    "test_similarity(target_w2v_model_skip, 'bonjour', 'cours', \"CBOW\")"
   ]
  },
  {
   "cell_type": "code",
   "execution_count": 16,
   "metadata": {},
   "outputs": [],
   "source": [
    "\"\"\"## GloVe\"\"\"\n",
    "\n",
    "# coding: utf-8\n",
    "from gensim.models import KeyedVectors"
   ]
  },
  {
   "cell_type": "code",
   "execution_count": 17,
   "metadata": {},
   "outputs": [],
   "source": [
    "#once we have the tokenized file, we can call the glove model\n",
    "\n",
    "####CALL FROM BASH glove_run.py"
   ]
  },
  {
   "cell_type": "code",
   "execution_count": 18,
   "metadata": {},
   "outputs": [],
   "source": [
    "#Only do this once (depends on if windows or linux sometimes)\n",
    "#source_file = sys.path[0] + '\\\\models\\\\source_glove.txt'\n",
    "#target_file = sys.path[0] + '\\\\models\\\\target_glove.txt'\n",
    "\n",
    "source_file = sys.path[0] + '/models/source_glove.txt'\n",
    "target_file = sys.path[0] + '/models/target_glove.txt'\n",
    "# Load the model, can take a bit of time\n",
    "source_glove_model = KeyedVectors.load_word2vec_format(source_file, binary=False, no_header=True)\n",
    "target_glove_model = KeyedVectors.load_word2vec_format(source_file, binary=False, no_header=True)"
   ]
  },
  {
   "cell_type": "code",
   "execution_count": 19,
   "metadata": {},
   "outputs": [
    {
     "name": "stdout",
     "output_type": "stream",
     "text": [
      "Cosine similarity between 'hi' and '.' - GloVe : -0.14974727\n",
      "Cosine similarity between 'hi' and 'run' - GloVe : 0.36936876\n",
      "Cosine similarity between 'bonjour' and '.' - GloVe : -0.020779062\n",
      "Cosine similarity between 'bonjour' and 'cours' - GloVe : 0.14074028\n"
     ]
    }
   ],
   "source": [
    "\n",
    "# Test the model\n",
    "test_similarity(source_glove_model, 'hi', '.', \"GloVe\", src=True)\n",
    "test_similarity(source_glove_model, 'hi', 'run', \"GloVe\", src=True)\n",
    "\n",
    "test_similarity(target_glove_model, 'bonjour', '.', \"GloVe\", src=False)\n",
    "test_similarity(target_glove_model, 'bonjour', 'cours', \"GloVe\", src=False)"
   ]
  },
  {
   "cell_type": "markdown",
   "metadata": {},
   "source": [
    "#FastText"
   ]
  },
  {
   "cell_type": "code",
   "execution_count": 20,
   "metadata": {},
   "outputs": [],
   "source": [
    "\"\"\"## FastText\"\"\"\n",
    "from gensim.models import FastText\n",
    "\n",
    "#if not saved yet we train it\n",
    "if not os.path.exists(sys.path[0] + \"/models/source_fast.txt\"):\n",
    "    source_fast_model = FastText(vector_size=100, window=5, min_count=1)\n",
    "    source_fast_model.build_vocab(corpus_file=sys.path[0] + '/samples/source.txt')\n",
    "    source_fast_model.train(corpus_file=sys.path[0] + '/samples/source.txt', epochs=10, total_examples=source_fast_model.corpus_count, total_words=source_fast_model.corpus_total_words)\n",
    "    source_fast_model = source_fast_model.wv\n"
   ]
  },
  {
   "cell_type": "code",
   "execution_count": 21,
   "metadata": {},
   "outputs": [],
   "source": [
    "if not os.path.exists(sys.path[0] + \"/models/target_fast.txt\"):\n",
    "    target_fast_model = FastText(vector_size=100, window=5, min_count=1)\n",
    "    target_fast_model.build_vocab(corpus_file=sys.path[0] + '/samples/target.txt')\n",
    "    target_fast_model.train(corpus_file=sys.path[0] + '/samples/target.txt', epochs=10, total_examples=target_fast_model.corpus_count, total_words=target_fast_model.corpus_total_words)\n",
    "    target_fast_model = target_fast_model.wv"
   ]
  },
  {
   "cell_type": "code",
   "execution_count": 22,
   "metadata": {},
   "outputs": [],
   "source": [
    "if not os.path.exists(sys.path[0] + \"/models/source_fast.txt\"):\n",
    "    source_fast_model.save_word2vec_format(sys.path[0] + \"/models/source_fast.txt\", binary=False)\n",
    "if not os.path.exists(sys.path[0] + \"/models/target_fast.txt\"):\n",
    "    target_fast_model.save_word2vec_format(sys.path[0] + \"/models/target_fast.txt\", binary=False)"
   ]
  },
  {
   "cell_type": "code",
   "execution_count": 23,
   "metadata": {},
   "outputs": [],
   "source": [
    "#if saved we load it\n",
    "source_fast_model = KeyedVectors.load_word2vec_format(sys.path[0] + \"/models/source_fast.txt\", binary=False)\n",
    "target_fast_model = KeyedVectors.load_word2vec_format(sys.path[0] + \"/models/target_fast.txt\", binary=False)"
   ]
  },
  {
   "cell_type": "code",
   "execution_count": 24,
   "metadata": {},
   "outputs": [
    {
     "name": "stdout",
     "output_type": "stream",
     "text": [
      "Cosine similarity between 'hi' and '.' - FastText : 0.22006267\n",
      "Cosine similarity between 'hi' and 'run' - FastText : 0.59513915\n",
      "Cosine similarity between 'bonjour' and '.' - FastText : 0.11587063\n",
      "Cosine similarity between 'bonjour' and 'cours' - FastText : 0.41142398\n"
     ]
    }
   ],
   "source": [
    "test_similarity(source_fast_model,'hi', '.', \"FastText\", src=True)\n",
    "test_similarity(source_fast_model,'hi', 'run', \"FastText\", src=True)\n",
    "\n",
    "test_similarity(target_fast_model,'bonjour', '.', \"FastText\", src=False)\n",
    "test_similarity(target_fast_model,'bonjour', 'cours', \"FastText\", src=False)"
   ]
  },
  {
   "cell_type": "markdown",
   "metadata": {},
   "source": [
    "RNN"
   ]
  },
  {
   "cell_type": "code",
   "execution_count": 25,
   "metadata": {},
   "outputs": [],
   "source": [
    "# Now we can create the RNN model that will translate from english to french using one of the previous embeddings\n",
    "\n",
    "from torch import nn\n",
    "import torch.nn.functional as F\n",
    "\n",
    "class RNN_encode(nn.Module):\n",
    "    def __init__(self, embedding_model_input, embedding_model_output, hidden_size=200):\n",
    "        super(RNN_encode, self).__init__()\n",
    "\n",
    "        self.hidden_size = hidden_size\n",
    "        \n",
    "        embedding = torch.tensor(embedding_model_input.vectors).to(device)\n",
    "        self.embedding_in = (embedding / torch.norm(embedding, dim=1, keepdim=True)).to(device)\n",
    "\n",
    "        # The LSTM takes word embeddings as inputs, and outputs hidden states\n",
    "        # with dimensionality hidden_dim.\n",
    "        self.embedding_dim_in = self.embedding_in.shape[1]\n",
    "        self.lstm_in = nn.LSTM(self.embedding_dim_in, self.embedding_dim_in, bidirectional=True, num_layers=2, dropout=0.01)\n",
    "        self.hidden_in = nn.Linear(self.embedding_dim_in, self.hidden_size)\n",
    "        self.hidden_in2 = nn.Linear(self.hidden_size, self.hidden_size)\n",
    "\n",
    "\n",
    "    def forward(self, input_sentence):\n",
    "        #words_embeddings is a gensim model\n",
    "        input_sentence = torch.where((input_sentence < self.embedding_in.shape[0]).to(device), input_sentence.to(device), torch.zeros_like(input_sentence).to(device))\n",
    "        one_hot = F.one_hot(input_sentence.type(torch.int64), self.embedding_in.shape[0]).to(device)\n",
    "        embeds = torch.matmul(one_hot.type(torch.float), self.embedding_in.type(torch.float))\n",
    "         \n",
    "        #encoder\n",
    "        output_lstm_1, _ = self.lstm_in(embeds.view(input_sentence.shape[0], input_sentence.shape[1], self.embedding_dim_in))\n",
    "        \n",
    "        #sum the two directions\n",
    "        output_lstm_1 = output_lstm_1[:, :, :self.embedding_dim_in] + output_lstm_1[:, : ,self.embedding_dim_in:]\n",
    "        soft = F.log_softmax(output_lstm_1, dim=2)\n",
    "        \n",
    "        output_hidden_1 = self.hidden_in(soft.view(input_sentence.shape[0], input_sentence.shape[1], self.embedding_dim_in))\n",
    "        output_hidden_2 = self.hidden_in2(F.relu(output_hidden_1.view(input_sentence.shape[0], input_sentence.shape[1], self.hidden_size)))\n",
    "        \n",
    "        return F.log_softmax(output_hidden_2, dim=2)\n",
    "        \n",
    "class RNN_decode(nn.Module):\n",
    "    def __init__(self, embedding_model_input, embedding_model_output, hidden_size=200):\n",
    "        super(RNN_decode, self).__init__()\n",
    "\n",
    "        embedding = torch.tensor(embedding_model_output.vectors).to(device)\n",
    "        self.embedding_out = embedding / torch.norm(embedding, dim=1, keepdim=True).to(device)\n",
    "        \n",
    "        self.hidden_size = hidden_size\n",
    "        \n",
    "        self.embedding_dim_out = self.embedding_out.shape[1]\n",
    "        self.lstm_out = nn.LSTM(self.hidden_size, self.hidden_size, bidirectional=True, num_layers=2, dropout=0.01)\n",
    "        self.hidden_out = nn.Linear(self.hidden_size, self.embedding_dim_out)\n",
    "        self.hidden_out2 = nn.Linear(self.embedding_dim_out, self.embedding_dim_out)\n",
    "        \n",
    "    def forward(self, hidden_sentence):\n",
    "        #decoder\n",
    "        output_lstm_2, _ = self.lstm_out(hidden_sentence.view(hidden_sentence.shape[0], hidden_sentence.shape[1], self.hidden_size))\n",
    "        \n",
    "        #sum the two directions\n",
    "        output_lstm_2 = output_lstm_2[:, :, :self.hidden_size] + output_lstm_2[:, : ,self.hidden_size:] + hidden_sentence\n",
    "        soft1 = F.log_softmax(output_lstm_2, dim=2)\n",
    "        output_hidden_1 = self.hidden_out(soft1.view(hidden_sentence.shape[0], hidden_sentence.shape[1], self.hidden_size))\n",
    "        output_hidden_2 = self.hidden_out2(F.relu(output_hidden_1.view(hidden_sentence.shape[0], hidden_sentence.shape[1], self.embedding_dim_out)))\n",
    "    \n",
    "        #similarity\n",
    "        out = torch.abs(output_hidden_2 @ self.embedding_out.transpose(0,1))\n",
    "        soft =  F.softmin(out, dim=2)\n",
    "        return  (soft @ self.embedding_out) # VOCAB_SIZE * EMBEDDING_DIM\n",
    "    \n",
    "    def get_embedding(self):\n",
    "        return self.embedding_out\n",
    "    \n",
    "class RNN(nn.Module):\n",
    "    def __init__(self, embedding_model_input, embedding_model_output):\n",
    "        super(RNN, self).__init__()\n",
    "        self.encoder = RNN_encode(embedding_model_input, embedding_model_output)\n",
    "        self.decoder = RNN_decode(embedding_model_input, embedding_model_output)\n",
    "        \n",
    "    def forward(self, input_sentence):\n",
    "        hidden_sentence = self.encoder(input_sentence)\n",
    "        output_sentence = self.decoder(hidden_sentence)\n",
    "        return output_sentence\n",
    "    \n",
    "    def get_embedding(self):\n",
    "        return self.decoder.get_embedding()"
   ]
  },
  {
   "cell_type": "code",
   "execution_count": 26,
   "metadata": {},
   "outputs": [],
   "source": [
    "#From this model we can create a loss function and an optimizer\n",
    "\n",
    "def loss_function(predicted_sentence, target_sentence, pad, model):\n",
    "    embedder = model.get_embedding()\n",
    "    mask = (target_sentence < embedder.shape[0]).to(device)\n",
    "    target = torch.where(mask, target_sentence.to(device), torch.zeros_like(target_sentence).to(device))\n",
    "\n",
    "    loss = torch.dist(predicted_sentence, embedder[target.type(torch.int64)], p=2)\n",
    "    return loss.requires_grad_(True)"
   ]
  },
  {
   "cell_type": "code",
   "execution_count": 27,
   "metadata": {},
   "outputs": [],
   "source": [
    "batch_size = 128\n",
    "data = MTFraEng(batch_size=batch_size)"
   ]
  },
  {
   "cell_type": "code",
   "execution_count": 28,
   "metadata": {},
   "outputs": [],
   "source": [
    "#Now we can train the model\n",
    "import torch\n",
    "import time\n",
    "\n",
    "def train(embed_in, embed_out, n_epoch = 15, batch_size = 10, usage_size = 130000, lr = 0.01, neural = RNN):\n",
    "\n",
    "    model = neural(embedding_model_input=embed_in, embedding_model_output=embed_out).to(device)\n",
    "\n",
    "    lr1 = lr\n",
    "    \n",
    "    size_per_epoch = int(usage_size * 0.6 / batch_size) + 1\n",
    "\n",
    "    print(\"Ready\")\n",
    "    \n",
    "    pad = word_to_token('<pad>', src=False)\n",
    "\n",
    "    epoch_loss = np.zeros(n_epoch)\n",
    "    for epoch in range(n_epoch):\n",
    "        \n",
    "        if epoch % 10 == 0 and epoch != 0:\n",
    "            lr1 = lr1 / 1.1\n",
    "        \n",
    "        capturable = device == 'cuda'\n",
    "        optimizer = torch.optim.Adam(model.parameters(), lr=lr1, capturable=capturable)\n",
    "        \n",
    "        counter = 0\n",
    "        time_avg = 0\n",
    "        for src, tgt, src_valid_len, label in data.get_dataloader(train=0, seed=0, maxi=usage_size):\n",
    "            time_start = time.time()\n",
    "            \n",
    "            src.to(device)\n",
    "            tgt.to(device)\n",
    "            \n",
    "            optimizer.zero_grad()\n",
    "\n",
    "            tag_scores = model(src)\n",
    "\n",
    "            loss = loss_function(tag_scores, tgt, pad, model)\n",
    "\n",
    "            loss.backward()\n",
    "\n",
    "            optimizer.step()\n",
    "            \n",
    "            #print(\"grad of lstm in\"  + str(model.encoder.lstm_in.weight_hh_l0.grad))\n",
    "\n",
    "            counter += 1\n",
    "            time_avg = time_avg * 0.95 + (time.time() - time_start) * (size_per_epoch - counter) * 0.01\n",
    "            print(\"New step : \", counter, \"/\", size_per_epoch, \" loss : \", loss.item(), \" estimated time :\", time_avg, \"grad :\", model.encoder.lstm_in.weight_hh_l0.grad.mean().item(), end=\"\\r\")\n",
    "            \n",
    "        #here we can use the test data to evaluate the model\n",
    "        with torch.no_grad() :\n",
    "            losses = torch.zeros(int(usage_size * 0.2 / batch_size) + 1)\n",
    "            counter = 0\n",
    "            for src, tgt, src_valid_len, label in data.get_dataloader(train=1, seed=0, maxi=usage_size):\n",
    "                src.to(device)\n",
    "                tgt.to(device)\n",
    "\n",
    "                tag_scores = model(src)\n",
    "\n",
    "                loss = loss_function(tag_scores, tgt, pad, model)\n",
    "                \n",
    "                losses[counter] = loss.item()\n",
    "                counter += 1\n",
    "\n",
    "            epoch_loss[epoch] = losses.mean()\n",
    "            print(\"Epoch: {}/{}.............\".format(epoch, n_epoch), end=\" \")\n",
    "            print(\"Loss: \" + str(epoch_loss[epoch]) + \".............\")\n",
    "            \n",
    "    return epoch_loss, model.to('cpu')\n",
    "    "
   ]
  },
  {
   "cell_type": "code",
   "execution_count": 29,
   "metadata": {},
   "outputs": [],
   "source": [
    "def test(model, embed_out, usage_size = 130000) :\n",
    "    #sample a sentence from the test set\n",
    "    src, tgt, src_valid_len, label = next(iter(data.get_dataloader(train=False, seed=0, maxi=usage_size)))\n",
    "\n",
    "\n",
    "    #translate the sentence\n",
    "\n",
    "    sentence = src.to(device)\n",
    "\n",
    "    tag_scores = model(sentence)\n",
    "    \n",
    "    tags = []\n",
    "    tags_token = []\n",
    "    for i in range(tag_scores.shape[1]):\n",
    "        tags_token.append(int(embed_out.similar_by_vector(tag_scores[0][i].cpu().detach().numpy(), topn=1)[0][0]))\n",
    "        tags.append(token_to_word(tags_token[i], src=False))\n",
    "    \n",
    "\n",
    "    #print the original sentence\n",
    "    print(\"Original sentence : \")\n",
    "    for word in src[0]:\n",
    "        print(token_to_word(word.item(), src=True), end=\" \")\n",
    "    print()\n",
    "    for word in src[0]:\n",
    "        print(word.item(), end=\" \")\n",
    "    print()\n",
    "\n",
    "    #print the translated sentence\n",
    "    print(\"Translated sentence : \")\n",
    "    print(tags)\n",
    "    print(tags_token)\n",
    "    \n",
    "    #print the target sentence\n",
    "    print(\"Target sentence : \")\n",
    "    for word in tgt[0]:\n",
    "        print(token_to_word(word.item(), src=False), end=\" \")\n",
    "    print()\n",
    "    for word in tgt[0]:\n",
    "        print(word.item(), end=\" \")\n",
    "    print()"
   ]
  },
  {
   "cell_type": "code",
   "execution_count": 30,
   "metadata": {},
   "outputs": [
    {
     "name": "stdout",
     "output_type": "stream",
     "text": [
      "Ready\n",
      "Epoch: 0/50............. Loss: 32.0728874206543............. time : 0.18541972988011282 grad : -3.836521500488743e-055\n",
      "Epoch: 1/50............. Loss: 31.36145782470703.............time : 0.18501118799240973 grad : -5.6826531363185495e-05\n",
      "Epoch: 2/50............. Loss: 30.683124542236328.............ime : 0.1879006499156534 grad : -9.539250459056348e-0565\n",
      "Epoch: 3/50............. Loss: 30.523101806640625.............ime : 0.18481560085391577 grad : -5.63490948479739e-0666\n",
      "Epoch: 4/50............. Loss: 30.910995483398438.............ime : 0.20475678079054768 grad : -8.65090696606785e-055\n",
      "Epoch: 5/50............. Loss: 31.15851402282715.............ime : 0.19224861806530766 grad : -8.420900485361926e-0646\n",
      "Epoch: 6/50............. Loss: 31.018396377563477.............ime : 0.1904024372392062 grad : -2.7767013307311572e-055\n",
      "Epoch: 7/50............. Loss: 31.030868530273438.............me : 0.19146939012996017 grad : 1.1827933121821843e-0605\n",
      "Epoch: 8/50............. Loss: 31.201766967773438.............ime : 0.19501016852739203 grad : 4.538275334198261e-0665\n",
      "Epoch: 9/50............. Loss: 31.3539981842041.............ime : 0.19126923472839855 grad : 0.00013116843183524907465\n",
      "Epoch: 10/50............. Loss: 30.940168380737305.............me : 0.19430452748675134 grad : -7.688679033890367e-065\n",
      "Epoch: 11/50............. Loss: 30.972455978393555.............e : 0.1913869044501477 grad : -1.0434003343107179e-055\n",
      "Epoch: 12/50............. Loss: 30.92383575439453.............me : 0.194832466313045 grad : -4.566003099171212e-066066\n",
      "Epoch: 13/50............. Loss: 30.933256149291992.............e : 0.1954067150344532 grad : -1.0412969459139276e-0505\n",
      "Epoch: 14/50............. Loss: 30.88698387145996.............ime : 0.19739425370935984 grad : -1.1243245353398379e-05\n",
      "Epoch: 15/50............. Loss: 30.82011604309082.............ime : 0.19784006901909176 grad : -2.2041260308469646e-05\n",
      "Epoch: 16/50............. Loss: 31.702529907226562.............me : 0.1958489429465436 grad : -5.903758938075043e-0565\n",
      "Epoch: 17/50............. Loss: 31.08428192138672.............ime : 0.19155683148842692 grad : 4.0323171560885385e-055\n",
      "Epoch: 18/50............. Loss: 30.440654754638672.............me : 0.1866787864938416 grad : -2.2435679056798108e-056\n",
      "Epoch: 19/50............. Loss: 30.397491455078125.............me : 0.1879944039310699 grad : -3.503811967675574e-0605\n",
      "Epoch: 20/50............. Loss: 30.403263092041016.............me : 0.1884925745193484 grad : -2.0387964468682185e-055\n",
      "Epoch: 21/50............. Loss: 30.29072380065918.............ime : 0.1908754294678659 grad : -2.26284305426816e-06055\n",
      "Epoch: 22/50............. Loss: 30.29630470275879.............me : 0.18962649775032409 grad : -1.2396347301546484e-055\n",
      "Epoch: 23/50............. Loss: 30.24844741821289.............ime : 0.1903742685658691 grad : -1.7647793356445618e-056\n",
      "Epoch: 24/50............. Loss: 30.25917625427246.............me : 0.20279417602705743 grad : 4.317496404837584e-0605\n",
      "Epoch: 25/50............. Loss: 30.253725051879883.............me : 0.197359972901629 grad : -1.467554966438911e-06505\n",
      "Epoch: 26/50............. Loss: 30.24581527709961.............ime : 0.20126393035743878 grad : -9.500218766334001e-065\n",
      "Epoch: 27/50............. Loss: 30.232929229736328.............e : 0.19362103730141664 grad : -3.0143696676532272e-067\n",
      "Epoch: 28/50............. Loss: 30.23993682861328.............ime : 0.19127278930354635 grad : -1.1992051440756768e-05\n",
      "Epoch: 29/50............. Loss: 30.218215942382812.............me : 0.19167811052835543 grad : -1.714385871309787e-056\n",
      "Epoch: 30/50............. Loss: 30.214136123657227.............me : 0.1891812337613499 grad : -1.3757658962276764e-056\n",
      "Epoch: 31/50............. Loss: 30.23629379272461.............ime : 0.21276525196386986 grad : -1.4312108760350384e-05\n",
      "Epoch: 32/50............. Loss: 30.345382690429688.............me : 0.19062906516944916 grad : 5.149711068952456e-0575\n",
      "Epoch: 33/50............. Loss: 30.215789794921875.............e : 0.19086899332879637 grad : -1.2541925570985768e-055\n",
      "Epoch: 34/50............. Loss: 30.229576110839844.............e : 0.19144132291002866 grad : -8.913494639273267e-065\n",
      "Epoch: 35/50............. Loss: 30.249757766723633.............me : 0.19120949854759506 grad : -0.00011566440662136301\n",
      "Epoch: 36/50............. Loss: 30.179399490356445.............me : 0.19251806182461062 grad : -2.00982358364854e-0555\n",
      "Epoch: 37/50............. Loss: 30.170175552368164.............e : 0.20133511614788557 grad : -1.6467376553919166e-055\n",
      "Epoch: 38/50............. Loss: 30.210033416748047.............me : 0.18795729886638704 grad : -2.4217693862738088e-05\n",
      "Epoch: 39/50............. Loss: 30.183914184570312.............me : 0.19370853832634322 grad : -1.97535564439022e-0655\n",
      "Epoch: 40/50............. Loss: 30.174484252929688.............me : 0.18806881641400097 grad : 4.366678331280127e-0555\n",
      "Epoch: 41/50............. Loss: 30.139318466186523.............me : 0.18695660706830777 grad : -0.00023524853168055415\n",
      "Epoch: 42/50............. Loss: 30.17595863342285.............ime : 0.19648505050597534 grad : -1.5960016753524542e-05\n",
      "Epoch: 43/50............. Loss: 30.182573318481445.............me : 0.189014081996469 grad : -1.1358927622495685e-0505\n",
      "Epoch: 44/50............. Loss: 30.18318748474121.............ime : 0.18625749246975118 grad : -1.2645283277379349e-05\n",
      "Epoch: 45/50............. Loss: 30.17947769165039.............ime : 0.19661425741355024 grad : -9.428165867575444e-065\n",
      "Epoch: 46/50............. Loss: 30.68051528930664.............ime : 0.1885004403688592 grad : 2.6683241230784915e-0565\n",
      "Epoch: 47/50............. Loss: 30.15097427368164.............ime : 0.1877249735387699 grad : -1.7750093320501037e-05\n",
      "Epoch: 48/50............. Loss: 30.35870933532715.............ime : 0.19252609068196558 grad : 6.789874896639958e-0555\n",
      "Epoch: 49/50............. Loss: 30.16013526916504.............ime : 0.18653986782844495 grad : 2.2202057152753696e-055\n"
     ]
    }
   ],
   "source": [
    "import matplotlib.pyplot as plt\n",
    "\n",
    "epoch_loss_fast, fast_model_neural = train(source_fast_model, target_fast_model, n_epoch = 50, batch_size = batch_size, usage_size = 130000, lr = 0.0001)\n",
    "torch.save(fast_model_neural.state_dict(), sys.path[0] + \"/models/\" + \"fast_trained_model.pt\")     "
   ]
  },
  {
   "cell_type": "code",
   "execution_count": 31,
   "metadata": {},
   "outputs": [
    {
     "name": "stdout",
     "output_type": "stream",
     "text": [
      "Original sentence : \n",
      "there is nothing to worry about . <eos> <pad> <pad> <pad> <pad> <pad> <pad> <pad> \n",
      "8039 4278 5300 8137 8926 38 7 21 22 22 22 22 22 22 22 \n",
      "Translated sentence : \n",
      "['ceinture', 'suspendus', 'suspendus', 'suspendus', 'suspendus', 'suspendus', 'suspendus', 'suspendus', 'événement', 'ê', 'ê', 'ê', 'ê', 'ê', 'ê']\n",
      "[2025, 12452, 12452, 12452, 12452, 12452, 12452, 12452, 14302, 14304, 14304, 14304, 14304, 14304, 14304]\n",
      "Target sentence : \n",
      "<bos> il n ' y a pas de quoi s ' inquiéter . <eos> <pad> \n",
      "22 6449 8285 4 13796 27 9053 3475 10325 11527 4 6754 9 23 24 \n"
     ]
    },
    {
     "data": {
      "text/plain": [
       "RNN(\n",
       "  (encoder): RNN_encode(\n",
       "    (lstm_in): LSTM(100, 100, num_layers=2, dropout=0.01, bidirectional=True)\n",
       "    (hidden_in): Linear(in_features=100, out_features=200, bias=True)\n",
       "    (hidden_in2): Linear(in_features=200, out_features=200, bias=True)\n",
       "  )\n",
       "  (decoder): RNN_decode(\n",
       "    (lstm_out): LSTM(200, 200, num_layers=2, dropout=0.01, bidirectional=True)\n",
       "    (hidden_out): Linear(in_features=200, out_features=100, bias=True)\n",
       "    (hidden_out2): Linear(in_features=100, out_features=100, bias=True)\n",
       "  )\n",
       ")"
      ]
     },
     "execution_count": 31,
     "metadata": {},
     "output_type": "execute_result"
    },
    {
     "data": {
      "image/png": "[encoded data removed]",
      "text/plain": [
       "<Figure size 640x480 with 1 Axes>"
      ]
     },
     "metadata": {},
     "output_type": "display_data"
    }
   ],
   "source": [
    "fast_model_neural.to(device)\n",
    "test(fast_model_neural, target_fast_model, usage_size = 130000)\n",
    "plt.plot(epoch_loss_fast)\n",
    "plt.savefig(sys.path[0] + \"/models/\" + \"fast_trained_model_loss.png\")\n",
    "fast_model_neural.to('cpu')"
   ]
  },
  {
   "cell_type": "code",
   "execution_count": 33,
   "metadata": {},
   "outputs": [
    {
     "name": "stdout",
     "output_type": "stream",
     "text": [
      "Ready\n",
      "Epoch: 0/40............. Loss: 41.31854248046875.............time : 0.1661234914088251 grad : -1.2224427337059751e-066\n",
      "Epoch: 1/40............. Loss: 40.417633056640625.............ime : 0.16670172130382502 grad : -6.106805813033134e-05\n",
      "Epoch: 2/40............. Loss: 40.851078033447266.............ime : 0.1682482704442988 grad : -0.000109671804239042155\n",
      "Epoch: 3/40............. Loss: 40.39592742919922.............time : 0.16695620645451398 grad : -1.9411123503232375e-05\n",
      "Epoch: 4/40............. Loss: 40.80455780029297.............time : 0.17208468769519636 grad : -7.815269782440737e-055\n",
      "Epoch: 5/40............. Loss: 40.61893844604492.............time : 0.16623978963925118 grad : -4.4984779378864914e-05\n",
      "Epoch: 6/40............. Loss: 40.51810073852539.............time : 0.1716966301417158 grad : -5.7562123402021825e-05\n",
      "Epoch: 7/40............. Loss: 40.574092864990234.............ime : 0.16780283815635647 grad : -8.923118730308488e-055\n",
      "Epoch: 8/40............. Loss: 41.32068634033203.............time : 0.16787757998607347 grad : -3.586127786547877e-055\n",
      "Epoch: 9/40............. Loss: 40.92519760131836.............time : 0.16665269412009598 grad : -3.8854377635288984e-05\n",
      "Epoch: 10/40............. Loss: 41.30924606323242.............ime : 0.1920214380568035 grad : 4.212508792988956e-0506\n",
      "Epoch: 11/40............. Loss: 41.52957534790039.............ime : 0.16765586420564463 grad : -1.1351434295647778e-05\n",
      "Epoch: 12/40............. Loss: 42.303016662597656.............e : 0.26701502591603254 grad : -1.5133889064600226e-05\n",
      "Epoch: 13/40............. Loss: 41.14744567871094.............ime : 0.18399720365804872 grad : -1.293208606512053e-055\n",
      "Epoch: 14/40............. Loss: 41.01738739013672.............ime : 0.18565207994534677 grad : -3.3221131161553785e-06\n",
      "Epoch: 15/40............. Loss: 41.28874206542969.............me : 0.1932355872501871 grad : -1.5547852854069788e-0675\n",
      "Epoch: 16/40............. Loss: 41.32774353027344.............me : 0.1889435074612167 grad : -9.917242095980328e-06565\n",
      "Epoch: 17/40............. Loss: 40.47733688354492.............ime : 0.17510453755064442 grad : -2.4115011910907924e-05\n",
      "Epoch: 18/40............. Loss: 41.692771911621094.............e : 0.18005054967640993 grad : -5.696358493878506e-0558\n",
      "Epoch: 19/40............. Loss: 41.226280212402344............. : 0.17377206982637713 grad : -1.535665796836838e-05656\n",
      "Epoch: 20/40............. Loss: 41.326515197753906.............e : 0.17284868265382175 grad : -1.1962696589762345e-05\n",
      "Epoch: 21/40............. Loss: 40.92430114746094.............ime : 0.1721981661466613 grad : 7.787706999806687e-05057\n",
      "Epoch: 22/40............. Loss: 40.94737243652344.............me : 0.17308548336236337 grad : 4.715230161878026e-0866\n",
      "Epoch: 23/40............. Loss: 40.634979248046875.............me : 0.17606026422092558 grad : -2.56220369010407e-0655\n",
      "Epoch: 24/40............. Loss: 40.1612663269043.............ime : 0.17271573171659457 grad : 4.926896508550271e-06555\n",
      "Epoch: 25/40............. Loss: 40.54368209838867.............ime : 0.1846614629737738 grad : -8.961008279584348e-0584\n",
      "Epoch: 26/40............. Loss: 40.33975601196289.............ime : 0.17895981742574657 grad : -3.2774070859886706e-05\n",
      "Epoch: 27/40............. Loss: 40.91632080078125.............me : 0.17826374693580177 grad : 5.316051101544872e-06665\n",
      "Epoch: 28/40............. Loss: 41.39178466796875.............ime : 0.20075001571024537 grad : 9.637552466301713e-0605\n",
      "Epoch: 29/40............. Loss: 40.86700439453125.............ime : 0.1842471274390556 grad : 4.004566108051222e-06075\n",
      "Epoch: 30/40............. Loss: 40.744686126708984.............me : 0.17228200423285764 grad : -1.970189441635739e-055\n",
      "Epoch: 31/40............. Loss: 40.90955352783203.............ime : 0.1826539880056733 grad : -2.2661917682853527e-055\n",
      "Epoch: 32/40............. Loss: 42.635780334472656.............me : 0.17124534281649434 grad : -9.686073099146597e-065\n",
      "Epoch: 33/40............. Loss: 43.19147491455078.............me : 0.17187069666620974 grad : -1.7148533515864983e-055\n",
      "Epoch: 34/40............. Loss: 41.04629898071289.............e : 0.1920211425796567 grad : 1.0734945135482121e-050505\n",
      "Epoch: 35/40............. Loss: 40.979217529296875.............me : 0.17074956786982287 grad : -9.710846597954514e-075\n",
      "Epoch: 36/40............. Loss: 40.86846160888672.............ime : 0.16850073539897142 grad : -5.1973070185340475e-06\n",
      "Epoch: 37/40............. Loss: 41.0374870300293.............ime : 0.19342551393469534 grad : -3.6721028209285578e-063\n",
      "Epoch: 38/40............. Loss: 40.892791748046875.............e : 0.20447394771095118 grad : -1.3961242984805722e-05\n",
      "Epoch: 39/40............. Loss: 41.43986129760742.............ime : 0.1730607568339669 grad : -5.550766672968166e-0665\n"
     ]
    }
   ],
   "source": [
    "#same thing with the glove model\n",
    "\n",
    "epoch_loss_glove, glove_model_neural = train(source_glove_model, target_glove_model, n_epoch = 40, batch_size = batch_size, usage_size = 130000, lr = 0.0001)\n",
    "torch.save(glove_model_neural.state_dict(), sys.path[0] + \"/models/\" + \"glove_trained_model.pt\")"
   ]
  },
  {
   "cell_type": "code",
   "execution_count": 34,
   "metadata": {},
   "outputs": [
    {
     "name": "stdout",
     "output_type": "stream",
     "text": [
      "Original sentence : \n",
      "there is nothing to worry about . <eos> <pad> <pad> <pad> <pad> <pad> <pad> <pad> \n",
      "8039 4278 5300 8137 8926 38 7 21 22 22 22 22 22 22 22 \n",
      "Translated sentence : \n",
      "['gamins', '<bos>', '<bos>', '<bos>', 'coincée', 'créatifs', 'coincée', 'coincée', 'changera', 'changera', 'enivrer', 'enivrer', 'enivrer', 'enivrer', 'enivrer']\n",
      "[5874, 22, 22, 22, 2482, 3344, 2482, 2482, 2132, 2132, 4793, 4793, 4793, 4793, 4793]\n",
      "Target sentence : \n",
      "<bos> il n ' y a pas de quoi s ' inquiéter . <eos> <pad> \n",
      "22 6449 8285 4 13796 27 9053 3475 10325 11527 4 6754 9 23 24 \n"
     ]
    },
    {
     "data": {
      "text/plain": [
       "RNN(\n",
       "  (encoder): RNN_encode(\n",
       "    (lstm_in): LSTM(100, 100, num_layers=2, dropout=0.01, bidirectional=True)\n",
       "    (hidden_in): Linear(in_features=100, out_features=200, bias=True)\n",
       "    (hidden_in2): Linear(in_features=200, out_features=200, bias=True)\n",
       "  )\n",
       "  (decoder): RNN_decode(\n",
       "    (lstm_out): LSTM(200, 200, num_layers=2, dropout=0.01, bidirectional=True)\n",
       "    (hidden_out): Linear(in_features=200, out_features=100, bias=True)\n",
       "    (hidden_out2): Linear(in_features=100, out_features=100, bias=True)\n",
       "  )\n",
       ")"
      ]
     },
     "execution_count": 34,
     "metadata": {},
     "output_type": "execute_result"
    },
    {
     "data": {
      "image/png": "[encoded data removed]",
      "text/plain": [
       "<Figure size 640x480 with 1 Axes>"
      ]
     },
     "metadata": {},
     "output_type": "display_data"
    }
   ],
   "source": [
    "glove_model_neural.to(device)\n",
    "test(glove_model_neural, target_glove_model, usage_size = 130000)\n",
    "plt.plot(epoch_loss_glove)\n",
    "plt.savefig(sys.path[0] + \"/models/\" + \"glove_trained_model_loss.png\")\n",
    "glove_model_neural.to('cpu')"
   ]
  },
  {
   "cell_type": "code",
   "execution_count": 35,
   "metadata": {},
   "outputs": [
    {
     "name": "stdout",
     "output_type": "stream",
     "text": [
      "Ready\n",
      "Epoch: 0/40............. Loss: 41.75257873535156.............time : 0.1848392955009812 grad : -7.465136064865874e-0877\n",
      "Epoch: 1/40............. Loss: 41.473758697509766.............e : 0.19662618948659746 grad : -4.4714392970490735e-0666\n",
      "Epoch: 2/40............. Loss: 42.42102813720703.............time : 0.22181964111059982 grad : 2.2645604076387826e-06\n",
      "Epoch: 3/40............. Loss: 42.35477066040039.............ime : 0.19852238889852616 grad : -3.6280700896895723e-066\n",
      "Epoch: 4/40............. Loss: 42.17668151855469.............ime : 0.19514916836323834 grad : -4.109858764422825e-0666\n",
      "Epoch: 5/40............. Loss: 42.17991256713867.............time : 0.18686079444781342 grad : -1.2053017428570456e-07\n",
      "Epoch: 6/40............. Loss: 43.085968017578125.............ime : 0.2046032442553137 grad : 1.1832165682790219e-0606\n",
      "Epoch: 7/40............. Loss: 42.290409088134766.............ime : 0.18660161700808078 grad : -7.102800054781255e-07\n",
      "Epoch: 8/40............. Loss: 42.81974792480469.............time : 0.20694437656672388 grad : -3.8120726912893588e-06\n",
      "Epoch: 9/40............. Loss: 42.4550895690918.............time : 0.2273816947708149 grad : 1.7293039036303526e-06606\n",
      "Epoch: 10/40............. Loss: 42.37569808959961.............me : 0.22614091030407713 grad : -4.463530842713226e-077\n",
      "Epoch: 11/40............. Loss: 42.49525451660156.............ime : 0.19959633568029675 grad : -2.4277892407553736e-06\n",
      "Epoch: 12/40............. Loss: 42.669471740722656............. : 0.18940977023532427 grad : 2.6891816560237203e-0666\n",
      "Epoch: 13/40............. Loss: 42.25830078125.............d time : 0.19475636046667466 grad : -3.7545723898801953e-06\n",
      "Epoch: 14/40............. Loss: 42.65352249145508.............me : 0.19764890571448004 grad : -1.936685976033914e-0666\n",
      "Epoch: 15/40............. Loss: 42.19721221923828.............me : 0.19452965798750413 grad : 5.570051371250884e-07566\n",
      "Epoch: 16/40............. Loss: 41.93133544921875.............me : 0.1912733014918783 grad : -1.1263836086072843e-0666\n",
      "Epoch: 17/40............. Loss: 42.047481536865234.............me : 0.1974713131281277 grad : -1.033857984111819e-0666\n",
      "Epoch: 18/40............. Loss: 42.193790435791016.............e : 0.18579488870481978 grad : 8.865589734341484e-0667\n",
      "Epoch: 19/40............. Loss: 42.327049255371094.............me : 0.2064239332402657 grad : -8.772414048507926e-0766\n",
      "Epoch: 20/40............. Loss: 43.00345230102539.............me : 0.18881481519877408 grad : 4.308712959755212e-06-06\n",
      "Epoch: 21/40............. Loss: 42.80038070678711.............ime : 0.19536426334048163 grad : 3.6041781186213484e-06\n",
      "Epoch: 22/40............. Loss: 42.910858154296875.............e : 0.18597038889342404 grad : 1.5131691100123135e-0776\n",
      "Epoch: 23/40............. Loss: 43.26797103881836.............ime : 0.18844020386468024 grad : 1.912392917802208e-0686\n",
      "Epoch: 24/40............. Loss: 42.39776611328125.............ime : 0.18745153265468703 grad : -6.635812610511493e-08\n",
      "Epoch: 25/40............. Loss: 42.368526458740234.............me : 0.1953708669864441 grad : 1.5259968222380849e-067\n",
      "Epoch: 26/40............. Loss: 41.98379898071289.............ime : 0.19229728717134376 grad : -1.266698291146895e-066\n",
      "Epoch: 27/40............. Loss: 43.053897857666016.............e : 0.191597794993121 grad : 1.591033992554003e-06-0767\n",
      "Epoch: 28/40............. Loss: 42.24638748168945.............me : 0.18893923928616163 grad : 1.3405939398580813e-0606\n",
      "Epoch: 29/40............. Loss: 42.418724060058594.............e : 0.1871915103919842 grad : 3.328540856273321e-07707\n",
      "Epoch: 30/40............. Loss: 42.53034973144531.............ime : 0.18874982119183042 grad : 1.194327251141658e-056\n",
      "Epoch: 31/40............. Loss: 42.16902542114258.............ime : 0.19144150733360182 grad : -4.795348900188401e-076\n",
      "Epoch: 32/40............. Loss: 42.589263916015625.............me : 0.18850945552036685 grad : 5.14412761276617e-07656\n",
      "Epoch: 33/40............. Loss: 42.35234832763672.............ime : 0.19053220304560012 grad : 1.8786789723890251e-066\n",
      "Epoch: 34/40............. Loss: 42.765625.............imated time : 0.19539017173503828 grad : -4.141690169490175e-06\n",
      "Epoch: 35/40............. Loss: 42.1745719909668.............time : 0.19003253327633968 grad : 1.7092927464545937e-066\n",
      "Epoch: 36/40............. Loss: 42.04146194458008.............me : 0.19524364370254707 grad : 1.0559521115283133e-0676\n",
      "Epoch: 37/40............. Loss: 42.12086868286133.............ime : 0.1900592846782667 grad : -1.8446178273734404e-06\n",
      "Epoch: 38/40............. Loss: 42.724117279052734.............me : 0.21073053375206674 grad : -2.3795957986294525e-06\n",
      "Epoch: 39/40............. Loss: 42.95695495605469.............ime : 0.2053007577726751 grad : -4.280714620108483e-0665\n"
     ]
    }
   ],
   "source": [
    "#same thing with the word2vec model\n",
    " \n",
    "epoch_loss_word2vec, word2vec_model_neural = train(source_w2v_model_cbow, target_w2v_model_cbow, n_epoch = 40, batch_size = batch_size, usage_size = 130000, lr = 0.0001)\n",
    "torch.save(word2vec_model_neural.state_dict(), sys.path[0] + \"/models/\" + \"word2vec_trained_model.pt\")"
   ]
  },
  {
   "cell_type": "code",
   "execution_count": 36,
   "metadata": {},
   "outputs": [
    {
     "name": "stdout",
     "output_type": "stream",
     "text": [
      "Original sentence : \n",
      "there is nothing to worry about . <eos> <pad> <pad> <pad> <pad> <pad> <pad> <pad> \n",
      "8039 4278 5300 8137 8926 38 7 21 22 22 22 22 22 22 22 \n",
      "Translated sentence : \n",
      "['ce', 'raccompagna', 'ce', 'raccompagna', 'raccompagna', 'raccompagna', 'raccompagna', 'poireauter', 'responsabilité', 'responsabilité', 'responsabilité', 'responsabilité', 'responsabilité', 'responsabilité', 'responsabilité']\n",
      "[2023, 10336, 2023, 10336, 10336, 10336, 10336, 9522, 10949, 10949, 10949, 10949, 10949, 10949, 10949]\n",
      "Target sentence : \n",
      "<bos> il n ' y a pas de quoi s ' inquiéter . <eos> <pad> \n",
      "22 6449 8285 4 13796 27 9053 3475 10325 11527 4 6754 9 23 24 \n"
     ]
    },
    {
     "data": {
      "text/plain": [
       "RNN(\n",
       "  (encoder): RNN_encode(\n",
       "    (lstm_in): LSTM(100, 100, num_layers=2, dropout=0.01, bidirectional=True)\n",
       "    (hidden_in): Linear(in_features=100, out_features=200, bias=True)\n",
       "    (hidden_in2): Linear(in_features=200, out_features=200, bias=True)\n",
       "  )\n",
       "  (decoder): RNN_decode(\n",
       "    (lstm_out): LSTM(200, 200, num_layers=2, dropout=0.01, bidirectional=True)\n",
       "    (hidden_out): Linear(in_features=200, out_features=100, bias=True)\n",
       "    (hidden_out2): Linear(in_features=100, out_features=100, bias=True)\n",
       "  )\n",
       ")"
      ]
     },
     "execution_count": 36,
     "metadata": {},
     "output_type": "execute_result"
    },
    {
     "data": {
      "image/png": "[encoded data removed]",
      "text/plain": [
       "<Figure size 640x480 with 1 Axes>"
      ]
     },
     "metadata": {},
     "output_type": "display_data"
    }
   ],
   "source": [
    "word2vec_model_neural.to(device)\n",
    "test(word2vec_model_neural, target_w2v_model_cbow, usage_size = 130000)\n",
    "plt.plot(epoch_loss_word2vec)\n",
    "plt.savefig(sys.path[0] + \"/models/\" + \"word2vec_trained_model_loss.png\")\n",
    "word2vec_model_neural.to('cpu')"
   ]
  },
  {
   "cell_type": "code",
   "execution_count": null,
   "metadata": {},
   "outputs": [],
   "source": [
    "#The following is for contextualized embeddings\n",
    "raise (KeyboardInterrupt)"
   ]
  },
  {
   "cell_type": "markdown",
   "metadata": {},
   "source": [
    "To this model we can now try to add contextual embeddings"
   ]
  },
  {
   "cell_type": "code",
   "execution_count": null,
   "metadata": {},
   "outputs": [],
   "source": [
    "#for contextual embedding we will use BERT\n",
    "\n",
    "\n",
    "import torch\n",
    "import torch.nn as nn\n",
    "from transformers import BertModel, BertTokenizer\n",
    "\n",
    "#we use bert and we will train it on the data\n",
    "bert_model = BertModel.from_pretrained('bert-base-uncased')\n",
    "tokenizer = BertTokenizer.from_pretrained('bert-base-uncased')"
   ]
  },
  {
   "cell_type": "code",
   "execution_count": null,
   "metadata": {},
   "outputs": [],
   "source": [
    "#we will make a function to get the embeddings of the sentences\n",
    "def get_embeddings(sentences, src = True) :\n",
    "    sentences_in = [token_to_word(sent, src=src) for sent in sentences]\n",
    "    \n",
    "    \n",
    "    #concatenate the sentences\n",
    "    sentences_in = [\" \".join(sent).replace(\"<pad>\", \"\").replace(\"<eos>\", \"\") for sent in sentences_in]\n",
    "    \n",
    "\n",
    "    #we tokenize the sentences\n",
    "    tokenized_texts = [tokenizer.tokenize(sent) for sent in sentences_in]\n",
    "    #we get the ids of the tokens\n",
    "    indexed_tokens = [tokenizer.convert_tokens_to_ids(x) for x in tokenized_texts]\n",
    "    \n",
    "    #make sure the sentences are of the same length\n",
    "    max_len = 15\n",
    "    for i in range(len(indexed_tokens)) :\n",
    "        while len(indexed_tokens[i]) < max_len :\n",
    "            indexed_tokens[i].append(0)\n",
    "            \n",
    "    #same for tokenized texts\n",
    "    for i in range(len(tokenized_texts)) :\n",
    "        while len(tokenized_texts[i]) < max_len :\n",
    "            tokenized_texts[i].append(\"<pad>\")\n",
    "    \n",
    "    #we get the attention masks\n",
    "    segments_ids = [[1] * len(sentence) for sentence in tokenized_texts]\n",
    "    #we get the tensors\n",
    "    tokens_tensor = torch.tensor([[indexed_tokens]])\n",
    "    segments_tensors = torch.tensor([[segments_ids]])\n",
    "    \n",
    "    #we get the embeddings\n",
    "    with torch.no_grad():\n",
    "        #no idea why it doesn't work : too many values to unpack (expected 2)\n",
    "        encoded_layers, _ = bert_model(tokens_tensor, segments_tensors)\n",
    "        \n",
    "    #we get the last layer\n",
    "    token_embeddings = torch.stack(encoded_layers, dim=0)\n",
    "    token_embeddings = torch.squeeze(token_embeddings, dim=1)\n",
    "    token_embeddings = token_embeddings.permute(1,0,2)\n",
    "    \n",
    "    #we get the word embeddings\n",
    "    word_embeddings = []\n",
    "    for token in token_embeddings :\n",
    "        word_embeddings.append(token[-1])\n",
    "    \n",
    "    return word_embeddings"
   ]
  },
  {
   "cell_type": "code",
   "execution_count": null,
   "metadata": {},
   "outputs": [],
   "source": [
    "#we can modify the model to use the contextual embeddings\n",
    "\n",
    "class BertRNN_encode(nn.Module):\n",
    "    def __init__(self, embedding_model_input, embedding_model_output, hidden_size=50):\n",
    "        super(BertRNN_encode, self).__init__()\n",
    "\n",
    "        self.hidden_size = hidden_size\n",
    "        \n",
    "        embedding = torch.tensor(embedding_model_input.vectors).to(device)\n",
    "        self.embedding_in = (embedding / torch.norm(embedding, dim=1, keepdim=True)).to(device)\n",
    "\n",
    "        # The LSTM takes word embeddings as inputs, and outputs hidden states\n",
    "        # with dimensionality hidden_dim.\n",
    "        self.embedding_dim_in = self.embedding_in.shape[1]\n",
    "        self.lstm_in = nn.LSTM(self.embedding_dim_in, self.embedding_dim_in, bidirectional=True, num_layers=2, dropout=0.01)\n",
    "        self.hidden_in = nn.Linear(self.embedding_dim_in, self.hidden_size)\n",
    "        self.hidden_in2 = nn.Linear(self.hidden_size, self.hidden_size)\n",
    "\n",
    "\n",
    "    def forward(self, input_sentence):\n",
    "        #words_embeddings is a gensim model\n",
    "        input_sentence = torch.where((input_sentence < self.embedding_in.shape[0]).to(device), input_sentence.to(device), torch.zeros_like(input_sentence).to(device))\n",
    "        one_hot = F.one_hot(input_sentence.type(torch.int64), self.embedding_in.shape[0]).to(device)\n",
    "        embeds = torch.matmul(one_hot.type(torch.float), self.embedding_in.type(torch.float))\n",
    "         \n",
    "        #we get the bert embeddings\n",
    "        bert_embed = get_embeddings(input_sentence, src=True)\n",
    "        print(\"bert embed : \", bert_embed)\n",
    "        \n",
    "        embeds = torch.cat((embeds, bert_embed), dim=1)\n",
    "        print(embeds.shape)\n",
    "        \n",
    "        #encoder\n",
    "        output_lstm_1, _ = self.lstm_in(embeds.view(input_sentence.shape[0], input_sentence.shape[1], self.embedding_dim_in))\n",
    "        \n",
    "        #sum the two directions\n",
    "        output_lstm_1 = output_lstm_1[:, :, :self.embedding_dim_in] + output_lstm_1[:, : ,self.embedding_dim_in:] + embeds\n",
    "        soft = F.log_softmax(output_lstm_1, dim=2)\n",
    "        \n",
    "        output_hidden_1 = self.hidden_in(soft.view(input_sentence.shape[0], input_sentence.shape[1], self.embedding_dim_in))\n",
    "        output_hidden_2 = self.hidden_in2(F.relu(output_hidden_1.view(input_sentence.shape[0], input_sentence.shape[1], self.hidden_size)))\n",
    "        \n",
    "        return F.log_softmax(output_hidden_2, dim=2)\n",
    "    \n",
    "class BertRNN(nn.Module) :\n",
    "    def __init__(self, embedding_model_input, embedding_model_output, hidden_size=50):\n",
    "        super(BertRNN, self).__init__()\n",
    "\n",
    "        self.encoder = BertRNN_encode(embedding_model_input, embedding_model_output, hidden_size)\n",
    "        self.decoder = RNN_decode(embedding_model_output, embedding_model_output, hidden_size)\n",
    "    \n",
    "    def forward(self, input_sentence) :\n",
    "        output_hidden_1 = self.encoder(input_sentence)\n",
    "        output_hidden_2 = self.decoder(output_hidden_1)\n",
    "        return output_hidden_2"
   ]
  },
  {
   "cell_type": "code",
   "execution_count": null,
   "metadata": {},
   "outputs": [],
   "source": [
    "# now use the train function to train the model\n",
    "\n",
    "epoch_loss_bert, bert_model_neural = train(source_glove_model, target_glove_model, lr=0.0001, usage_size = 100, n_epoch = 10, batch_size= 16, neural = BertRNN)\n",
    "torch.save(bert_model_neural.state_dict(), sys.path[0] + \"/models/\" + \"bert_trained_model.pt\")"
   ]
  },
  {
   "cell_type": "code",
   "execution_count": null,
   "metadata": {},
   "outputs": [],
   "source": [
    "test(bert_model_neural, target_glove_model, usage_size = 130000)\n",
    "plt.plot(epoch_loss_bert)\n",
    "plt.savefig(sys.path[0] + \"/models/\" + \"bert_trained_model_loss.png\")"
   ]
  },
  {
   "cell_type": "code",
   "execution_count": null,
   "metadata": {},
   "outputs": [],
   "source": [
    "#Attention\n",
    "raise (KeyboardInterrupt)\n",
    "   "
   ]
  },
  {
   "cell_type": "code",
   "execution_count": 90,
   "metadata": {},
   "outputs": [],
   "source": [
    "#incorporate the attention mechanism in the decoder\n",
    "import math\n",
    "class RNN_decode_attention(nn.Module):\n",
    "    def __init__(self, embedding_model_input, embedding_model_output, hidden_size=50):\n",
    "        super(RNN_decode_attention, self).__init__()\n",
    "\n",
    "        self.hidden_size = hidden_size\n",
    "        \n",
    "        embedding = torch.tensor(embedding_model_output.vectors).to(device)\n",
    "        self.embedding_out = (embedding / torch.norm(embedding, dim=1, keepdim=True)).to(device)\n",
    "\n",
    "        self.embedding_dim_out = self.embedding_out.shape[1]\n",
    "        self.lstm_out = nn.LSTM(self.hidden_size, self.hidden_size, bidirectional=True)\n",
    "        self.lstm_out2 = nn.LSTM(self.hidden_size, self.hidden_size)\n",
    "        self.hidden_out = nn.Linear(self.hidden_size, self.embedding_dim_out)\n",
    "        self.hidden_out2 = nn.Linear(self.embedding_dim_out, self.embedding_dim_out)\n",
    "        \n",
    "        #attention\n",
    "        self.attn = nn.Linear(self.hidden_size, self.hidden_size)\n",
    "        self.v = nn.Linear(self.hidden_size, self.hidden_size, bias = False)\n",
    "        self.dropout = nn.Dropout(0.05)\n",
    "\n",
    "    def forward(self, input_hidden):\n",
    "        #decoder\n",
    "        output_lstm_1, _ = self.lstm_out(input_hidden.view(input_hidden.shape[0], input_hidden.shape[1], self.hidden_size))\n",
    "        \n",
    "        #sum the two directions\n",
    "        output_lstm_1 = output_lstm_1[:, :, :self.hidden_size] + output_lstm_1[:, : ,self.hidden_size:] + input_hidden\n",
    "        \n",
    "        #attention\n",
    "        query = self.attn(output_lstm_1)\n",
    "        key = self.attn(input_hidden)\n",
    "        value = self.v(input_hidden)\n",
    "        output_lstm_1, attention = self.attention(query, key, value, dropout=self.dropout)\n",
    "        \n",
    "        output_lstm_2, _ = self.lstm_out2(output_lstm_1)\n",
    "        \n",
    "        soft = F.log_softmax(output_lstm_2, dim=2)\n",
    "        \n",
    "        output_hidden_1 = self.hidden_out(soft.view(input_hidden.shape[0], input_hidden.shape[1], self.hidden_size))\n",
    "        output_hidden_2 = self.hidden_out2(F.relu(output_hidden_1.view(input_hidden.shape[0], input_hidden.shape[1], self.embedding_dim_out)))\n",
    "        \n",
    "        #similarity\n",
    "        out = torch.abs(output_hidden_2 @ self.embedding_out.transpose(0,1))\n",
    "        soft =  F.softmin(out, dim=2)\n",
    "        return  (soft @ self.embedding_out) # VOCAB_SIZE * EMBEDDING_DIM\n",
    "    \n",
    "    def attention(self, query, key, value, dropout=None):\n",
    "        d_k = query.size(-1)\n",
    "        scores = torch.matmul(query, key.transpose(-2, -1)) / math.sqrt(d_k)\n",
    "        p_attn = F.softmax(scores, dim = -1)\n",
    "        if dropout is not None:\n",
    "            p_attn = dropout(p_attn)\n",
    "        return torch.matmul(p_attn, value), p_attn\n",
    "    \n",
    "    def get_embedding(self):\n",
    "        return self.embedding_out"
   ]
  },
  {
   "cell_type": "code",
   "execution_count": 92,
   "metadata": {},
   "outputs": [],
   "source": [
    "class RNN_attention(nn.Module) :\n",
    "    def __init__(self, embedding_model_input, embedding_model_output, hidden_size=50):\n",
    "        super(RNN_attention, self).__init__()\n",
    "\n",
    "        self.encoder = RNN_encode(embedding_model_input, embedding_model_output, hidden_size)\n",
    "        self.decoder = RNN_decode_attention(embedding_model_output, embedding_model_output, hidden_size)\n",
    "    \n",
    "    def forward(self, input_sentence) :\n",
    "        output_hidden_1 = self.encoder(input_sentence)\n",
    "        output_hidden_2 = self.decoder(output_hidden_1)\n",
    "        return output_hidden_2\n",
    "    \n",
    "    def get_embedding(self) :\n",
    "        return self.decoder.get_embedding()"
   ]
  },
  {
   "cell_type": "code",
   "execution_count": 97,
   "metadata": {},
   "outputs": [
    {
     "name": "stdout",
     "output_type": "stream",
     "text": [
      "Ready\n",
      "Epoch: 0/10............. Loss: 36.32548522949219.............time : 0.16925207689801977 grad : -1.892767187428035e-077\n",
      "Epoch: 1/10............. Loss: 35.742794036865234.............ime : 0.17026153031732102 grad : -2.0690071877993432e-08\n",
      "Epoch: 2/10............. Loss: 35.58456039428711.............time : 0.17737000598863276 grad : -7.825324388477384e-098\n",
      "Epoch: 3/10............. Loss: 35.48457336425781.............time : 0.17727846278553144 grad : -4.509586482015493e-098\n",
      "Epoch: 4/10............. Loss: 35.39173126220703.............time : 0.17583342504232893 grad : -3.608057852488855e-099\n",
      "Epoch: 5/10............. Loss: 35.22574234008789.............time : 0.1717421916168809 grad : 2.5260320501985234e-0998\n",
      "Epoch: 6/10............. Loss: 35.13267517089844.............ime : 0.17503516832876997 grad : 1.5835688316201413e-0999\n",
      "Epoch: 7/10............. Loss: 35.064422607421875.............e : 0.17441007380121548 grad : -2.833127510371014e-09990\n",
      "Epoch: 8/10............. Loss: 35.01139450073242.............time : 0.1732159689526025 grad : -2.4150315081072904e-100\n",
      "Epoch: 9/10............. Loss: 34.968013763427734.............ime : 0.1795670381191614 grad : -4.0049988325741026e-10\n"
     ]
    }
   ],
   "source": [
    "#train it\n",
    "attention_epoch, attention_model_neural = train(source_fast_model, target_fast_model, n_epoch = 10, batch_size = batch_size, usage_size = 130000, lr = 0.00001, neural = RNN_attention)\n",
    "torch.save(attention_model_neural.state_dict(), sys.path[0] + \"/models/\" + \"attention_trained_model.pt\")"
   ]
  },
  {
   "cell_type": "code",
   "execution_count": 98,
   "metadata": {},
   "outputs": [
    {
     "name": "stdout",
     "output_type": "stream",
     "text": [
      "Original sentence : \n",
      "there is nothing to worry about . <eos> <pad> <pad> <pad> <pad> <pad> <pad> <pad> \n",
      "8039 4278 5300 8137 8926 38 7 21 22 22 22 22 22 22 22 \n",
      "Translated sentence : \n",
      "['diriger', 'diriger', 'diriger', 'diriger', 'diriger', 'diriger', 'diriger', 'diriger', 'diriger', 'diriger', 'diriger', 'diriger', 'diriger', 'diriger', 'diriger']\n",
      "[3714, 3714, 3714, 3714, 3714, 3714, 3714, 3714, 3714, 3714, 3714, 3714, 3714, 3714, 3714]\n",
      "Target sentence : \n",
      "<bos> il n ' y a pas de quoi s ' inquiéter . <eos> <pad> \n",
      "22 6449 8285 4 13796 27 9053 3475 10325 11527 4 6754 9 23 24 \n"
     ]
    },
    {
     "data": {
      "text/plain": [
       "RNN_attention(\n",
       "  (encoder): RNN_encode(\n",
       "    (lstm_in): LSTM(100, 100, num_layers=2, dropout=0.01, bidirectional=True)\n",
       "    (hidden_in): Linear(in_features=100, out_features=50, bias=True)\n",
       "    (hidden_in2): Linear(in_features=50, out_features=50, bias=True)\n",
       "  )\n",
       "  (decoder): RNN_decode_attention(\n",
       "    (lstm_out): LSTM(50, 50, bidirectional=True)\n",
       "    (lstm_out2): LSTM(50, 50)\n",
       "    (hidden_out): Linear(in_features=50, out_features=100, bias=True)\n",
       "    (hidden_out2): Linear(in_features=100, out_features=100, bias=True)\n",
       "    (attn): Linear(in_features=50, out_features=50, bias=True)\n",
       "    (v): Linear(in_features=50, out_features=50, bias=False)\n",
       "    (dropout): Dropout(p=0.05, inplace=False)\n",
       "  )\n",
       ")"
      ]
     },
     "execution_count": 98,
     "metadata": {},
     "output_type": "execute_result"
    },
    {
     "data": {
      "image/png": "[encoded data removed]",
      "text/plain": [
       "<Figure size 640x480 with 1 Axes>"
      ]
     },
     "metadata": {},
     "output_type": "display_data"
    }
   ],
   "source": [
    "#test\n",
    "attention_model_neural.to(device)\n",
    "test(attention_model_neural, target_glove_model, usage_size = 130000)\n",
    "plt.plot(attention_epoch)\n",
    "plt.savefig(sys.path[0] + \"/models/\" + \"attention_trained_model_loss.png\")\n",
    "attention_model_neural.to('cpu')"
   ]
  }
 ],
 "metadata": {
  "kernelspec": {
   "display_name": "Python 3.10.4 ('thesis')",
   "language": "python",
   "name": "python3"
  },
  "language_info": {
   "codemirror_mode": {
    "name": "ipython",
    "version": 3
   },
   "file_extension": ".py",
   "mimetype": "text/x-python",
   "name": "python",
   "nbconvert_exporter": "python",
   "pygments_lexer": "ipython3",
   "version": "3.10.4"
  },
  "vscode": {
   "interpreter": {
    "hash": "fefcaccf17e39639418275c4a17d5ca0413e9c7c1af2b5e38e9064532ca76b63"
   }
  }
 },
 "nbformat": 4,
 "nbformat_minor": 4
}
