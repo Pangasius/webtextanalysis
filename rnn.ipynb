{
 "cells": [
  {
   "cell_type": "markdown",
   "metadata": {},
   "source": [
    "In this project, we will use an RNN architecture to build a Machine Translation model.\n",
    "\n",
    "It will use as a corpus wikipedia dumps.\n",
    "\n",
    "Either the source or the target will be English. We will, in our case, try English to French Translation."
   ]
  },
  {
   "cell_type": "code",
   "execution_count": null,
   "metadata": {},
   "outputs": [],
   "source": [
    "#imports\n",
    "!pip3 install numpy\n",
    "!pip3 install --pre torch torchvision torchaudio --extra-index-url https://download.pytorch.org/whl/nightly/cu117\n",
    "#or any nightly version so long as pytorch > 1.11 https://pytorch.org/\n",
    "!pip3 install gensim transformers d2l==1.0.0a1.post0\n",
    "\n",
    "#In pytorch functional.py, change PILLOW_VERSION to __version__\n",
    "#there are two places to change"
   ]
  },
  {
   "cell_type": "markdown",
   "metadata": {},
   "source": [
    "Dataset"
   ]
  },
  {
   "cell_type": "code",
   "execution_count": 1,
   "metadata": {},
   "outputs": [],
   "source": [
    "#Test samples location and preprocessing\n",
    "\n",
    "#cell almost entirely from https://d2l.ai/chapter_recurrent-modern/machine-translation-and-dataset.html\n",
    "import os\n",
    "import torch\n",
    "from d2l import torch as d2l\n",
    "\n",
    "class MTFraEng(d2l.DataModule):  #@save\n",
    "    def _download(self):\n",
    "        d2l.extract(d2l.download(\n",
    "            d2l.DATA_URL+'fra-eng.zip', self.root,\n",
    "            '94646ad1522d915e7b0f9296181140edcf86a4f5'))\n",
    "        with open(self.root + '/fra-eng/fra.txt', encoding='utf-8') as f:\n",
    "            return f.read()\n",
    "\n",
    "@d2l.add_to_class(MTFraEng)  #@save\n",
    "def _preprocess(self, text):\n",
    "    # Replace non-breaking space with space\n",
    "    text = text.replace('\\u202f', ' ').replace('\\xa0', ' ')\n",
    "    # Insert space between words and punctuation marks\n",
    "    no_space = lambda char, prev_char: char in ',.!?' and prev_char != ' '\n",
    "    out = [' ' + char if i > 0 and no_space(char, text[i - 1]) else char\n",
    "           for i, char in enumerate(text.lower())]\n",
    "    return ''.join(out)\n",
    "\n",
    "@d2l.add_to_class(MTFraEng)  #@save\n",
    "def _tokenize(self, text, max_examples=None):\n",
    "    src, tgt = [], []\n",
    "    for i, line in enumerate(text.split('\\n')):\n",
    "        if max_examples and i > max_examples: break\n",
    "        parts = line.split('\\t')\n",
    "        if len(parts) == 2:\n",
    "            # Skip empty tokens\n",
    "            src.append([t for t in f'{parts[0]} <eos>'.split(' ') if t])  # src.append(EOS_token) ? \n",
    "            tgt.append([t for t in f'{parts[1]} <eos>'.split(' ') if t])\n",
    "    return src, tgt\n",
    "\n",
    "@d2l.add_to_class(MTFraEng)  #@save\n",
    "def __init__(self, batch_size, num_steps=15, num_train=162000, num_test=4000):  #15, 162000\n",
    "    super(MTFraEng, self).__init__()\n",
    "    self.save_hyperparameters()\n",
    "    self.arrays, self.src_vocab, self.tgt_vocab = self._build_arrays(\n",
    "        self._download())\n",
    "\n",
    "\n",
    "@d2l.add_to_class(MTFraEng)  #@save\n",
    "def _build_arrays(self, raw_text, src_vocab=None, tgt_vocab=None):\n",
    "    def _build_array(sentences, vocab, is_tgt=False):\n",
    "        pad_or_trim = lambda seq, t: (\n",
    "            seq[:t] if len(seq) > t else seq + ['<pad>'] * (t - len(seq)))\n",
    "        sentences = [pad_or_trim(s, self.num_steps) for s in sentences]\n",
    "        if is_tgt:\n",
    "            sentences = [['<bos>'] + s for s in sentences]\n",
    "        if vocab is None:\n",
    "            vocab = d2l.Vocab(sentences, min_freq=2)\n",
    "        array = torch.tensor([vocab[s] for s in sentences])\n",
    "        valid_len = (array != vocab['<pad>']).type(torch.int32).sum(1)\n",
    "        return array, vocab, valid_len\n",
    "    src, tgt = self._tokenize(self._preprocess(raw_text),\n",
    "                              self.num_train)\n",
    "    src_array, src_vocab, src_valid_len = _build_array(src, src_vocab)\n",
    "    tgt_array, tgt_vocab, _ = _build_array(tgt, tgt_vocab, True)\n",
    "    return ((src_array, tgt_array[:,:-1], src_valid_len, tgt_array[:,1:]),\n",
    "            src_vocab, tgt_vocab)\n",
    "\n",
    "@d2l.add_to_class(MTFraEng)  #@save\n",
    "def get_dataloader(self, train):\n",
    "    idx = slice(0, self.num_train - self.num_test) if train else slice(self.num_train - self.num_test, self.num_train)\n",
    "    return self.get_tensorloader(self.arrays, train, idx)\n",
    "\n",
    "@d2l.add_to_class(MTFraEng)  #@save\n",
    "def build(self, src_sentences, tgt_sentences):\n",
    "    raw_text = '\\n'.join([src + '\\t' + tgt for src, tgt in zip(\n",
    "        src_sentences, tgt_sentences)])\n",
    "    arrays, _, _ = self._build_arrays(\n",
    "        raw_text, self.src_vocab, self.tgt_vocab)\n",
    "    return arrays\n",
    "\n",
    "#src, tgt, _,  _ = data.build(['hi .'], ['salut .'])\n",
    "#print('source:', data.src_vocab.to_tokens(src[0].type(torch.int32)))\n",
    "#print('target:', data.tgt_vocab.to_tokens(tgt[0].type(torch.int32)))\n",
    "\n",
    "@d2l.add_to_class(MTFraEng)  #@save\n",
    "def shuffle(self, train, seed, maxi):\n",
    "    if (maxi > self.num_train):\n",
    "        raise ValueError(\"maxi must be less than the length of the dataset\")\n",
    "    \n",
    "    idx = torch.randperm(generator=torch.Generator().manual_seed(seed), n=maxi)\n",
    "    if (not train):\n",
    "        idx = idx[int(maxi * 0.7):]\n",
    "    else :\n",
    "        idx = idx[:int(maxi * 0.7)]\n",
    "    return self.get_tensorloader(self.arrays, train, idx)\n",
    "    "
   ]
  },
  {
   "cell_type": "markdown",
   "metadata": {},
   "source": [
    "Word embedding\n",
    "\n",
    "# We will use three different types of word embeddings:\n",
    "# 1. Word2Vec\n",
    "# 2. GloVe\n",
    "# 3. FastText\n"
   ]
  },
  {
   "cell_type": "code",
   "execution_count": 2,
   "metadata": {},
   "outputs": [],
   "source": [
    "\"\"\"## Word2Vec\"\"\"\n",
    "import gensim"
   ]
  },
  {
   "cell_type": "code",
   "execution_count": 3,
   "metadata": {},
   "outputs": [
    {
     "name": "stdout",
     "output_type": "stream",
     "text": [
      "C:\\Users\\gille\\AppData\\Local\\Temp\\ipykernel_11632\n",
      "c:\\Users\\gille\\OneDrive\\Desktop\\web\\webtextanalysis\n",
      "c:\\Users\\gille\\miniconda3\\envs\\thesis\\lib\\site-packages\\ipykernel_launcher.py\n"
     ]
    }
   ],
   "source": [
    "#keep in mind you have to launch the notebook inside the git folder to make this work (second one)\n",
    "from inspect import getsourcefile\n",
    "import sys\n",
    "print(os.path.dirname(getsourcefile(lambda:0)))\n",
    "print(sys.path[0])\n",
    "print(os.path.abspath(sys.argv[0]))"
   ]
  },
  {
   "cell_type": "code",
   "execution_count": 4,
   "metadata": {},
   "outputs": [],
   "source": [
    "data = MTFraEng(batch_size=16)"
   ]
  },
  {
   "cell_type": "code",
   "execution_count": 5,
   "metadata": {},
   "outputs": [
    {
     "name": "stdout",
     "output_type": "stream",
     "text": [
      "source: tensor([[3681,   72,  187,  188,  188,  188,  188,  188,  188,  188,  188,  188,\n",
      "          188,  188,  188]], dtype=torch.int32)\n",
      "decoder input: tensor([[  136, 15923,     0,   137,   138,   138,   138,   138,   138,   138,\n",
      "           138,   138,   138,   138,   138]], dtype=torch.int32)\n"
     ]
    }
   ],
   "source": [
    "src, tgt, src_valid_len, label = next(iter(data.shuffle(train=False, seed=0, maxi=1)))\n",
    "print('source:', src.type(torch.int32))\n",
    "print('decoder input:', tgt.type(torch.int32))"
   ]
  },
  {
   "cell_type": "code",
   "execution_count": 6,
   "metadata": {},
   "outputs": [],
   "source": [
    "import numpy as np\n",
    "\n",
    "def save_split():\n",
    "    data = MTFraEng(batch_size=5)\n",
    "    with open(\"samples/source.txt\", \"w\") as f:\n",
    "        for i in range(0, data.num_train):\n",
    "            for word in data.arrays[0][i].numpy() :\n",
    "                f.write(str(word) + \" \")\n",
    "            f.write(\"\\n\")\n",
    "            \n",
    "    with open(\"samples/target.txt\", \"w\") as f:\n",
    "        for i in range(0, data.num_train):\n",
    "            for word in data.arrays[1][i].numpy() :\n",
    "                f.write(str(word) + \" \")\n",
    "            f.write(\"\\n\")\n",
    "            \n",
    "def load_source():\n",
    "    return np.loadtxt(\"samples/source.txt\", dtype=str)\n",
    "\n",
    "def load_target():\n",
    "    return np.loadtxt(\"samples/target.txt\", dtype=str)\n",
    "\n",
    "def word_to_token(word, src=True):\n",
    "    if src :\n",
    "        return data.src_vocab[word]\n",
    "    else :\n",
    "        return data.tgt_vocab[word]\n",
    "\n",
    "def token_to_word(token, src=True):\n",
    "    if src :\n",
    "        return data.src_vocab.to_tokens(token)\n",
    "    else :\n",
    "        return data.tgt_vocab.to_tokens(token)\n",
    "\n",
    "def test_similarity(model, word1, word2, model_name, src=True):\n",
    "    print(\"Cosine similarity between '\" + word1 + \"' and '\"+ word2 +\"' - \" + model_name + \" : \" + str(model.similarity(word_to_token(word1, src), word_to_token(word2, src))))\n"
   ]
  },
  {
   "cell_type": "code",
   "execution_count": 7,
   "metadata": {},
   "outputs": [
    {
     "name": "stdout",
     "output_type": "stream",
     "text": [
      "['go', '.', '<eos>', '<pad>', '<pad>', '<pad>', '<pad>', '<pad>', '<pad>', '<pad>', '<pad>', '<pad>', '<pad>', '<pad>', '<pad>']\n",
      "['hi', '.', '<eos>', '<pad>', '<pad>', '<pad>', '<pad>', '<pad>', '<pad>', '<pad>', '<pad>', '<pad>', '<pad>', '<pad>', '<pad>']\n",
      "['run', '!', '<eos>', '<pad>', '<pad>', '<pad>', '<pad>', '<pad>', '<pad>', '<pad>', '<pad>', '<pad>', '<pad>', '<pad>', '<pad>']\n",
      "['run', '!', '<eos>', '<pad>', '<pad>', '<pad>', '<pad>', '<pad>', '<pad>', '<pad>', '<pad>', '<pad>', '<pad>', '<pad>', '<pad>']\n",
      "['who', '?', '<eos>', '<pad>', '<pad>', '<pad>', '<pad>', '<pad>', '<pad>', '<pad>', '<pad>', '<pad>', '<pad>', '<pad>', '<pad>']\n",
      "['<bos>', 'va', '!', '<eos>', '<pad>', '<pad>', '<pad>', '<pad>', '<pad>', '<pad>', '<pad>', '<pad>', '<pad>', '<pad>', '<pad>']\n",
      "['<bos>', 'salut', '!', '<eos>', '<pad>', '<pad>', '<pad>', '<pad>', '<pad>', '<pad>', '<pad>', '<pad>', '<pad>', '<pad>', '<pad>']\n",
      "['<bos>', 'cours', '!', '<eos>', '<pad>', '<pad>', '<pad>', '<pad>', '<pad>', '<pad>', '<pad>', '<pad>', '<pad>', '<pad>', '<pad>']\n",
      "['<bos>', 'courez', '!', '<eos>', '<pad>', '<pad>', '<pad>', '<pad>', '<pad>', '<pad>', '<pad>', '<pad>', '<pad>', '<pad>', '<pad>']\n",
      "['<bos>', 'qui', '?', '<eos>', '<pad>', '<pad>', '<pad>', '<pad>', '<pad>', '<pad>', '<pad>', '<pad>', '<pad>', '<pad>', '<pad>']\n"
     ]
    }
   ],
   "source": [
    "#print a few samples\n",
    "for i in range(5):\n",
    "    print(token_to_word(data.arrays[0][i].numpy(), True))\n",
    "\n",
    "for i in range(5):\n",
    "    print(token_to_word(data.arrays[1][i].numpy(), False))"
   ]
  },
  {
   "cell_type": "code",
   "execution_count": null,
   "metadata": {},
   "outputs": [],
   "source": [
    "if not os.path.exists(sys.path[0] + \"/samples/source.txt\") or not os.path.exists(sys.path[0] + \"/samples/target.txt\"):\n",
    "    save_split()"
   ]
  },
  {
   "cell_type": "code",
   "execution_count": null,
   "metadata": {},
   "outputs": [],
   "source": [
    "\n",
    "source_text = load_source()\n",
    "one_line_source = source_text.reshape([np.prod(source_text.shape)])\n",
    "\n",
    "#format to be accepted by Word2Vec\n",
    "one_line_source = [str(i).split() for i in one_line_source]\n",
    "\n",
    "print(one_line_source[:4])\n",
    "#print in words \n",
    "print([token_to_word(int(i[0]), src=True) for i in one_line_source[:4]])\n",
    "\n",
    "\n",
    "\n",
    "target_text = load_target()\n",
    "one_line_target = target_text.reshape([np.prod(target_text.shape)])\n",
    "\n",
    "#format to be accepted by Word2Vec\n",
    "one_line_target = [str(i).split() for i in one_line_target]\n",
    "\n",
    "print(one_line_target[:4])\n",
    "#print in words \n",
    "print([token_to_word(int(i[0]), src=False) for i in one_line_target[:4]])"
   ]
  },
  {
   "cell_type": "code",
   "execution_count": null,
   "metadata": {},
   "outputs": [],
   "source": [
    "\"\"\"## Word2Vec\"\"\"\n",
    "\n",
    "print(one_line_source[:5])\n",
    "\n",
    "if not os.path.exists(sys.path[0] + \"/models/source_w2v_cbow.txt\"):\n",
    "    # Create CBOW model\n",
    "    source_w2v_model_cbow = gensim.models.Word2Vec(one_line_source, min_count = 2,\n",
    "                                vector_size = 100, window = 5).wv\n",
    "\n",
    "if not os.path.exists(sys.path[0] + \"/models/source_w2v_skip.txt\"):\n",
    "    # Create Skip Gram model\n",
    "    source_w2v_model_skip = gensim.models.Word2Vec(one_line_source, min_count = 2, vector_size = 100,\n",
    "                                                window = 5, sg = 1).wv\n",
    "    \n",
    "if not os.path.exists(sys.path[0] + \"/models/target_w2v_cbow.txt\"):\n",
    "    # Create CBOW model\n",
    "    target_w2v_model_cbow = gensim.models.Word2Vec(one_line_target, min_count = 2,\n",
    "                                vector_size = 100, window = 5).wv\n",
    "\n",
    "if not os.path.exists(sys.path[0] + \"/models/target_w2v_skip.txt\"):\n",
    "    # Create Skip Gram model\n",
    "    target_w2v_model_skip = gensim.models.Word2Vec(one_line_target, min_count = 2, vector_size = 100,\n",
    "                                                window = 5, sg = 1).wv"
   ]
  },
  {
   "cell_type": "code",
   "execution_count": null,
   "metadata": {},
   "outputs": [],
   "source": [
    "#save the models\n",
    "if not os.path.exists(sys.path[0] + \"/models/source_w2v_cbow.txt\"):\n",
    "    source_w2v_model_cbow.save_word2vec_format(sys.path[0] + \"/models/source_w2v_cbow.txt\", binary=False)\n",
    "    \n",
    "if not os.path.exists(sys.path[0] + \"/models/source_w2v_skip.txt\"):\n",
    "    source_w2v_model_skip.save_word2vec_format(sys.path[0] + \"/models/source_w2v_skip.txt\", binary=False)\n",
    "    \n",
    "if not os.path.exists(sys.path[0] + \"/models/target_w2v_cbow.txt\"):\n",
    "    target_w2v_model_cbow.save_word2vec_format(sys.path[0] + \"/models/target_w2v_cbow.txt\", binary=False)\n",
    "\n",
    "if not os.path.exists(sys.path[0] + \"/models/target_w2v_skip.txt\"):\n",
    "    target_w2v_model_skip.save_word2vec_format(sys.path[0] + \"/models/target_w2v_skip.txt\", binary=False)"
   ]
  },
  {
   "cell_type": "code",
   "execution_count": null,
   "metadata": {},
   "outputs": [],
   "source": [
    "#load the models\n",
    "source_w2v_model_cbow = gensim.models.KeyedVectors.load_word2vec_format(sys.path[0] + \"/models/source_w2v_cbow.txt\", binary=False)\n",
    "source_w2v_model_skip = gensim.models.KeyedVectors.load_word2vec_format(sys.path[0] + \"/models/source_w2v_skip.txt\", binary=False)\n",
    "target_w2v_model_cbow = gensim.models.KeyedVectors.load_word2vec_format(sys.path[0] + \"/models/target_w2v_cbow.txt\", binary=False)\n",
    "target_w2v_model_skip = gensim.models.KeyedVectors.load_word2vec_format(sys.path[0] + \"/models/target_w2v_skip.txt\", binary=False)"
   ]
  },
  {
   "cell_type": "code",
   "execution_count": null,
   "metadata": {},
   "outputs": [],
   "source": [
    "test_similarity(source_w2v_model_cbow, 'hi', '.', \"CBOW\")\n",
    "test_similarity(source_w2v_model_cbow, 'hi', 'run', \"CBOW\")\n",
    "\n",
    "test_similarity(source_w2v_model_skip, 'hi', '.', \"SkipGram\")\n",
    "test_similarity(source_w2v_model_skip, 'hi', 'run', \"SkipGram\")\n",
    "\n",
    "test_similarity(target_w2v_model_cbow, 'bonjour', '.', \"CBOW\")\n",
    "test_similarity(target_w2v_model_cbow, 'bonjour', 'cours', \"CBOW\")\n",
    "\n",
    "test_similarity(target_w2v_model_skip, 'bonjour', '.', \"CBOW\")\n",
    "test_similarity(target_w2v_model_skip, 'bonjour', 'cours', \"CBOW\")"
   ]
  },
  {
   "cell_type": "code",
   "execution_count": 8,
   "metadata": {},
   "outputs": [],
   "source": [
    "\"\"\"## GloVe\"\"\"\n",
    "\n",
    "# coding: utf-8\n",
    "from gensim.models import KeyedVectors"
   ]
  },
  {
   "cell_type": "code",
   "execution_count": null,
   "metadata": {},
   "outputs": [],
   "source": [
    "#once we have the tokenized file, we can call the glove model\n",
    "\n",
    "####CALL FROM BASH glove_run.py"
   ]
  },
  {
   "cell_type": "code",
   "execution_count": 9,
   "metadata": {},
   "outputs": [],
   "source": [
    "#Only do this once\n",
    "source_file = sys.path[0] + '\\\\models\\\\source_glove.txt'\n",
    "target_file = sys.path[0] + '\\\\models\\\\target_glove.txt'\n",
    "# Load the model, can take a bit of time\n",
    "source_glove_model = KeyedVectors.load_word2vec_format(source_file, binary=False, no_header=True)\n",
    "target_glove_model = KeyedVectors.load_word2vec_format(source_file, binary=False, no_header=True)"
   ]
  },
  {
   "cell_type": "code",
   "execution_count": 10,
   "metadata": {},
   "outputs": [
    {
     "name": "stdout",
     "output_type": "stream",
     "text": [
      "Cosine similarity between 'hi' and '.' - GloVe : -0.040690877\n",
      "Cosine similarity between 'hi' and 'run' - GloVe : 0.18727696\n",
      "Cosine similarity between 'bonjour' and '.' - GloVe : -0.03601673\n",
      "Cosine similarity between 'bonjour' and 'cours' - GloVe : 0.58794796\n"
     ]
    }
   ],
   "source": [
    "\n",
    "# Test the model\n",
    "test_similarity(source_glove_model, 'hi', '.', \"GloVe\", src=True)\n",
    "test_similarity(source_glove_model, 'hi', 'run', \"GloVe\", src=True)\n",
    "\n",
    "test_similarity(target_glove_model, 'bonjour', '.', \"GloVe\", src=False)\n",
    "test_similarity(target_glove_model, 'bonjour', 'cours', \"GloVe\", src=False)"
   ]
  },
  {
   "cell_type": "markdown",
   "metadata": {},
   "source": [
    "#FastText"
   ]
  },
  {
   "cell_type": "code",
   "execution_count": 11,
   "metadata": {},
   "outputs": [],
   "source": [
    "\"\"\"## FastText\"\"\"\n",
    "from gensim.models import FastText\n",
    "\n",
    "#if not saved yet we train it\n",
    "if not os.path.exists(sys.path[0] + \"/models/source_fast.txt\"):\n",
    "    source_fast_model = FastText(vector_size=100, window=5, min_count=1)\n",
    "    source_fast_model.build_vocab(corpus_file=sys.path[0] + '/samples/source.txt')\n",
    "    source_fast_model.train(corpus_file=sys.path[0] + '/samples/source.txt', epochs=10, total_examples=source_fast_model.corpus_count, total_words=source_fast_model.corpus_total_words)\n",
    "    source_fast_model = source_fast_model.wv\n"
   ]
  },
  {
   "cell_type": "code",
   "execution_count": 12,
   "metadata": {},
   "outputs": [],
   "source": [
    "if not os.path.exists(sys.path[0] + \"/models/target_fast.txt\"):\n",
    "    target_fast_model = FastText(vector_size=100, window=5, min_count=1)\n",
    "    target_fast_model.build_vocab(corpus_file=sys.path[0] + '/samples/target.txt')\n",
    "    target_fast_model.train(corpus_file=sys.path[0] + '/samples/target.txt', epochs=10, total_examples=target_fast_model.corpus_count, total_words=target_fast_model.corpus_total_words)\n",
    "    target_fast_model = target_fast_model.wv"
   ]
  },
  {
   "cell_type": "code",
   "execution_count": 13,
   "metadata": {},
   "outputs": [],
   "source": [
    "if not os.path.exists(sys.path[0] + \"/models/source_fast.txt\"):\n",
    "    source_fast_model.save_word2vec_format(sys.path[0] + \"/models/source_fast.txt\", binary=False)\n",
    "if not os.path.exists(sys.path[0] + \"/models/target_fast.txt\"):\n",
    "    target_fast_model.save_word2vec_format(sys.path[0] + \"/models/target_fast.txt\", binary=False)"
   ]
  },
  {
   "cell_type": "code",
   "execution_count": null,
   "metadata": {},
   "outputs": [],
   "source": [
    "#if saved we load it\n",
    "source_fast_model = KeyedVectors.load_word2vec_format(sys.path[0] + \"/models/source_fast.txt\", binary=False)\n",
    "target_fast_model = KeyedVectors.load_word2vec_format(sys.path[0] + \"/models/target_fast.txt\", binary=False)"
   ]
  },
  {
   "cell_type": "code",
   "execution_count": 14,
   "metadata": {},
   "outputs": [
    {
     "name": "stdout",
     "output_type": "stream",
     "text": [
      "Cosine similarity between 'hi' and '.' - FastText : 0.0125955455\n",
      "Cosine similarity between 'hi' and 'run' - FastText : 0.46142283\n",
      "Cosine similarity between 'bonjour' and '.' - FastText : 0.036570784\n",
      "Cosine similarity between 'bonjour' and 'cours' - FastText : 0.48764414\n"
     ]
    }
   ],
   "source": [
    "test_similarity(source_fast_model,'hi', '.', \"FastText\", src=True)\n",
    "test_similarity(source_fast_model,'hi', 'run', \"FastText\", src=True)\n",
    "\n",
    "test_similarity(target_fast_model,'bonjour', '.', \"FastText\", src=False)\n",
    "test_similarity(target_fast_model,'bonjour', 'cours', \"FastText\", src=False)"
   ]
  },
  {
   "cell_type": "markdown",
   "metadata": {},
   "source": [
    "RNN"
   ]
  },
  {
   "cell_type": "code",
   "execution_count": 25,
   "metadata": {},
   "outputs": [],
   "source": [
    "# Now we can create the RNN model that will translate from english to french using one of the previous embeddings\n",
    "\n",
    "from torch import nn\n",
    "import torch.nn.functional as F\n",
    "\n",
    "class RNN(nn.Sequential):\n",
    "    def __init__(self, embedding_model_input, embedding_model_output):\n",
    "        super(RNN, self).__init__()\n",
    "\n",
    "        self.embedding_in = embedding_model_input\n",
    "        self.embedding_out = torch.tensor(embedding_model_output.vectors, requires_grad=True).to(\"cuda\" if torch.cuda.is_available() else \"cpu\")\n",
    "\n",
    "        # The LSTM takes word embeddings as inputs, and outputs hidden states\n",
    "        # with dimensionality hidden_dim.\n",
    "        self.embedding_dim_in = embedding_model_input.vector_size\n",
    "        self.lstm_in = nn.LSTM(self.embedding_dim_in, self.embedding_dim_in, bidirectional=True)\n",
    "        self.hidden_in = nn.Linear(self.embedding_dim_in * 2, self.embedding_dim_in)\n",
    "        \n",
    "        self.embedding_dim_out = embedding_model_output.vector_size\n",
    "        self.lstm_out = nn.LSTM(self.embedding_dim_in, self.embedding_dim_out, bidirectional=True)\n",
    "        self.hidden_out = nn.Linear(self.embedding_dim_out * 2, self.embedding_dim_out)\n",
    "\n",
    "    def forward(self, input_sentence):\n",
    "        #words_embeddings is a gensim model\n",
    "        embeds = torch.tensor(np.array([[self.embedding_in[int(word.item())] if int(word.item()) in self.embedding_in else self.embedding_in.vectors.mean(axis=0) for word in sentence] for sentence in input_sentence]), requires_grad=True).to(\"cuda\" if torch.cuda.is_available() else \"cpu\")\n",
    "        \n",
    "        #encoder\n",
    "        output_lstm_1, _ = self.lstm_in(embeds.view(input_sentence.shape[0], input_sentence.shape[1], self.embedding_dim_in))\n",
    "        output_hidden_1 = self.hidden_in(output_lstm_1.view(input_sentence.shape[0], input_sentence.shape[1], self.embedding_dim_in * 2))\n",
    "        soft = F.log_softmax(output_hidden_1, dim=2)\n",
    "        \n",
    "        #decoder\n",
    "        output_lstm_2, _ = self.lstm_out(soft.view(input_sentence.shape[0], input_sentence.shape[1], self.embedding_dim_in))\n",
    "        output_hidden_2 = self.hidden_out(output_lstm_2.view(input_sentence.shape[0], input_sentence.shape[1], self.embedding_dim_out * 2))\n",
    "        \n",
    "        output_all = torch.matmul(output_hidden_2, self.embedding_out.transpose(0,1))\n",
    "\n",
    "        return torch.argmax(output_all, dim=2)"
   ]
  },
  {
   "cell_type": "code",
   "execution_count": 26,
   "metadata": {},
   "outputs": [],
   "source": [
    "#From this model we can create a loss function and an optimizer\n",
    "\n",
    "def loss_function(predicted_sentence, target_sentence, embedder):\n",
    "    \n",
    "    #embedding_model.similarity(str(predicted_sentence[i][j].item()), str(target_sentence[i][j].item())\n",
    "    return torch.tensor([1 - embedder.similarity(int(predicted_sentence[i][j].item()), int(target_sentence[i][j].item())) if int(predicted_sentence[i][j].item()) in embedder and int(target_sentence[i][j].item()) in embedder else 0 for i in range(predicted_sentence.shape[0]) for j in range(predicted_sentence.shape[1])], requires_grad=True).to(\"cuda\" if torch.cuda.is_available() else \"cpu\").mean()\n"
   ]
  },
  {
   "cell_type": "code",
   "execution_count": 17,
   "metadata": {},
   "outputs": [],
   "source": [
    "batch_size = 5\n",
    "\n",
    "data = MTFraEng(batch_size=batch_size)"
   ]
  },
  {
   "cell_type": "code",
   "execution_count": 18,
   "metadata": {},
   "outputs": [
    {
     "name": "stdout",
     "output_type": "stream",
     "text": [
      "800\n",
      "31600\n",
      "7000\n",
      "3000\n"
     ]
    }
   ],
   "source": [
    "usage_size = 50000\n",
    "\n",
    "print(len(data.get_dataloader(train=False)))\n",
    "print(len(data.get_dataloader(train=True)))\n",
    "print(len(data.shuffle(train=True, seed=0, maxi=usage_size)))\n",
    "print(len(data.shuffle(train=False, seed=0, maxi=usage_size)))"
   ]
  },
  {
   "cell_type": "code",
   "execution_count": 28,
   "metadata": {},
   "outputs": [
    {
     "name": "stdout",
     "output_type": "stream",
     "text": [
      "Ready\n",
      "tensor(1., device='cuda:0', dtype=torch.float64)\n",
      "None\n",
      "tensor(1., device='cuda:0', dtype=torch.float64)  estimated time : 4.832420349121094\n",
      "None\n",
      "tensor(1., device='cuda:0', dtype=torch.float64)  estimated time : 8.230265848636627\n",
      "None\n",
      "tensor(1., device='cuda:0', dtype=torch.float64)3  estimated time : 11.03786619222164\n",
      "None\n",
      "tensor(1., device='cuda:0', dtype=torch.float64)4  estimated time : 13.844456278187035\n",
      "None\n",
      "tensor(1., device='cuda:0', dtype=torch.float64)  estimated time : 16.301156031645238\n",
      "None\n",
      "tensor(1., device='cuda:0', dtype=torch.float64)  estimated time : 19.19261249321605\n",
      "None\n",
      "tensor(1., device='cuda:0', dtype=torch.float64)7  estimated time : 21.170549112131297\n",
      "None\n",
      "tensor(1., device='cuda:0', dtype=torch.float64)7  estimated time : 22.909218988906936\n",
      "None\n",
      "tensor(1., device='cuda:0', dtype=torch.float64)  estimated time : 24.770350179659342\n",
      "None\n",
      "tensor(1., device='cuda:0', dtype=torch.float64)26  estimated time : 26.607849735724592\n",
      "None\n",
      "tensor(1., device='cuda:0', dtype=torch.float64)5  estimated time : 28.423212563765325\n",
      "None\n",
      "tensor(1., device='cuda:0', dtype=torch.float64)6  estimated time : 30.357711866283083\n",
      "None\n",
      "tensor(1., device='cuda:0', dtype=torch.float64)8  estimated time : 32.33270667458026\n",
      "None\n",
      "tensor(1., device='cuda:0', dtype=torch.float64)1  estimated time : 33.58078358631557\n",
      "None\n",
      "tensor(1., device='cuda:0', dtype=torch.float64)64  estimated time : 35.041935337366304\n",
      "None\n",
      "tensor(1., device='cuda:0', dtype=torch.float64)2  estimated time : 36.19936149730539\n",
      "None\n",
      "tensor(1., device='cuda:0', dtype=torch.float64)07  estimated time : 37.53211549504143\n",
      "None\n",
      "tensor(1., device='cuda:0', dtype=torch.float64)56  estimated time : 38.58840688034261\n",
      "None\n",
      "tensor(1., device='cuda:0', dtype=torch.float64)2  estimated time : 39.73111021644023\n",
      "None\n",
      "tensor(1., device='cuda:0', dtype=torch.float64)06  estimated time : 41.09542485236962\n",
      "None\n",
      "tensor(1., device='cuda:0', dtype=torch.float64)25  estimated time : 42.11181406926956\n",
      "None\n",
      "tensor(1., device='cuda:0', dtype=torch.float64)5  estimated time : 43.007574870131954\n",
      "None\n",
      "New step :  23 / 7001  loss :  0.4517698413133622  estimated time : 43.58317701880675\r"
     ]
    },
    {
     "ename": "KeyboardInterrupt",
     "evalue": "",
     "output_type": "error",
     "traceback": [
      "\u001b[1;31m---------------------------------------------------------------------------\u001b[0m",
      "\u001b[1;31mKeyboardInterrupt\u001b[0m                         Traceback (most recent call last)",
      "Cell \u001b[1;32mIn [28], line 70\u001b[0m\n\u001b[0;32m     66\u001b[0m             \u001b[39mprint\u001b[39m(\u001b[39m\"\u001b[39m\u001b[39mLoss: \u001b[39m\u001b[39m\"\u001b[39m \u001b[39m+\u001b[39m \u001b[39mstr\u001b[39m(epoch_loss[epoch]))\n\u001b[0;32m     68\u001b[0m     \u001b[39mreturn\u001b[39;00m epoch_loss\n\u001b[1;32m---> 70\u001b[0m epoch_loss \u001b[39m=\u001b[39m train()\n",
      "Cell \u001b[1;32mIn [28], line 35\u001b[0m, in \u001b[0;36mtrain\u001b[1;34m()\u001b[0m\n\u001b[0;32m     31\u001b[0m optimizer\u001b[39m.\u001b[39mzero_grad()\n\u001b[0;32m     33\u001b[0m tag_scores \u001b[39m=\u001b[39m model(sentence)\n\u001b[1;32m---> 35\u001b[0m loss \u001b[39m=\u001b[39m loss_function(tag_scores, tags, embed_in)\n\u001b[0;32m     36\u001b[0m loss\u001b[39m.\u001b[39mretain_grad()\n\u001b[0;32m     38\u001b[0m loss\u001b[39m.\u001b[39mbackward()\n",
      "Cell \u001b[1;32mIn [26], line 6\u001b[0m, in \u001b[0;36mloss_function\u001b[1;34m(predicted_sentence, target_sentence, embedder)\u001b[0m\n\u001b[0;32m      3\u001b[0m \u001b[39mdef\u001b[39;00m \u001b[39mloss_function\u001b[39m(predicted_sentence, target_sentence, embedder):\n\u001b[0;32m      4\u001b[0m     \n\u001b[0;32m      5\u001b[0m     \u001b[39m#embedding_model.similarity(str(predicted_sentence[i][j].item()), str(target_sentence[i][j].item())\u001b[39;00m\n\u001b[1;32m----> 6\u001b[0m     \u001b[39mreturn\u001b[39;00m torch\u001b[39m.\u001b[39mtensor([\u001b[39m1\u001b[39m \u001b[39m-\u001b[39m embedder\u001b[39m.\u001b[39msimilarity(\u001b[39mint\u001b[39m(predicted_sentence[i][j]\u001b[39m.\u001b[39mitem()), \u001b[39mint\u001b[39m(target_sentence[i][j]\u001b[39m.\u001b[39mitem())) \u001b[39mif\u001b[39;00m \u001b[39mint\u001b[39m(predicted_sentence[i][j]\u001b[39m.\u001b[39mitem()) \u001b[39min\u001b[39;00m embedder \u001b[39mand\u001b[39;00m \u001b[39mint\u001b[39m(target_sentence[i][j]\u001b[39m.\u001b[39mitem()) \u001b[39min\u001b[39;00m embedder \u001b[39melse\u001b[39;00m \u001b[39m0\u001b[39m \u001b[39mfor\u001b[39;00m i \u001b[39min\u001b[39;00m \u001b[39mrange\u001b[39m(predicted_sentence\u001b[39m.\u001b[39mshape[\u001b[39m0\u001b[39m]) \u001b[39mfor\u001b[39;00m j \u001b[39min\u001b[39;00m \u001b[39mrange\u001b[39m(predicted_sentence\u001b[39m.\u001b[39mshape[\u001b[39m1\u001b[39m])], requires_grad\u001b[39m=\u001b[39m\u001b[39mTrue\u001b[39;00m)\u001b[39m.\u001b[39mto(\u001b[39m\"\u001b[39m\u001b[39mcuda\u001b[39m\u001b[39m\"\u001b[39m \u001b[39mif\u001b[39;00m torch\u001b[39m.\u001b[39mcuda\u001b[39m.\u001b[39mis_available() \u001b[39melse\u001b[39;00m \u001b[39m\"\u001b[39m\u001b[39mcpu\u001b[39m\u001b[39m\"\u001b[39m)\u001b[39m.\u001b[39mmean()\n",
      "Cell \u001b[1;32mIn [26], line 6\u001b[0m, in \u001b[0;36m<listcomp>\u001b[1;34m(.0)\u001b[0m\n\u001b[0;32m      3\u001b[0m \u001b[39mdef\u001b[39;00m \u001b[39mloss_function\u001b[39m(predicted_sentence, target_sentence, embedder):\n\u001b[0;32m      4\u001b[0m     \n\u001b[0;32m      5\u001b[0m     \u001b[39m#embedding_model.similarity(str(predicted_sentence[i][j].item()), str(target_sentence[i][j].item())\u001b[39;00m\n\u001b[1;32m----> 6\u001b[0m     \u001b[39mreturn\u001b[39;00m torch\u001b[39m.\u001b[39mtensor([\u001b[39m1\u001b[39m \u001b[39m-\u001b[39m embedder\u001b[39m.\u001b[39msimilarity(\u001b[39mint\u001b[39m(predicted_sentence[i][j]\u001b[39m.\u001b[39mitem()), \u001b[39mint\u001b[39m(target_sentence[i][j]\u001b[39m.\u001b[39mitem())) \u001b[39mif\u001b[39;00m \u001b[39mint\u001b[39m(predicted_sentence[i][j]\u001b[39m.\u001b[39mitem()) \u001b[39min\u001b[39;00m embedder \u001b[39mand\u001b[39;00m \u001b[39mint\u001b[39m(target_sentence[i][j]\u001b[39m.\u001b[39;49mitem()) \u001b[39min\u001b[39;00m embedder \u001b[39melse\u001b[39;00m \u001b[39m0\u001b[39m \u001b[39mfor\u001b[39;00m i \u001b[39min\u001b[39;00m \u001b[39mrange\u001b[39m(predicted_sentence\u001b[39m.\u001b[39mshape[\u001b[39m0\u001b[39m]) \u001b[39mfor\u001b[39;00m j \u001b[39min\u001b[39;00m \u001b[39mrange\u001b[39m(predicted_sentence\u001b[39m.\u001b[39mshape[\u001b[39m1\u001b[39m])], requires_grad\u001b[39m=\u001b[39m\u001b[39mTrue\u001b[39;00m)\u001b[39m.\u001b[39mto(\u001b[39m\"\u001b[39m\u001b[39mcuda\u001b[39m\u001b[39m\"\u001b[39m \u001b[39mif\u001b[39;00m torch\u001b[39m.\u001b[39mcuda\u001b[39m.\u001b[39mis_available() \u001b[39melse\u001b[39;00m \u001b[39m\"\u001b[39m\u001b[39mcpu\u001b[39m\u001b[39m\"\u001b[39m)\u001b[39m.\u001b[39mmean()\n",
      "\u001b[1;31mKeyboardInterrupt\u001b[0m: "
     ]
    }
   ],
   "source": [
    "#Now we can train the model\n",
    "import torch\n",
    "import time\n",
    "\n",
    "device = torch.device(\"cuda\" if torch.cuda.is_available() else \"cpu\")\n",
    "\n",
    "embed_in = source_fast_model\n",
    "embed_out = target_fast_model\n",
    "\n",
    "model = RNN(embedding_model_input=embed_in, embedding_model_output=embed_out ).to(device)\n",
    "\n",
    "optimizer = torch.optim.Adam(model.parameters(), lr=0.001)\n",
    "\n",
    "n_epoch = 10\n",
    "\n",
    "size_per_epoch = int(usage_size * 0.7 / batch_size) + 1\n",
    "\n",
    "print(\"Ready\")\n",
    "\n",
    "def train() :\n",
    "    epoch_loss = np.zeros(n_epoch)\n",
    "    for epoch in range(n_epoch):\n",
    "        counter = 0\n",
    "        time_avg = 0\n",
    "        for src, tgt, src_valid_len, label in data.shuffle(train=True, seed=0, maxi=usage_size):\n",
    "            time_start = time.time()\n",
    "            \n",
    "            sentence = src.to(device)\n",
    "            tags = tgt.to(device)\n",
    "            \n",
    "            optimizer.zero_grad()\n",
    "\n",
    "            tag_scores = model(sentence)\n",
    "\n",
    "            loss = loss_function(tag_scores, tags, embed_in)\n",
    "            loss.retain_grad()\n",
    "            \n",
    "            loss.backward()\n",
    "            \n",
    "            print(loss.grad)\n",
    "            print(model.hidden_out.weight.grad) #should't be None\n",
    "            \n",
    "            optimizer.step()\n",
    "\n",
    "            counter += 1\n",
    "            time_avg = time_avg * 0.95 + (time.time() - time_start) * (size_per_epoch - counter) * 0.01\n",
    "            print(\"New step : \", counter, \"/\", size_per_epoch, \" loss : \", loss.item(), \" estimated time :\", time_avg , end=\"\\r\")\n",
    "            \n",
    "        #here we can use the test data to evaluate the model\n",
    "        with torch.no_grad() :\n",
    "            losses = torch.zeros(int(usage_size * 0.3 / batch_size) + 1)\n",
    "            counter = 0\n",
    "            for src, tgt, src_valid_len, label in data.shuffle(train=False, seed=0, maxi=usage_size):\n",
    "                sentence = src.to(device)\n",
    "                tags = tgt.to(device)\n",
    "\n",
    "                tag_scores = model(sentence)\n",
    "\n",
    "                loss = loss_function(tag_scores, tags, embed_in)\n",
    "                \n",
    "                losses[counter] = loss.item()\n",
    "                counter += 1\n",
    "\n",
    "            epoch_loss[epoch] = losses.mean()\n",
    "            print(\"Epoch: {}/{}.............\".format(epoch, n_epoch), end=\" \")\n",
    "            print(\"Loss: \" + str(epoch_loss[epoch]))\n",
    "            \n",
    "    return epoch_loss\n",
    "            \n",
    "epoch_loss = train()\n",
    "    "
   ]
  },
  {
   "cell_type": "code",
   "execution_count": null,
   "metadata": {},
   "outputs": [],
   "source": [
    "import matplotlib.pyplot as plt\n",
    "\n",
    "plt.plot(epoch_loss)"
   ]
  },
  {
   "cell_type": "code",
   "execution_count": null,
   "metadata": {},
   "outputs": [],
   "source": [
    "#sample a sentence from the test set\n",
    "src, tgt, src_valid_len, label = next(iter(data.shuffle(train=False, seed=0, maxi=usage_size)))\n",
    "\n",
    "#translate the sentence\n",
    "\n",
    "sentence = src.to(device)\n",
    "\n",
    "tag_scores = model(sentence)\n",
    "\n",
    "#print the original sentence\n",
    "print(\"Original sentence : \")\n",
    "for word in src[0]:\n",
    "    print(token_to_word(word.item(), src=True), end=\" \")\n",
    "print()\n",
    "for word in src[0]:\n",
    "    print(word.item(), end=\" \")\n",
    "print()\n",
    "\n",
    "#print the translated sentence\n",
    "print(\"Translated sentence : \")\n",
    "for word in tag_scores[0]:\n",
    "    print(token_to_word(int(word.item()), src=False), end=\" \")\n",
    "print()\n",
    "for word in tag_scores[0]:\n",
    "    print(int(word.item()), end=\" \")\n",
    "print()\n",
    "\n",
    "#print the target sentence\n",
    "print(\"Target sentence : \")\n",
    "for word in tgt[0]:\n",
    "    print(token_to_word(word.item(), src=False), end=\" \")\n",
    "print()\n",
    "for word in tgt[0]:\n",
    "    print(word.item(), end=\" \")\n",
    "print()\n",
    "\n",
    "for word in label[0]:\n",
    "    print(token_to_word(word.item(), src=False), end=\" \")\n",
    "print()\n",
    "for word in label[0]:\n",
    "    print(word.item(), end=\" \")\n",
    "print()"
   ]
  },
  {
   "cell_type": "markdown",
   "metadata": {},
   "source": [
    "To this model we can now try to add contextual embeddings"
   ]
  },
  {
   "cell_type": "code",
   "execution_count": null,
   "metadata": {},
   "outputs": [],
   "source": [
    "#for contextual embedding we will use BERT\n",
    "\n",
    "import torch\n",
    "import torch.nn as nn\n",
    "from transformers import BertModel, BertTokenizer\n",
    "\n",
    "#we use bert and we will train it on the data\n",
    "bert_model = BertModel.from_pretrained('bert-base-uncased')\n",
    "#we will use the tokenizer to tokenize the sentences\n",
    "sentences = [\"I love machine learning\", \"I love coding in python\"]\n",
    "tokenizer = BertTokenizer.from_pretrained('bert-base-uncased')\n",
    "tokenized_texts = [tokenizer.tokenize(sent) for sent in sentences]"
   ]
  },
  {
   "cell_type": "code",
   "execution_count": null,
   "metadata": {},
   "outputs": [],
   "source": [
    "#Encoder Decoder architecture\n"
   ]
  },
  {
   "cell_type": "code",
   "execution_count": null,
   "metadata": {},
   "outputs": [],
   "source": [
    "evaluateRandomly(encoder1, attn_decoder1)"
   ]
  }
 ],
 "metadata": {
  "kernelspec": {
   "display_name": "Python 3 (ipykernel)",
   "language": "python",
   "name": "python3"
  },
  "language_info": {
   "codemirror_mode": {
    "name": "ipython",
    "version": 3
   },
   "file_extension": ".py",
   "mimetype": "text/x-python",
   "name": "python",
   "nbconvert_exporter": "python",
   "pygments_lexer": "ipython3",
   "version": "3.10.4"
  },
  "vscode": {
   "interpreter": {
    "hash": "fefcaccf17e39639418275c4a17d5ca0413e9c7c1af2b5e38e9064532ca76b63"
   }
  }
 },
 "nbformat": 4,
 "nbformat_minor": 4
}
